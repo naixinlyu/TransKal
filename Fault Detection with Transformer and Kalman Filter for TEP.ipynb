{
 "cells": [
  {
   "cell_type": "code",
   "execution_count": 1,
   "id": "b1ca4edc-b336-4483-a4ee-ec85461137d0",
   "metadata": {},
   "outputs": [],
   "source": [
    "import matplotlib.pyplot as plt\n",
    "import numpy as np\n",
    "import pandas as pd\n",
    "import pyreadr\n",
    "import torch\n",
    "import gc\n",
    "import torch.nn as nn\n",
    "from torch.utils.data import Dataset, DataLoader\n",
    "from sklearn.preprocessing import StandardScaler\n",
    "from sklearn.metrics import f1_score, accuracy_score, precision_recall_fscore_support\n",
    "from tqdm import tqdm\n",
    "import os\n",
    "import time\n",
    "from IPython.display import clear_output"
   ]
  },
  {
   "cell_type": "code",
   "execution_count": 2,
   "id": "71044f51-d398-4356-bb93-cf2a35698261",
   "metadata": {},
   "outputs": [
    {
     "name": "stdout",
     "output_type": "stream",
     "text": [
      "Using device: cuda\n"
     ]
    }
   ],
   "source": [
    "# Set device for PyTorch (GPU if available, otherwise CPU)\n",
    "device = torch.device('cuda' if torch.cuda.is_available() else 'cpu')\n",
    "print(f\"Using device: {device}\")"
   ]
  },
  {
   "cell_type": "code",
   "execution_count": 3,
   "id": "7302c4f7-de55-4195-aaa0-6c8a9a444bda",
   "metadata": {},
   "outputs": [
    {
     "name": "stdout",
     "output_type": "stream",
     "text": [
      "Loading datasets...\n",
      "Training fault-free data shape: (250000, 55)\n",
      "Training faulty data shape: (5000000, 55)\n",
      "Testing faulty data shape: (9600000, 55)\n"
     ]
    }
   ],
   "source": [
    "# Load datasets\n",
    "print(\"Loading datasets...\")\n",
    "df_train_faultfree = pyreadr.read_r(\"TEP_FaultFree_Training.RData\")['fault_free_training']\n",
    "df_train_faulty = pyreadr.read_r(\"TEP_Faulty_Training.RData\")['faulty_training']\n",
    "df_test_faulty = pyreadr.read_r(\"TEP_Faulty_Testing.RData\")['faulty_testing']\n",
    "\n",
    "print(f\"Training fault-free data shape: {df_train_faultfree.shape}\")\n",
    "print(f\"Training faulty data shape: {df_train_faulty.shape}\")\n",
    "print(f\"Testing faulty data shape: {df_test_faulty.shape}\")"
   ]
  },
  {
   "cell_type": "code",
   "execution_count": 4,
   "id": "33e5c163-5b03-4342-99ff-47fe11ecca9e",
   "metadata": {},
   "outputs": [],
   "source": [
    "# Kalman Filter implementation for smoothing predictions\n",
    "class KalmanFilter:\n",
    "    \"\"\"\n",
    "    Simple implementation of Kalman filter for 1D signal smoothing\n",
    "    \"\"\"\n",
    "    def __init__(self, dim_x, Q=1e-4, R=0.1):\n",
    "        \"\"\"\n",
    "        Initialize Kalman filter\n",
    "        \n",
    "        Args:\n",
    "            dim_x: State dimension\n",
    "            Q: Process noise covariance\n",
    "            R: Measurement noise covariance\n",
    "        \"\"\"\n",
    "        self.dim_x = dim_x\n",
    "        self.Q = Q\n",
    "        self.R = R\n",
    "        \n",
    "    def filter(self, y_noisy):\n",
    "        \"\"\"\n",
    "        Apply Kalman filtering to noisy observations\n",
    "        \n",
    "        Args:\n",
    "            y_noisy: Noisy observations\n",
    "            \n",
    "        Returns:\n",
    "            x_est: Filtered (smoothed) state estimates\n",
    "        \"\"\"\n",
    "        n = len(y_noisy)\n",
    "        x_est = np.zeros(n)  # State estimates\n",
    "        P = np.zeros(n)      # Error covariance\n",
    "        \n",
    "        # Initial state and covariance\n",
    "        x_est[0] = y_noisy[0]\n",
    "        P[0] = 1.0\n",
    "        \n",
    "        for k in tqdm(range(1, n), desc=\"Kalman filtering\", leave=False):\n",
    "            # Prediction step\n",
    "            x_pred = x_est[k-1]      # State prediction\n",
    "            P_pred = P[k-1] + self.Q  # Covariance prediction\n",
    "            \n",
    "            # Update step with measurement\n",
    "            K = P_pred / (P_pred + self.R)  # Kalman gain\n",
    "            x_est[k] = x_pred + K * (y_noisy[k] - x_pred)  # State update\n",
    "            P[k] = (1 - K) * P_pred   # Covariance update\n",
    "            \n",
    "        return x_est"
   ]
  },
  {
   "cell_type": "code",
   "execution_count": 5,
   "id": "8c76de27-192c-48c8-afb4-b6bf5b0a1a18",
   "metadata": {},
   "outputs": [],
   "source": [
    "import warnings\n",
    "warnings.filterwarnings(\"ignore\")"
   ]
  },
  {
   "cell_type": "code",
   "execution_count": 6,
   "id": "546f09c9-60e7-40d8-bc8e-95afbde19a10",
   "metadata": {},
   "outputs": [],
   "source": [
    "# Positional Encoding for Transformer model\n",
    "class PositionalEncoding(nn.Module):\n",
    "    \"\"\"\n",
    "    Positional encoding for Transformer model\n",
    "    Adds information about position of tokens in the sequence\n",
    "    \"\"\"\n",
    "    def __init__(self, d_model, dropout=0.1, max_len=5000):\n",
    "        super().__init__()\n",
    "        self.dropout = nn.Dropout(p=dropout)\n",
    "        \n",
    "        # Create positional encoding\n",
    "        pe = torch.zeros(max_len, d_model)\n",
    "        position = torch.arange(0, max_len, dtype=torch.float).unsqueeze(1)\n",
    "        div_term = torch.exp(torch.arange(0, d_model, 2).float() * (-np.log(10000.0) / d_model))\n",
    "        \n",
    "        pe[:, 0::2] = torch.sin(position * div_term)\n",
    "        pe[:, 1::2] = torch.cos(position * div_term)\n",
    "        pe = pe.unsqueeze(0)\n",
    "        \n",
    "        self.register_buffer('pe', pe)\n",
    "        \n",
    "    def forward(self, x):\n",
    "        \"\"\"\n",
    "        Add positional encoding to input\n",
    "        \n",
    "        Args:\n",
    "            x: Input tensor of shape (batch_size, seq_length, d_model)\n",
    "            \n",
    "        Returns:\n",
    "            Tensor with positional encoding added\n",
    "        \"\"\"\n",
    "        x = x + self.pe[:, :x.size(1), :]\n",
    "        return self.dropout(x)\n",
    "\n",
    "# Transformer-based anomaly detection model\n",
    "class TransformerPredictor(nn.Module):\n",
    "    \"\"\"\n",
    "    Transformer model for anomaly detection\n",
    "    \"\"\"\n",
    "    def __init__(self, input_dim, d_model=64, nhead=4, num_layers=2, dropout=0.1):\n",
    "        \"\"\"\n",
    "        Initialize Transformer model\n",
    "        \n",
    "        Args:\n",
    "            input_dim: Input feature dimension\n",
    "            d_model: Hidden dimension for the model\n",
    "            nhead: Number of attention heads\n",
    "            num_layers: Number of transformer encoder layers\n",
    "            dropout: Dropout probability\n",
    "        \"\"\"\n",
    "        super().__init__()\n",
    "        \n",
    "        # Input embedding\n",
    "        self.embedding = nn.Linear(input_dim, d_model)\n",
    "        \n",
    "        # Positional encoding\n",
    "        self.pos_encoder = PositionalEncoding(d_model, dropout)\n",
    "        \n",
    "        # Transformer encoder layers\n",
    "        encoder_layer = nn.TransformerEncoderLayer(\n",
    "            d_model=d_model, \n",
    "            nhead=nhead, \n",
    "            dim_feedforward=256, \n",
    "            dropout=dropout, \n",
    "            batch_first=True\n",
    "        )\n",
    "        \n",
    "        self.transformer_encoder = nn.TransformerEncoder(encoder_layer, num_layers=num_layers)\n",
    "        \n",
    "        # Output layer for anomaly detection (binary classification)\n",
    "        self.fc = nn.Linear(d_model, 1)\n",
    "        \n",
    "    def forward(self, x):\n",
    "        \"\"\"\n",
    "        Forward pass of the model\n",
    "        \n",
    "        Args:\n",
    "            x: Input tensor of shape (batch_size, seq_length, input_dim)\n",
    "            \n",
    "        Returns:\n",
    "            Output tensor of shape (batch_size, 1)\n",
    "        \"\"\"\n",
    "        batch_size, seq_len, _ = x.size()\n",
    "        \n",
    "        # Embedding and scale\n",
    "        x = self.embedding(x) * np.sqrt(self.embedding.out_features)\n",
    "        \n",
    "        # Add positional encoding\n",
    "        x = self.pos_encoder(x)\n",
    "        \n",
    "        # Create causal mask (lower triangular)\n",
    "        mask = torch.triu(torch.ones(seq_len, seq_len, device=x.device), diagonal=1).bool()\n",
    "        \n",
    "        # Pass through transformer encoder\n",
    "        x = self.transformer_encoder(x, mask=mask)\n",
    "        \n",
    "        # Get the output for the last position\n",
    "        output = self.fc(x[:, -1, :])\n",
    "        \n",
    "        return output"
   ]
  },
  {
   "cell_type": "code",
   "execution_count": 7,
   "id": "54583b83-f0e7-467d-aa90-60c31fc6ca27",
   "metadata": {},
   "outputs": [],
   "source": [
    "# Create PyTorch dataset\n",
    "class TEPDataset(Dataset):\n",
    "    \"\"\"\n",
    "    TEP dataset for PyTorch DataLoader\n",
    "    \"\"\"\n",
    "    def __init__(self, X, y):\n",
    "        self.X = X\n",
    "        self.y = y\n",
    "    \n",
    "    def __len__(self):\n",
    "        return len(self.X)\n",
    "    \n",
    "    def __getitem__(self, idx):\n",
    "        return self.X[idx], self.y[idx]"
   ]
  },
  {
   "cell_type": "code",
   "execution_count": 8,
   "id": "7746849c-f600-4678-aab6-b3295f0407f9",
   "metadata": {},
   "outputs": [],
   "source": [
    "# Create sliding window time series input\n",
    "def create_dataset(X, y, lookback=15):\n",
    "    \"\"\"\n",
    "    Create sliding window dataset: input is lookback steps, target is the next step\n",
    "    \n",
    "    Args:\n",
    "        X: Features array\n",
    "        y: Labels array\n",
    "        lookback: Number of time steps to look back\n",
    "        \n",
    "    Returns:\n",
    "        X_windows: Tensor of shape (n_samples, lookback, n_features)\n",
    "        y_windows: Tensor of target values\n",
    "    \"\"\"\n",
    "    print(f\"Creating sliding windows with lookback={lookback}...\")\n",
    "    X_windows, y_windows = [], []\n",
    "    \n",
    "    for i in tqdm(range(len(X) - lookback), desc=\"Creating windows\"):\n",
    "        X_windows.append(X[i:i+lookback])\n",
    "        y_windows.append(y[i+lookback])\n",
    "    \n",
    "    return torch.tensor(np.array(X_windows), dtype=torch.float32), torch.tensor(np.array(y_windows), dtype=torch.float32)"
   ]
  },
  {
   "cell_type": "code",
   "execution_count": 9,
   "id": "56808775-9ff1-42e3-82ad-877698c230e6",
   "metadata": {},
   "outputs": [],
   "source": [
    "# Neural network anomaly detector\n",
    "class NeuralAnomalyDetector:\n",
    "    \"\"\"\n",
    "    Neural network-based anomaly detector with Transformer model and Kalman filtering\n",
    "    \"\"\"\n",
    "    def __init__(self, input_dim, d_model=64, nhead=4, num_layers=2, dropout=0.1, Q=1e-4, R=0.1):\n",
    "        \"\"\"\n",
    "        Initialize detector\n",
    "        \n",
    "        Args:\n",
    "            input_dim: Input feature dimension\n",
    "            d_model: Hidden dimension for transformer\n",
    "            nhead: Number of attention heads\n",
    "            num_layers: Number of transformer layers\n",
    "            dropout: Dropout probability\n",
    "            Q: Process noise for Kalman filter\n",
    "            R: Measurement noise for Kalman filter\n",
    "        \"\"\"\n",
    "        self.transformer = TransformerPredictor(input_dim, d_model, nhead, num_layers, dropout)\n",
    "        self.kalman_filter = KalmanFilter(1, Q, R)\n",
    "        self.device = device\n",
    "        self.transformer.to(self.device)\n",
    "        \n",
    "        # Training related variables\n",
    "        self.train_losses = []\n",
    "        self.val_losses = []\n",
    "        self.epochs = []\n",
    "        self.current_epoch = 0\n",
    "        \n",
    "        # Checkpoint directory\n",
    "        self.checkpoint_dir = 'checkpoints'\n",
    "        os.makedirs(self.checkpoint_dir, exist_ok=True)\n",
    "        \n",
    "    def save_checkpoint(self, fault_type, epoch, optimizer, loss, filename=None):\n",
    "        \"\"\"\n",
    "        Save model checkpoint\n",
    "        \n",
    "        Args:\n",
    "            fault_type: Type of fault the model is trained for\n",
    "            epoch: Current epoch\n",
    "            optimizer: Optimizer state\n",
    "            loss: Current loss value\n",
    "            filename: Name of the checkpoint file\n",
    "        \"\"\"\n",
    "        if filename is None:\n",
    "            filename = f'fault_{fault_type}_checkpoint.pth'\n",
    "        path = os.path.join(self.checkpoint_dir, filename)\n",
    "        torch.save({\n",
    "            'fault_type': fault_type,\n",
    "            'epoch': epoch,\n",
    "            'model_state_dict': self.transformer.state_dict(),\n",
    "            'optimizer_state_dict': optimizer.state_dict(),\n",
    "            'loss': loss,\n",
    "            'train_losses': self.train_losses,\n",
    "            'val_losses': self.val_losses,\n",
    "            'epochs': self.epochs,\n",
    "            'current_epoch': self.current_epoch\n",
    "        }, path)\n",
    "        print(f\"Checkpoint saved at {path}\")\n",
    "        \n",
    "    def load_checkpoint(self, fault_type, optimizer, filename=None):\n",
    "        \"\"\"\n",
    "        Load model checkpoint\n",
    "        \n",
    "        Args:\n",
    "            fault_type: Type of fault the model is trained for\n",
    "            optimizer: Optimizer to load state into\n",
    "            filename: Name of the checkpoint file\n",
    "            \n",
    "        Returns:\n",
    "            epoch: Epoch of the checkpoint\n",
    "            loss: Loss value of the checkpoint\n",
    "        \"\"\"\n",
    "        if filename is None:\n",
    "            filename = f'fault_{fault_type}_checkpoint.pth'\n",
    "        path = os.path.join(self.checkpoint_dir, filename)\n",
    "        if os.path.exists(path):\n",
    "            checkpoint = torch.load(path, map_location=self.device)\n",
    "            self.transformer.load_state_dict(checkpoint['model_state_dict'])\n",
    "            optimizer.load_state_dict(checkpoint['optimizer_state_dict'])\n",
    "            self.train_losses = checkpoint['train_losses']\n",
    "            self.val_losses = checkpoint['val_losses']\n",
    "            self.epochs = checkpoint['epochs']\n",
    "            self.current_epoch = checkpoint['current_epoch']\n",
    "            print(f\"Checkpoint for fault type {fault_type} loaded from {path}, resuming from epoch {self.current_epoch}\")\n",
    "            return checkpoint['epoch'], checkpoint['loss']\n",
    "        else:\n",
    "            print(f\"No checkpoint found for fault type {fault_type} at {path}, starting from scratch\")\n",
    "            return 0, float('inf')\n",
    "        \n",
    "    def validate(self, val_loader):\n",
    "        \"\"\"\n",
    "        Validate model on validation set\n",
    "        \n",
    "        Args:\n",
    "            val_loader: Validation data loader\n",
    "            \n",
    "        Returns:\n",
    "            avg_val_loss: Average validation loss\n",
    "        \"\"\"\n",
    "        self.transformer.eval()\n",
    "        criterion = nn.BCEWithLogitsLoss()\n",
    "        total_loss = 0.0\n",
    "        \n",
    "        with torch.no_grad():\n",
    "            for X_batch, y_batch in val_loader:\n",
    "                X_batch, y_batch = X_batch.to(self.device), y_batch.to(self.device)\n",
    "                outputs = self.transformer(X_batch).squeeze()\n",
    "                \n",
    "                # Handle case when batch size is 1\n",
    "                if outputs.ndim == 0:\n",
    "                    outputs = outputs.unsqueeze(0)\n",
    "                    \n",
    "                loss = criterion(outputs, y_batch)\n",
    "                total_loss += loss.item()\n",
    "                \n",
    "        avg_val_loss = total_loss / len(val_loader)\n",
    "        return avg_val_loss\n",
    "        \n",
    "    def train_model(self, fault_type, train_loader, val_loader=None, num_epochs=30, lr=1e-3, resume=True, save_interval=5):\n",
    "        \"\"\"\n",
    "        Train the model with checkpoint support and real-time plotting\n",
    "        \n",
    "        Args:\n",
    "            fault_type: Type of fault the model is trained for\n",
    "            train_loader: Training data loader\n",
    "            val_loader: Validation data loader\n",
    "            num_epochs: Number of epochs to train\n",
    "            lr: Learning rate\n",
    "            resume: Whether to resume from checkpoint\n",
    "            save_interval: Interval to save checkpoints\n",
    "        \"\"\"\n",
    "        # Record current fault type\n",
    "        self.fault_type = fault_type\n",
    "        \n",
    "        # Use BCE loss for anomaly detection (binary classification)\n",
    "        criterion = nn.BCEWithLogitsLoss()\n",
    "        optimizer = torch.optim.Adam(self.transformer.parameters(), lr=lr)\n",
    "        \n",
    "        # Try to load checkpoint if resume is True\n",
    "        start_epoch = 0\n",
    "        best_loss = float('inf')\n",
    "        if resume:\n",
    "            start_epoch, best_loss = self.load_checkpoint(fault_type, optimizer)\n",
    "            self.current_epoch = start_epoch\n",
    "        \n",
    "        # Clear previous training records (if starting from scratch)\n",
    "        if start_epoch == 0:\n",
    "            self.train_losses = []\n",
    "            self.val_losses = []\n",
    "            self.epochs = []\n",
    "        \n",
    "        self.transformer.train()\n",
    "        \n",
    "        print(f\"Starting training for fault type {fault_type}...\")\n",
    "        try:\n",
    "            for epoch in range(start_epoch, start_epoch + num_epochs):\n",
    "                self.current_epoch = epoch\n",
    "                epoch_start_time = time.time()\n",
    "                total_loss = 0.0\n",
    "                \n",
    "                batch_pbar = tqdm(train_loader, desc=f\"Fault {fault_type} - Epoch {epoch+1}/{start_epoch + num_epochs}\", leave=False)\n",
    "                \n",
    "                for X_batch, y_batch in batch_pbar:\n",
    "                    X_batch, y_batch = X_batch.to(self.device), y_batch.to(self.device)\n",
    "                    \n",
    "                    optimizer.zero_grad()\n",
    "                    outputs = self.transformer(X_batch).squeeze()\n",
    "                    \n",
    "                    # Handle case when batch size is 1\n",
    "                    if outputs.ndim == 0:\n",
    "                        outputs = outputs.unsqueeze(0)\n",
    "                        \n",
    "                    loss = criterion(outputs, y_batch)\n",
    "                    loss.backward()\n",
    "                    optimizer.step()\n",
    "                    \n",
    "                    total_loss += loss.item()\n",
    "                    batch_pbar.set_postfix({\"batch_loss\": f\"{loss.item():.4f}\"})\n",
    "                \n",
    "                # Calculate average training loss\n",
    "                avg_train_loss = total_loss / len(train_loader)\n",
    "                \n",
    "                # Calculate validation loss if validation loader is provided\n",
    "                avg_val_loss = None\n",
    "                if val_loader:\n",
    "                    avg_val_loss = self.validate(val_loader)\n",
    "                    self.val_losses.append(avg_val_loss)\n",
    "                \n",
    "                # Record losses and epoch\n",
    "                self.train_losses.append(avg_train_loss)\n",
    "                self.epochs.append(epoch + 1)\n",
    "                \n",
    "                # Print epoch summary\n",
    "                epoch_time = time.time() - epoch_start_time\n",
    "                status = f\"Fault {fault_type} - Epoch {epoch+1}/{start_epoch + num_epochs}, Train Loss: {avg_train_loss:.4f}\"\n",
    "                if avg_val_loss:\n",
    "                    status += f\", Val Loss: {avg_val_loss:.4f}\"\n",
    "                status += f\", Time: {epoch_time:.2f}s\"\n",
    "                print(status)\n",
    "                \n",
    "                # Visualize training progress\n",
    "                if (epoch + 1) % 5 == 0:\n",
    "                    plt.figure(figsize=(10, 6))\n",
    "                    plt.plot(self.epochs, self.train_losses, 'b-', label='Training Loss')\n",
    "                    if self.val_losses:\n",
    "                        plt.plot(self.epochs, self.val_losses, 'r-', label='Validation Loss')\n",
    "                    plt.xlabel('Epoch')\n",
    "                    plt.ylabel('Loss')\n",
    "                    plt.title(f'Fault Type {fault_type} - Training and Validation Loss')\n",
    "                    plt.legend()\n",
    "                    plt.grid(True)\n",
    "                    plt.savefig(f'fault_{fault_type}_loss_epoch_{epoch+1}.png')\n",
    "                    plt.close()\n",
    "                \n",
    "                # Save checkpoint\n",
    "                if (epoch + 1) % save_interval == 0:\n",
    "                    self.save_checkpoint(fault_type, epoch + 1, optimizer, avg_train_loss, f'fault_{fault_type}_checkpoint_epoch_{epoch+1}.pth')\n",
    "                \n",
    "                # Save best model\n",
    "                current_loss = avg_val_loss if avg_val_loss else avg_train_loss\n",
    "                if current_loss < best_loss:\n",
    "                    best_loss = current_loss\n",
    "                    self.save_checkpoint(fault_type, epoch + 1, optimizer, current_loss, f'fault_{fault_type}_best_model.pth')\n",
    "                    print(f\"New best model for fault type {fault_type} saved with loss: {current_loss:.4f}\")\n",
    "                \n",
    "        except KeyboardInterrupt:\n",
    "            print(f\"Training for fault type {fault_type} interrupted! Saving checkpoint...\")\n",
    "            self.save_checkpoint(fault_type, epoch + 1, optimizer, avg_train_loss, f'fault_{fault_type}_interrupted_checkpoint.pth')\n",
    "        \n",
    "        # Save final model\n",
    "        self.save_checkpoint(fault_type, start_epoch + num_epochs, optimizer, self.train_losses[-1], f'fault_{fault_type}_final_model.pth')\n",
    "        print(f\"Training for fault type {fault_type} complete!\")\n",
    "    \n",
    "    def predict(self, X, threshold=0.5):\n",
    "        \"\"\"\n",
    "        Make predictions using the neural network and apply Kalman filtering\n",
    "        \n",
    "        Args:\n",
    "            X: Input data tensor or numpy array\n",
    "            threshold: Threshold for binary classification\n",
    "            \n",
    "        Returns:\n",
    "            anomalies: Binary anomaly predictions\n",
    "            filtered_scores: Continuous anomaly scores after Kalman filtering\n",
    "        \"\"\"\n",
    "        self.transformer.eval()\n",
    "        with torch.no_grad():\n",
    "            if isinstance(X, np.ndarray):\n",
    "                X_tensor = torch.tensor(X, dtype=torch.float32).to(self.device)\n",
    "            else:\n",
    "                X_tensor = X.to(self.device)\n",
    "            \n",
    "            outputs = self.transformer(X_tensor).squeeze()\n",
    "            \n",
    "            # Handle case when batch size is 1\n",
    "            if outputs.ndim == 0:\n",
    "                outputs = outputs.unsqueeze(0)\n",
    "                \n",
    "            raw_scores = torch.sigmoid(outputs).cpu().numpy()\n",
    "            \n",
    "            # Apply Kalman filtering to smooth predictions\n",
    "            filtered_scores = self.kalman_filter.filter(raw_scores)\n",
    "            \n",
    "            # Determine anomalies based on threshold\n",
    "            anomalies = filtered_scores > threshold\n",
    "            \n",
    "            return anomalies, filtered_scores\n",
    "\n",
    "# Train and evaluate model for each fault type\n",
    "def train_and_evaluate_fault_model(fault_type, df_train_faultfree, df_train_faulty, df_test_faulty, lookback=15, num_epochs=30, batch_size=16):\n",
    "    \"\"\"\n",
    "    Train and evaluate a model for a specific fault type\n",
    "    \n",
    "    Args:\n",
    "        fault_type: Type of fault to train for\n",
    "        df_train_faultfree: DataFrame with fault-free training data\n",
    "        df_train_faulty: DataFrame with faulty training data\n",
    "        df_test_faulty: DataFrame with faulty testing data\n",
    "        lookback: Number of time steps to look back\n",
    "        num_epochs: Number of epochs to train\n",
    "        batch_size: Batch size for training\n",
    "        \n",
    "    Returns:\n",
    "        results: Dictionary with evaluation metrics\n",
    "    \"\"\"\n",
    "    print(f\"\\n{'='*80}\")\n",
    "    print(f\"Processing Fault Type {fault_type}\")\n",
    "    print(f\"{'='*80}\")\n",
    "    \n",
    "    # Prepare training data\n",
    "    # Extract data for current fault type from training set\n",
    "    train_fault_data = df_train_faulty[df_train_faulty['faultNumber'] == fault_type]\n",
    "    \n",
    "    if len(train_fault_data) == 0:\n",
    "        print(f\"No training data found for fault type {fault_type}. Skipping...\")\n",
    "        return None\n",
    "    \n",
    "    # Prepare feature data (normal data and current fault type data)\n",
    "    X_train_normal = df_train_faultfree.iloc[:, 3:].values\n",
    "    X_train_fault = train_fault_data.iloc[:, 3:].values\n",
    "    \n",
    "    # Create labels: normal=0, fault=1\n",
    "    # Note: In training set, fault is introduced after sample 20 (1 hour, one sample every 3 minutes)\n",
    "    y_train_normal = np.zeros(len(X_train_normal))\n",
    "    y_train_fault = np.ones(len(X_train_fault))\n",
    "    y_train_fault[:20] = 0  # First 20 samples are normal\n",
    "    \n",
    "    # Combine training data\n",
    "    X_train = np.vstack([X_train_normal, X_train_fault])\n",
    "    y_train = np.concatenate([y_train_normal, y_train_fault])\n",
    "    \n",
    "    # Normalize data\n",
    "    scaler = StandardScaler()\n",
    "    X_train_scaled = scaler.fit_transform(X_train)\n",
    "    \n",
    "    # Create sliding window dataset\n",
    "    X_train_windows, y_train_windows = create_dataset(X_train_scaled, y_train, lookback)\n",
    "    \n",
    "    # Create training dataset\n",
    "    train_dataset = TEPDataset(X_train_windows, y_train_windows)\n",
    "    \n",
    "    # Split training and validation sets\n",
    "    from sklearn.model_selection import train_test_split\n",
    "    \n",
    "    train_indices, val_indices = train_test_split(\n",
    "        range(len(train_dataset)), \n",
    "        test_size=0.1, \n",
    "        random_state=42\n",
    "    )\n",
    "    \n",
    "    train_sampler = torch.utils.data.SubsetRandomSampler(train_indices)\n",
    "    val_sampler = torch.utils.data.SubsetRandomSampler(val_indices)\n",
    "    \n",
    "    train_loader = DataLoader(\n",
    "        train_dataset, \n",
    "        batch_size=batch_size, \n",
    "        sampler=train_sampler\n",
    "    )\n",
    "    \n",
    "    val_loader = DataLoader(\n",
    "        train_dataset,\n",
    "        batch_size=batch_size,\n",
    "        sampler=val_sampler\n",
    "    )\n",
    "    \n",
    "    # Initialize model\n",
    "    print(f\"Initializing model for fault type {fault_type}...\")\n",
    "    feature_dim = X_train_windows.shape[2]\n",
    "    model = NeuralAnomalyDetector(\n",
    "        input_dim=feature_dim,\n",
    "        d_model=64,      \n",
    "        nhead=4,         \n",
    "        num_layers=2,\n",
    "        dropout=0.1,\n",
    "        Q=1e-5,          \n",
    "        R=0.1            \n",
    "    )\n",
    "    \n",
    "    # Train model\n",
    "    model.train_model(\n",
    "        fault_type=fault_type,\n",
    "        train_loader=train_loader,\n",
    "        val_loader=val_loader,\n",
    "        num_epochs=num_epochs,\n",
    "        lr=1e-3,\n",
    "        resume=True,\n",
    "        save_interval=5\n",
    "    )\n",
    "    \n",
    "    # Prepare test data\n",
    "    # Extract data for current fault type from test set\n",
    "    test_fault_data = df_test_faulty[df_test_faulty['faultNumber'] == fault_type]\n",
    "    \n",
    "    if len(test_fault_data) == 0:\n",
    "        print(f\"No test data found for fault type {fault_type}. Skipping evaluation...\")\n",
    "        return model\n",
    "    \n",
    "    # Prepare test features\n",
    "    X_test = test_fault_data.iloc[:, 3:].values\n",
    "    \n",
    "    # Note: In test set, fault is introduced after sample 160 (8 hours, one sample every 3 minutes)\n",
    "    y_test = np.ones(len(X_test))\n",
    "    y_test[:160] = 0  # First 160 samples are normal\n",
    "    \n",
    "    # Normalize test data (using same parameters as training data)\n",
    "    X_test_scaled = scaler.transform(X_test)\n",
    "    \n",
    "    # Create sliding window test dataset\n",
    "    X_test_windows, y_test_windows = create_dataset(X_test_scaled, y_test, lookback)\n",
    "    \n",
    "    # Create test data loader\n",
    "    test_dataset = TEPDataset(X_test_windows, y_test_windows)\n",
    "    test_loader = DataLoader(test_dataset, batch_size=batch_size, shuffle=False)\n",
    "    \n",
    "    # Evaluate model\n",
    "    print(f\"Evaluating model for fault type {fault_type}...\")\n",
    "    \n",
    "    # Get predictions on test data\n",
    "    anomalies, scores = model.predict(X_test_windows)\n",
    "    \n",
    "    # Calculate evaluation metrics\n",
    "    try:\n",
    "        precision, recall, f1, _ = precision_recall_fscore_support(y_test_windows.numpy(), anomalies, average='binary')\n",
    "        accuracy = accuracy_score(y_test_windows.numpy(), anomalies)\n",
    "        \n",
    "        results = {\n",
    "            'fault_type': fault_type,\n",
    "            'precision': precision,\n",
    "            'recall': recall,\n",
    "            'f1': f1,\n",
    "            'accuracy': accuracy\n",
    "        }\n",
    "        \n",
    "        print(f\"Fault Type {fault_type} - Precision: {precision:.4f}, Recall: {recall:.4f}, F1: {f1:.4f}, Accuracy: {accuracy:.4f}\")\n",
    "\n",
    "        gc.collect()\n",
    "        torch.cuda.empty_cache()\n",
    "    \n",
    "        return results\n",
    "    \n",
    "    except Exception as e:\n",
    "        print(f\"Error evaluating fault type {fault_type}: {str(e)}\")\n",
    "    \n",
    "        gc.collect()\n",
    "        torch.cuda.empty_cache()\n",
    "    \n",
    "        return {'fault_type': fault_type, 'error': str(e)}\n",
    "        \n",
    "        # Visualize results\n",
    "        plt.figure(figsize=(12, 8))\n",
    "        \n",
    "        # Top plot: anomaly scores and detected anomalies\n",
    "        plt.subplot(2, 1, 1)\n",
    "        plt.plot(scores, label='Anomaly Score')\n",
    "        plt.scatter(np.where(anomalies)[0], scores[anomalies], color='r', label='Detected Anomalies')\n",
    "        plt.axvline(160-lookback, c='g', linestyle='--', label='Fault Introduction')\n",
    "        plt.axhline(0.5, c='k', linestyle='--', label='Threshold')\n",
    "        plt.title(f'Fault Type {fault_type} - Anomaly Detection Results')\n",
    "        plt.legend()\n",
    "        \n",
    "        # Bottom plot: true labels vs predicted labels\n",
    "        plt.subplot(2, 1, 2)\n",
    "        plt.plot(y_test_windows.numpy(), 'g-', label='True Labels')\n",
    "        plt.plot(anomalies, 'r--', label='Predicted Labels')\n",
    "        plt.axvline(160-lookback, c='g', linestyle='--', label='Fault Introduction')\n",
    "        plt.title(f'Fault Type {fault_type} - True vs Predicted Labels')\n",
    "        plt.xlabel('Sample')\n",
    "        plt.ylabel('Label (0=Normal, 1=Fault)')\n",
    "        plt.legend()\n",
    "        \n",
    "        plt.tight_layout()\n",
    "        plt.savefig(f'fault_{fault_type}_evaluation.png')\n",
    "        plt.close()\n",
    "        \n",
    "        return results\n",
    "    \n",
    "    except Exception as e:\n",
    "        print(f\"Error evaluating fault type {fault_type}: {str(e)}\")\n",
    "        return {'fault_type': fault_type, 'error': str(e)}"
   ]
  },
  {
   "cell_type": "code",
   "execution_count": 10,
   "id": "545d5ce9-bac9-480f-9155-93c52278f776",
   "metadata": {},
   "outputs": [],
   "source": [
    "# Main function\n",
    "def main():\n",
    "    \"\"\"\n",
    "    Main function to train and evaluate models for all fault types\n",
    "    \"\"\"\n",
    "    # Set parameters\n",
    "    lookback = 15\n",
    "    num_epochs = 30\n",
    "    batch_size = 16\n",
    "    \n",
    "    # Get all fault types\n",
    "    fault_types = sorted(df_train_faulty['faultNumber'].unique())\n",
    "    print(f\"Found fault types: {fault_types}\")\n",
    "    \n",
    "    # Store results for all fault types\n",
    "    all_results = {}\n",
    "    \n",
    "    # Train and evaluate model for each fault type individually\n",
    "    for fault_type in fault_types:\n",
    "        print(f\"\\nProcessing fault type {fault_type}...\")\n",
    "        result = train_and_evaluate_fault_model(\n",
    "            fault_type, \n",
    "            df_train_faultfree, \n",
    "            df_train_faulty, \n",
    "            df_test_faulty,\n",
    "            lookback=lookback,\n",
    "            num_epochs=num_epochs,\n",
    "            batch_size=batch_size\n",
    "        )\n",
    "        \n",
    "        if result:\n",
    "            all_results[fault_type] = result\n",
    "    \n",
    "    # Summarize results\n",
    "    print(\"\\n\" + \"=\"*80)\n",
    "    print(\"Summary of Results for All Fault Types\")\n",
    "    print(\"=\"*80)\n",
    "    \n",
    "    f1_scores = []\n",
    "    accuracies = []\n",
    "    \n",
    "    for fault_type, result in all_results.items():\n",
    "        if 'f1' in result:\n",
    "            print(f\"Fault {fault_type} - F1: {result['f1']:.4f}, Accuracy: {result['accuracy']:.4f}\")\n",
    "            f1_scores.append(result['f1'])\n",
    "            accuracies.append(result['accuracy'])\n",
    "    \n",
    "    if f1_scores:\n",
    "        print(\"\\nOverall Performance:\")\n",
    "        print(f\"Average F1 Score: {np.mean(f1_scores):.4f}\")\n",
    "        print(f\"Average Accuracy: {np.mean(accuracies):.4f}\")\n",
    "        \n",
    "        # Visualize F1 scores for different fault types\n",
    "        plt.figure(figsize=(15, 7))\n",
    "        fault_types = list(all_results.keys())\n",
    "        f1_values = [result.get('f1', 0) if 'f1' in result else 0 for result in all_results.values()]\n",
    "        \n",
    "        plt.bar(fault_types, f1_values)\n",
    "        plt.title('F1 Score by Fault Type')\n",
    "        plt.xlabel('Fault Type')\n",
    "        plt.ylabel('F1 Score')\n",
    "        plt.xticks(fault_types)\n",
    "        plt.ylim(0, 1.0)\n",
    "        plt.grid(True, axis='y', linestyle='--', alpha=0.7)\n",
    "        plt.savefig('fault_comparison_f1.png')\n",
    "        \n",
    "        # Visualize precision and recall for different fault types\n",
    "        plt.figure(figsize=(15, 7))\n",
    "        precision_values = [result.get('precision', 0) if 'precision' in result else 0 for result in all_results.values()]\n",
    "        recall_values = [result.get('recall', 0) if 'recall' in result else 0 for result in all_results.values()]\n",
    "        \n",
    "        x = np.arange(len(fault_types))\n",
    "        width = 0.35\n",
    "        \n",
    "        plt.bar(x - width/2, precision_values, width, label='Precision')\n",
    "        plt.bar(x + width/2, recall_values, width, label='Recall')\n",
    "        \n",
    "        plt.title('Precision and Recall by Fault Type')\n",
    "        plt.xlabel('Fault Type')\n",
    "        plt.ylabel('Score')\n",
    "        plt.xticks(x, fault_types)\n",
    "        plt.ylim(0, 1.0)\n",
    "        plt.legend()\n",
    "        plt.grid(True, axis='y', linestyle='--', alpha=0.7)\n",
    "        plt.savefig('fault_comparison_precision_recall.png')\n",
    "        \n",
    "        plt.show()\n",
    "    \n",
    "    return all_results"
   ]
  },
  {
   "cell_type": "code",
   "execution_count": null,
   "id": "73fb7a4d-2f73-45c7-af3c-574cc83070b1",
   "metadata": {
    "scrolled": true
   },
   "outputs": [
    {
     "name": "stdout",
     "output_type": "stream",
     "text": [
      "Found fault types: [1, 2, 3, 4, 5, 6, 7, 8, 9, 10, 11, 12, 13, 14, 15, 16, 17, 18, 19, 20]\n",
      "\n",
      "Processing fault type 1...\n",
      "\n",
      "================================================================================\n",
      "Processing Fault Type 1\n",
      "================================================================================\n",
      "Creating sliding windows with lookback=15...\n"
     ]
    },
    {
     "name": "stderr",
     "output_type": "stream",
     "text": [
      "Creating windows: 100%|██████████████████████████████████████████████████| 499985/499985 [00:00<00:00, 1702739.68it/s]\n"
     ]
    },
    {
     "name": "stdout",
     "output_type": "stream",
     "text": [
      "Initializing model for fault type 1...\n",
      "No checkpoint found for fault type 1 at checkpoints\\fault_1_checkpoint.pth, starting from scratch\n",
      "Starting training for fault type 1...\n"
     ]
    },
    {
     "name": "stderr",
     "output_type": "stream",
     "text": [
      "                                                                                                                      "
     ]
    },
    {
     "name": "stdout",
     "output_type": "stream",
     "text": [
      "Fault 1 - Epoch 1/30, Train Loss: 0.0435, Val Loss: 0.0415, Time: 456.67s\n",
      "Checkpoint saved at checkpoints\\fault_1_best_model.pth\n",
      "New best model for fault type 1 saved with loss: 0.0415\n"
     ]
    },
    {
     "name": "stderr",
     "output_type": "stream",
     "text": [
      "                                                                                                                      "
     ]
    },
    {
     "name": "stdout",
     "output_type": "stream",
     "text": [
      "Fault 1 - Epoch 2/30, Train Loss: 0.0400, Val Loss: 0.0417, Time: 383.82s\n"
     ]
    },
    {
     "name": "stderr",
     "output_type": "stream",
     "text": [
      "                                                                                                                      "
     ]
    },
    {
     "name": "stdout",
     "output_type": "stream",
     "text": [
      "Fault 1 - Epoch 3/30, Train Loss: 0.0396, Val Loss: 0.0389, Time: 386.03s\n",
      "Checkpoint saved at checkpoints\\fault_1_best_model.pth\n",
      "New best model for fault type 1 saved with loss: 0.0389\n"
     ]
    },
    {
     "name": "stderr",
     "output_type": "stream",
     "text": [
      "                                                                                                                      "
     ]
    },
    {
     "name": "stdout",
     "output_type": "stream",
     "text": [
      "Fault 1 - Epoch 4/30, Train Loss: 0.0375, Val Loss: 0.0358, Time: 358.82s\n",
      "Checkpoint saved at checkpoints\\fault_1_best_model.pth\n",
      "New best model for fault type 1 saved with loss: 0.0358\n"
     ]
    },
    {
     "name": "stderr",
     "output_type": "stream",
     "text": [
      "                                                                                                                      "
     ]
    },
    {
     "name": "stdout",
     "output_type": "stream",
     "text": [
      "Fault 1 - Epoch 5/30, Train Loss: 0.0333, Val Loss: 0.0308, Time: 360.97s\n",
      "Checkpoint saved at checkpoints\\fault_1_checkpoint_epoch_5.pth\n",
      "Checkpoint saved at checkpoints\\fault_1_best_model.pth\n",
      "New best model for fault type 1 saved with loss: 0.0308\n"
     ]
    },
    {
     "name": "stderr",
     "output_type": "stream",
     "text": [
      "                                                                                                                      "
     ]
    },
    {
     "name": "stdout",
     "output_type": "stream",
     "text": [
      "Fault 1 - Epoch 6/30, Train Loss: 0.0310, Val Loss: 0.0321, Time: 367.96s\n"
     ]
    },
    {
     "name": "stderr",
     "output_type": "stream",
     "text": [
      "                                                                                                                      "
     ]
    },
    {
     "name": "stdout",
     "output_type": "stream",
     "text": [
      "Fault 1 - Epoch 7/30, Train Loss: 0.0296, Val Loss: 0.0297, Time: 367.68s\n",
      "Checkpoint saved at checkpoints\\fault_1_best_model.pth\n",
      "New best model for fault type 1 saved with loss: 0.0297\n"
     ]
    },
    {
     "name": "stderr",
     "output_type": "stream",
     "text": [
      "                                                                                                                      "
     ]
    },
    {
     "name": "stdout",
     "output_type": "stream",
     "text": [
      "Fault 1 - Epoch 8/30, Train Loss: 0.0286, Val Loss: 0.0288, Time: 365.84s\n",
      "Checkpoint saved at checkpoints\\fault_1_best_model.pth\n",
      "New best model for fault type 1 saved with loss: 0.0288\n"
     ]
    },
    {
     "name": "stderr",
     "output_type": "stream",
     "text": [
      "                                                                                                                      "
     ]
    },
    {
     "name": "stdout",
     "output_type": "stream",
     "text": [
      "Fault 1 - Epoch 9/30, Train Loss: 0.0261, Val Loss: 0.0237, Time: 377.97s\n",
      "Checkpoint saved at checkpoints\\fault_1_best_model.pth\n",
      "New best model for fault type 1 saved with loss: 0.0237\n"
     ]
    },
    {
     "name": "stderr",
     "output_type": "stream",
     "text": [
      "                                                                                                                      "
     ]
    },
    {
     "name": "stdout",
     "output_type": "stream",
     "text": [
      "Fault 1 - Epoch 10/30, Train Loss: 0.0218, Val Loss: 0.0218, Time: 393.04s\n",
      "Checkpoint saved at checkpoints\\fault_1_checkpoint_epoch_10.pth\n",
      "Checkpoint saved at checkpoints\\fault_1_best_model.pth\n",
      "New best model for fault type 1 saved with loss: 0.0218\n"
     ]
    },
    {
     "name": "stderr",
     "output_type": "stream",
     "text": [
      "                                                                                                                      "
     ]
    },
    {
     "name": "stdout",
     "output_type": "stream",
     "text": [
      "Fault 1 - Epoch 11/30, Train Loss: 0.0202, Val Loss: 0.0230, Time: 385.29s\n"
     ]
    },
    {
     "name": "stderr",
     "output_type": "stream",
     "text": [
      "                                                                                                                      "
     ]
    },
    {
     "name": "stdout",
     "output_type": "stream",
     "text": [
      "Fault 1 - Epoch 12/30, Train Loss: 0.0196, Val Loss: 0.0199, Time: 369.62s\n",
      "Checkpoint saved at checkpoints\\fault_1_best_model.pth\n",
      "New best model for fault type 1 saved with loss: 0.0199\n"
     ]
    },
    {
     "name": "stderr",
     "output_type": "stream",
     "text": [
      "                                                                                                                      "
     ]
    },
    {
     "name": "stdout",
     "output_type": "stream",
     "text": [
      "Fault 1 - Epoch 13/30, Train Loss: 0.0194, Val Loss: 0.0202, Time: 387.38s\n"
     ]
    },
    {
     "name": "stderr",
     "output_type": "stream",
     "text": [
      "                                                                                                                      "
     ]
    },
    {
     "name": "stdout",
     "output_type": "stream",
     "text": [
      "Fault 1 - Epoch 14/30, Train Loss: 0.0190, Val Loss: 0.0212, Time: 384.38s\n"
     ]
    },
    {
     "name": "stderr",
     "output_type": "stream",
     "text": [
      "                                                                                                                      "
     ]
    },
    {
     "name": "stdout",
     "output_type": "stream",
     "text": [
      "Fault 1 - Epoch 15/30, Train Loss: 0.0184, Val Loss: 0.0184, Time: 391.82s\n",
      "Checkpoint saved at checkpoints\\fault_1_checkpoint_epoch_15.pth\n",
      "Checkpoint saved at checkpoints\\fault_1_best_model.pth\n",
      "New best model for fault type 1 saved with loss: 0.0184\n"
     ]
    },
    {
     "name": "stderr",
     "output_type": "stream",
     "text": [
      "                                                                                                                      "
     ]
    },
    {
     "name": "stdout",
     "output_type": "stream",
     "text": [
      "Fault 1 - Epoch 16/30, Train Loss: 0.0182, Val Loss: 0.0191, Time: 389.53s\n"
     ]
    },
    {
     "name": "stderr",
     "output_type": "stream",
     "text": [
      "                                                                                                                      "
     ]
    },
    {
     "name": "stdout",
     "output_type": "stream",
     "text": [
      "Fault 1 - Epoch 17/30, Train Loss: 0.0182, Val Loss: 0.0182, Time: 392.83s\n",
      "Checkpoint saved at checkpoints\\fault_1_best_model.pth\n",
      "New best model for fault type 1 saved with loss: 0.0182\n"
     ]
    },
    {
     "name": "stderr",
     "output_type": "stream",
     "text": [
      "                                                                                                                      "
     ]
    },
    {
     "name": "stdout",
     "output_type": "stream",
     "text": [
      "Fault 1 - Epoch 18/30, Train Loss: 0.0180, Val Loss: 0.0180, Time: 388.17s\n",
      "Checkpoint saved at checkpoints\\fault_1_best_model.pth\n",
      "New best model for fault type 1 saved with loss: 0.0180\n"
     ]
    },
    {
     "name": "stderr",
     "output_type": "stream",
     "text": [
      "                                                                                                                      "
     ]
    },
    {
     "name": "stdout",
     "output_type": "stream",
     "text": [
      "Fault 1 - Epoch 19/30, Train Loss: 0.0173, Val Loss: 0.0182, Time: 384.54s\n"
     ]
    },
    {
     "name": "stderr",
     "output_type": "stream",
     "text": [
      "                                                                                                                      "
     ]
    },
    {
     "name": "stdout",
     "output_type": "stream",
     "text": [
      "Fault 1 - Epoch 20/30, Train Loss: 0.0177, Val Loss: 0.0177, Time: 399.37s\n",
      "Checkpoint saved at checkpoints\\fault_1_checkpoint_epoch_20.pth\n",
      "Checkpoint saved at checkpoints\\fault_1_best_model.pth\n",
      "New best model for fault type 1 saved with loss: 0.0177\n"
     ]
    },
    {
     "name": "stderr",
     "output_type": "stream",
     "text": [
      "                                                                                                                      "
     ]
    },
    {
     "name": "stdout",
     "output_type": "stream",
     "text": [
      "Fault 1 - Epoch 21/30, Train Loss: 0.0178, Val Loss: 0.0179, Time: 386.45s\n"
     ]
    },
    {
     "name": "stderr",
     "output_type": "stream",
     "text": [
      "                                                                                                                      "
     ]
    },
    {
     "name": "stdout",
     "output_type": "stream",
     "text": [
      "Fault 1 - Epoch 22/30, Train Loss: 0.0171, Val Loss: 0.0189, Time: 395.62s\n"
     ]
    },
    {
     "name": "stderr",
     "output_type": "stream",
     "text": [
      "                                                                                                                      "
     ]
    },
    {
     "name": "stdout",
     "output_type": "stream",
     "text": [
      "Fault 1 - Epoch 23/30, Train Loss: 0.0173, Val Loss: 0.0185, Time: 392.71s\n"
     ]
    },
    {
     "name": "stderr",
     "output_type": "stream",
     "text": [
      "                                                                                                                      "
     ]
    },
    {
     "name": "stdout",
     "output_type": "stream",
     "text": [
      "Fault 1 - Epoch 24/30, Train Loss: 0.0169, Val Loss: 0.0175, Time: 397.92s\n",
      "Checkpoint saved at checkpoints\\fault_1_best_model.pth\n",
      "New best model for fault type 1 saved with loss: 0.0175\n"
     ]
    },
    {
     "name": "stderr",
     "output_type": "stream",
     "text": [
      "                                                                                                                      "
     ]
    },
    {
     "name": "stdout",
     "output_type": "stream",
     "text": [
      "Fault 1 - Epoch 25/30, Train Loss: 0.0172, Val Loss: 0.0192, Time: 423.23s\n",
      "Checkpoint saved at checkpoints\\fault_1_checkpoint_epoch_25.pth\n"
     ]
    },
    {
     "name": "stderr",
     "output_type": "stream",
     "text": [
      "                                                                                                                      "
     ]
    },
    {
     "name": "stdout",
     "output_type": "stream",
     "text": [
      "Fault 1 - Epoch 26/30, Train Loss: 0.0171, Val Loss: 0.0183, Time: 439.50s\n"
     ]
    },
    {
     "name": "stderr",
     "output_type": "stream",
     "text": [
      "                                                                                                                      "
     ]
    },
    {
     "name": "stdout",
     "output_type": "stream",
     "text": [
      "Fault 1 - Epoch 27/30, Train Loss: 0.0163, Val Loss: 0.0178, Time: 435.72s\n"
     ]
    },
    {
     "name": "stderr",
     "output_type": "stream",
     "text": [
      "                                                                                                                      "
     ]
    },
    {
     "name": "stdout",
     "output_type": "stream",
     "text": [
      "Fault 1 - Epoch 28/30, Train Loss: 0.0162, Val Loss: 0.0178, Time: 429.69s\n"
     ]
    },
    {
     "name": "stderr",
     "output_type": "stream",
     "text": [
      "                                                                                                                      "
     ]
    },
    {
     "name": "stdout",
     "output_type": "stream",
     "text": [
      "Fault 1 - Epoch 29/30, Train Loss: 0.0168, Val Loss: 0.0170, Time: 434.95s\n",
      "Checkpoint saved at checkpoints\\fault_1_best_model.pth\n",
      "New best model for fault type 1 saved with loss: 0.0170\n"
     ]
    },
    {
     "name": "stderr",
     "output_type": "stream",
     "text": [
      "                                                                                                                      "
     ]
    },
    {
     "name": "stdout",
     "output_type": "stream",
     "text": [
      "Fault 1 - Epoch 30/30, Train Loss: 0.0169, Val Loss: 0.0168, Time: 433.33s\n",
      "Checkpoint saved at checkpoints\\fault_1_checkpoint_epoch_30.pth\n",
      "Checkpoint saved at checkpoints\\fault_1_best_model.pth\n",
      "New best model for fault type 1 saved with loss: 0.0168\n",
      "Checkpoint saved at checkpoints\\fault_1_final_model.pth\n",
      "Training for fault type 1 complete!\n",
      "Creating sliding windows with lookback=15...\n"
     ]
    },
    {
     "name": "stderr",
     "output_type": "stream",
     "text": [
      "Creating windows: 100%|██████████████████████████████████████████████████| 479985/479985 [00:00<00:00, 1145280.03it/s]\n"
     ]
    },
    {
     "name": "stdout",
     "output_type": "stream",
     "text": [
      "Evaluating model for fault type 1...\n"
     ]
    },
    {
     "name": "stderr",
     "output_type": "stream",
     "text": [
      "                                                                                                                      "
     ]
    },
    {
     "name": "stdout",
     "output_type": "stream",
     "text": [
      "Fault Type 1 - Precision: 1.0000, Recall: 0.8769, F1: 0.9344, Accuracy: 0.8769\n",
      "\n",
      "Processing fault type 2...\n",
      "\n",
      "================================================================================\n",
      "Processing Fault Type 2\n",
      "================================================================================\n",
      "Creating sliding windows with lookback=15...\n"
     ]
    },
    {
     "name": "stderr",
     "output_type": "stream",
     "text": [
      "Creating windows: 100%|██████████████████████████████████████████████████| 499985/499985 [00:00<00:00, 1523111.96it/s]\n"
     ]
    },
    {
     "name": "stdout",
     "output_type": "stream",
     "text": [
      "Initializing model for fault type 2...\n",
      "No checkpoint found for fault type 2 at checkpoints\\fault_2_checkpoint.pth, starting from scratch\n",
      "Starting training for fault type 2...\n"
     ]
    },
    {
     "name": "stderr",
     "output_type": "stream",
     "text": [
      "                                                                                                                      "
     ]
    },
    {
     "name": "stdout",
     "output_type": "stream",
     "text": [
      "Fault 2 - Epoch 1/30, Train Loss: 0.0583, Val Loss: 0.0454, Time: 475.99s\n",
      "Checkpoint saved at checkpoints\\fault_2_best_model.pth\n",
      "New best model for fault type 2 saved with loss: 0.0454\n"
     ]
    },
    {
     "name": "stderr",
     "output_type": "stream",
     "text": [
      "                                                                                                                      "
     ]
    },
    {
     "name": "stdout",
     "output_type": "stream",
     "text": [
      "Fault 2 - Epoch 2/30, Train Loss: 0.0409, Val Loss: 0.0416, Time: 435.66s\n",
      "Checkpoint saved at checkpoints\\fault_2_best_model.pth\n",
      "New best model for fault type 2 saved with loss: 0.0416\n"
     ]
    },
    {
     "name": "stderr",
     "output_type": "stream",
     "text": [
      "                                                                                                                      "
     ]
    },
    {
     "name": "stdout",
     "output_type": "stream",
     "text": [
      "Fault 2 - Epoch 3/30, Train Loss: 0.0366, Val Loss: 0.0386, Time: 438.87s\n",
      "Checkpoint saved at checkpoints\\fault_2_best_model.pth\n",
      "New best model for fault type 2 saved with loss: 0.0386\n"
     ]
    },
    {
     "name": "stderr",
     "output_type": "stream",
     "text": [
      "                                                                                                                      "
     ]
    },
    {
     "name": "stdout",
     "output_type": "stream",
     "text": [
      "Fault 2 - Epoch 4/30, Train Loss: 0.0341, Val Loss: 0.0356, Time: 440.62s\n",
      "Checkpoint saved at checkpoints\\fault_2_best_model.pth\n",
      "New best model for fault type 2 saved with loss: 0.0356\n"
     ]
    },
    {
     "name": "stderr",
     "output_type": "stream",
     "text": [
      "                                                                                                                      "
     ]
    },
    {
     "name": "stdout",
     "output_type": "stream",
     "text": [
      "Fault 2 - Epoch 5/30, Train Loss: 0.0307, Val Loss: 0.0319, Time: 434.50s\n",
      "Checkpoint saved at checkpoints\\fault_2_checkpoint_epoch_5.pth\n",
      "Checkpoint saved at checkpoints\\fault_2_best_model.pth\n",
      "New best model for fault type 2 saved with loss: 0.0319\n"
     ]
    },
    {
     "name": "stderr",
     "output_type": "stream",
     "text": [
      "                                                                                                                      "
     ]
    },
    {
     "name": "stdout",
     "output_type": "stream",
     "text": [
      "Fault 2 - Epoch 6/30, Train Loss: 0.0290, Val Loss: 0.0277, Time: 428.69s\n",
      "Checkpoint saved at checkpoints\\fault_2_best_model.pth\n",
      "New best model for fault type 2 saved with loss: 0.0277\n"
     ]
    },
    {
     "name": "stderr",
     "output_type": "stream",
     "text": [
      "                                                                                                                      "
     ]
    },
    {
     "name": "stdout",
     "output_type": "stream",
     "text": [
      "Fault 2 - Epoch 7/30, Train Loss: 0.0280, Val Loss: 0.0277, Time: 439.36s\n"
     ]
    },
    {
     "name": "stderr",
     "output_type": "stream",
     "text": [
      "                                                                                                                      "
     ]
    },
    {
     "name": "stdout",
     "output_type": "stream",
     "text": [
      "Fault 2 - Epoch 8/30, Train Loss: 0.0267, Val Loss: 0.0312, Time: 436.08s\n"
     ]
    },
    {
     "name": "stderr",
     "output_type": "stream",
     "text": [
      "                                                                                                                      "
     ]
    },
    {
     "name": "stdout",
     "output_type": "stream",
     "text": [
      "Fault 2 - Epoch 9/30, Train Loss: 0.0271, Val Loss: 0.0277, Time: 435.84s\n"
     ]
    },
    {
     "name": "stderr",
     "output_type": "stream",
     "text": [
      "                                                                                                                      "
     ]
    },
    {
     "name": "stdout",
     "output_type": "stream",
     "text": [
      "Fault 2 - Epoch 10/30, Train Loss: 0.0266, Val Loss: 0.0275, Time: 436.71s\n",
      "Checkpoint saved at checkpoints\\fault_2_checkpoint_epoch_10.pth\n",
      "Checkpoint saved at checkpoints\\fault_2_best_model.pth\n",
      "New best model for fault type 2 saved with loss: 0.0275\n"
     ]
    },
    {
     "name": "stderr",
     "output_type": "stream",
     "text": [
      "                                                                                                                      "
     ]
    },
    {
     "name": "stdout",
     "output_type": "stream",
     "text": [
      "Fault 2 - Epoch 11/30, Train Loss: 0.0262, Val Loss: 0.0274, Time: 441.15s\n",
      "Checkpoint saved at checkpoints\\fault_2_best_model.pth\n",
      "New best model for fault type 2 saved with loss: 0.0274\n"
     ]
    },
    {
     "name": "stderr",
     "output_type": "stream",
     "text": [
      "                                                                                                                      "
     ]
    },
    {
     "name": "stdout",
     "output_type": "stream",
     "text": [
      "Fault 2 - Epoch 12/30, Train Loss: 0.0256, Val Loss: 0.0258, Time: 431.05s\n",
      "Checkpoint saved at checkpoints\\fault_2_best_model.pth\n",
      "New best model for fault type 2 saved with loss: 0.0258\n"
     ]
    },
    {
     "name": "stderr",
     "output_type": "stream",
     "text": [
      "                                                                                                                      "
     ]
    },
    {
     "name": "stdout",
     "output_type": "stream",
     "text": [
      "Fault 2 - Epoch 13/30, Train Loss: 0.0253, Val Loss: 0.0247, Time: 429.33s\n",
      "Checkpoint saved at checkpoints\\fault_2_best_model.pth\n",
      "New best model for fault type 2 saved with loss: 0.0247\n"
     ]
    },
    {
     "name": "stderr",
     "output_type": "stream",
     "text": [
      "                                                                                                                      "
     ]
    },
    {
     "name": "stdout",
     "output_type": "stream",
     "text": [
      "Fault 2 - Epoch 14/30, Train Loss: 0.0248, Val Loss: 0.0252, Time: 424.83s\n"
     ]
    },
    {
     "name": "stderr",
     "output_type": "stream",
     "text": [
      "                                                                                                                      "
     ]
    },
    {
     "name": "stdout",
     "output_type": "stream",
     "text": [
      "Fault 2 - Epoch 15/30, Train Loss: 0.0248, Val Loss: 0.0244, Time: 366.36s\n",
      "Checkpoint saved at checkpoints\\fault_2_checkpoint_epoch_15.pth\n",
      "Checkpoint saved at checkpoints\\fault_2_best_model.pth\n",
      "New best model for fault type 2 saved with loss: 0.0244\n"
     ]
    },
    {
     "name": "stderr",
     "output_type": "stream",
     "text": [
      "                                                                                                                      "
     ]
    },
    {
     "name": "stdout",
     "output_type": "stream",
     "text": [
      "Fault 2 - Epoch 16/30, Train Loss: 0.0243, Val Loss: 0.0243, Time: 332.58s\n",
      "Checkpoint saved at checkpoints\\fault_2_best_model.pth\n",
      "New best model for fault type 2 saved with loss: 0.0243\n"
     ]
    },
    {
     "name": "stderr",
     "output_type": "stream",
     "text": [
      "                                                                                                                      "
     ]
    },
    {
     "name": "stdout",
     "output_type": "stream",
     "text": [
      "Fault 2 - Epoch 17/30, Train Loss: 0.0242, Val Loss: 0.0253, Time: 322.88s\n"
     ]
    },
    {
     "name": "stderr",
     "output_type": "stream",
     "text": [
      "                                                                                                                      "
     ]
    },
    {
     "name": "stdout",
     "output_type": "stream",
     "text": [
      "Fault 2 - Epoch 18/30, Train Loss: 0.0240, Val Loss: 0.0243, Time: 317.77s\n"
     ]
    },
    {
     "name": "stderr",
     "output_type": "stream",
     "text": [
      "                                                                                                                      "
     ]
    },
    {
     "name": "stdout",
     "output_type": "stream",
     "text": [
      "Fault 2 - Epoch 19/30, Train Loss: 0.0241, Val Loss: 0.0253, Time: 319.82s\n"
     ]
    },
    {
     "name": "stderr",
     "output_type": "stream",
     "text": [
      "                                                                                                                      "
     ]
    },
    {
     "name": "stdout",
     "output_type": "stream",
     "text": [
      "Fault 2 - Epoch 20/30, Train Loss: 0.0237, Val Loss: 0.0294, Time: 326.03s\n",
      "Checkpoint saved at checkpoints\\fault_2_checkpoint_epoch_20.pth\n"
     ]
    },
    {
     "name": "stderr",
     "output_type": "stream",
     "text": [
      "                                                                                                                      "
     ]
    },
    {
     "name": "stdout",
     "output_type": "stream",
     "text": [
      "Fault 2 - Epoch 21/30, Train Loss: 0.0236, Val Loss: 0.0236, Time: 320.41s\n",
      "Checkpoint saved at checkpoints\\fault_2_best_model.pth\n",
      "New best model for fault type 2 saved with loss: 0.0236\n"
     ]
    },
    {
     "name": "stderr",
     "output_type": "stream",
     "text": [
      "                                                                                                                      "
     ]
    },
    {
     "name": "stdout",
     "output_type": "stream",
     "text": [
      "Fault 2 - Epoch 22/30, Train Loss: 0.0239, Val Loss: 0.0232, Time: 325.12s\n",
      "Checkpoint saved at checkpoints\\fault_2_best_model.pth\n",
      "New best model for fault type 2 saved with loss: 0.0232\n"
     ]
    },
    {
     "name": "stderr",
     "output_type": "stream",
     "text": [
      "                                                                                                                      "
     ]
    },
    {
     "name": "stdout",
     "output_type": "stream",
     "text": [
      "Fault 2 - Epoch 23/30, Train Loss: 0.0237, Val Loss: 0.0242, Time: 327.44s\n"
     ]
    },
    {
     "name": "stderr",
     "output_type": "stream",
     "text": [
      "                                                                                                                      "
     ]
    },
    {
     "name": "stdout",
     "output_type": "stream",
     "text": [
      "Fault 2 - Epoch 24/30, Train Loss: 0.0247, Val Loss: 0.0262, Time: 322.12s\n"
     ]
    },
    {
     "name": "stderr",
     "output_type": "stream",
     "text": [
      "                                                                                                                      "
     ]
    },
    {
     "name": "stdout",
     "output_type": "stream",
     "text": [
      "Fault 2 - Epoch 25/30, Train Loss: 0.0239, Val Loss: 0.0247, Time: 323.04s\n",
      "Checkpoint saved at checkpoints\\fault_2_checkpoint_epoch_25.pth\n"
     ]
    },
    {
     "name": "stderr",
     "output_type": "stream",
     "text": [
      "                                                                                                                      "
     ]
    },
    {
     "name": "stdout",
     "output_type": "stream",
     "text": [
      "Fault 2 - Epoch 26/30, Train Loss: 0.0239, Val Loss: 0.0266, Time: 325.01s\n"
     ]
    },
    {
     "name": "stderr",
     "output_type": "stream",
     "text": [
      "                                                                                                                      "
     ]
    },
    {
     "name": "stdout",
     "output_type": "stream",
     "text": [
      "Fault 2 - Epoch 27/30, Train Loss: 0.0236, Val Loss: 0.0256, Time: 325.87s\n"
     ]
    },
    {
     "name": "stderr",
     "output_type": "stream",
     "text": [
      "                                                                                                                      "
     ]
    },
    {
     "name": "stdout",
     "output_type": "stream",
     "text": [
      "Fault 2 - Epoch 28/30, Train Loss: 0.0233, Val Loss: 0.0235, Time: 324.31s\n"
     ]
    },
    {
     "name": "stderr",
     "output_type": "stream",
     "text": [
      "                                                                                                                      "
     ]
    },
    {
     "name": "stdout",
     "output_type": "stream",
     "text": [
      "Fault 2 - Epoch 29/30, Train Loss: 0.0234, Val Loss: 0.0241, Time: 320.03s\n"
     ]
    },
    {
     "name": "stderr",
     "output_type": "stream",
     "text": [
      "                                                                                                                      "
     ]
    },
    {
     "name": "stdout",
     "output_type": "stream",
     "text": [
      "Fault 2 - Epoch 30/30, Train Loss: 0.0237, Val Loss: 0.0240, Time: 355.29s\n",
      "Checkpoint saved at checkpoints\\fault_2_checkpoint_epoch_30.pth\n",
      "Checkpoint saved at checkpoints\\fault_2_final_model.pth\n",
      "Training for fault type 2 complete!\n",
      "Creating sliding windows with lookback=15...\n"
     ]
    },
    {
     "name": "stderr",
     "output_type": "stream",
     "text": [
      "Creating windows: 100%|███████████████████████████████████████████████████| 479985/479985 [00:00<00:00, 871234.72it/s]\n"
     ]
    },
    {
     "name": "stdout",
     "output_type": "stream",
     "text": [
      "Evaluating model for fault type 2...\n"
     ]
    },
    {
     "name": "stderr",
     "output_type": "stream",
     "text": [
      "                                                                                                                      "
     ]
    },
    {
     "name": "stdout",
     "output_type": "stream",
     "text": [
      "Fault Type 2 - Precision: 1.0000, Recall: 0.8676, F1: 0.9291, Accuracy: 0.8677\n",
      "\n",
      "Processing fault type 3...\n",
      "\n",
      "================================================================================\n",
      "Processing Fault Type 3\n",
      "================================================================================\n",
      "Creating sliding windows with lookback=15...\n"
     ]
    },
    {
     "name": "stderr",
     "output_type": "stream",
     "text": [
      "Creating windows: 100%|██████████████████████████████████████████████████| 499985/499985 [00:00<00:00, 1182598.60it/s]\n"
     ]
    },
    {
     "name": "stdout",
     "output_type": "stream",
     "text": [
      "Initializing model for fault type 3...\n",
      "No checkpoint found for fault type 3 at checkpoints\\fault_3_checkpoint.pth, starting from scratch\n",
      "Starting training for fault type 3...\n"
     ]
    },
    {
     "name": "stderr",
     "output_type": "stream",
     "text": [
      "                                                                                                                      "
     ]
    },
    {
     "name": "stdout",
     "output_type": "stream",
     "text": [
      "Fault 3 - Epoch 1/30, Train Loss: 0.3263, Val Loss: 0.2500, Time: 373.42s\n",
      "Checkpoint saved at checkpoints\\fault_3_best_model.pth\n",
      "New best model for fault type 3 saved with loss: 0.2500\n"
     ]
    },
    {
     "name": "stderr",
     "output_type": "stream",
     "text": [
      "                                                                                                                      "
     ]
    },
    {
     "name": "stdout",
     "output_type": "stream",
     "text": [
      "Fault 3 - Epoch 2/30, Train Loss: 0.2367, Val Loss: 0.2150, Time: 350.20s\n",
      "Checkpoint saved at checkpoints\\fault_3_best_model.pth\n",
      "New best model for fault type 3 saved with loss: 0.2150\n"
     ]
    },
    {
     "name": "stderr",
     "output_type": "stream",
     "text": [
      "                                                                                                                      "
     ]
    },
    {
     "name": "stdout",
     "output_type": "stream",
     "text": [
      "Fault 3 - Epoch 3/30, Train Loss: 0.2235, Val Loss: 0.2266, Time: 334.82s\n"
     ]
    },
    {
     "name": "stderr",
     "output_type": "stream",
     "text": [
      "                                                                                                                      "
     ]
    },
    {
     "name": "stdout",
     "output_type": "stream",
     "text": [
      "Fault 3 - Epoch 4/30, Train Loss: 0.2137, Val Loss: 0.2238, Time: 349.59s\n"
     ]
    },
    {
     "name": "stderr",
     "output_type": "stream",
     "text": [
      "                                                                                                                      "
     ]
    },
    {
     "name": "stdout",
     "output_type": "stream",
     "text": [
      "Fault 3 - Epoch 5/30, Train Loss: 0.2061, Val Loss: 0.1986, Time: 350.49s\n",
      "Checkpoint saved at checkpoints\\fault_3_checkpoint_epoch_5.pth\n",
      "Checkpoint saved at checkpoints\\fault_3_best_model.pth\n",
      "New best model for fault type 3 saved with loss: 0.1986\n"
     ]
    },
    {
     "name": "stderr",
     "output_type": "stream",
     "text": [
      "                                                                                                                      "
     ]
    },
    {
     "name": "stdout",
     "output_type": "stream",
     "text": [
      "Fault 3 - Epoch 6/30, Train Loss: 0.1996, Val Loss: 0.2469, Time: 329.56s\n"
     ]
    },
    {
     "name": "stderr",
     "output_type": "stream",
     "text": [
      "                                                                                                                      "
     ]
    },
    {
     "name": "stdout",
     "output_type": "stream",
     "text": [
      "Fault 3 - Epoch 7/30, Train Loss: 0.1953, Val Loss: 0.1916, Time: 386.78s\n",
      "Checkpoint saved at checkpoints\\fault_3_best_model.pth\n",
      "New best model for fault type 3 saved with loss: 0.1916\n"
     ]
    },
    {
     "name": "stderr",
     "output_type": "stream",
     "text": [
      "                                                                                                                      "
     ]
    },
    {
     "name": "stdout",
     "output_type": "stream",
     "text": [
      "Fault 3 - Epoch 8/30, Train Loss: 0.1909, Val Loss: 0.1870, Time: 387.35s\n",
      "Checkpoint saved at checkpoints\\fault_3_best_model.pth\n",
      "New best model for fault type 3 saved with loss: 0.1870\n"
     ]
    },
    {
     "name": "stderr",
     "output_type": "stream",
     "text": [
      "                                                                                                                      "
     ]
    },
    {
     "name": "stdout",
     "output_type": "stream",
     "text": [
      "Fault 3 - Epoch 9/30, Train Loss: 0.1877, Val Loss: 0.2065, Time: 398.01s\n"
     ]
    },
    {
     "name": "stderr",
     "output_type": "stream",
     "text": [
      "                                                                                                                      "
     ]
    },
    {
     "name": "stdout",
     "output_type": "stream",
     "text": [
      "Fault 3 - Epoch 10/30, Train Loss: 0.1846, Val Loss: 0.1749, Time: 393.96s\n",
      "Checkpoint saved at checkpoints\\fault_3_checkpoint_epoch_10.pth\n",
      "Checkpoint saved at checkpoints\\fault_3_best_model.pth\n",
      "New best model for fault type 3 saved with loss: 0.1749\n"
     ]
    },
    {
     "name": "stderr",
     "output_type": "stream",
     "text": [
      "                                                                                                                      "
     ]
    },
    {
     "name": "stdout",
     "output_type": "stream",
     "text": [
      "Fault 3 - Epoch 11/30, Train Loss: 0.1839, Val Loss: 0.1875, Time: 347.78s\n"
     ]
    },
    {
     "name": "stderr",
     "output_type": "stream",
     "text": [
      "                                                                                                                      "
     ]
    },
    {
     "name": "stdout",
     "output_type": "stream",
     "text": [
      "Fault 3 - Epoch 12/30, Train Loss: 0.1829, Val Loss: 0.2110, Time: 357.51s\n"
     ]
    },
    {
     "name": "stderr",
     "output_type": "stream",
     "text": [
      "                                                                                                                      "
     ]
    },
    {
     "name": "stdout",
     "output_type": "stream",
     "text": [
      "Fault 3 - Epoch 13/30, Train Loss: 0.1792, Val Loss: 0.1862, Time: 347.73s\n"
     ]
    },
    {
     "name": "stderr",
     "output_type": "stream",
     "text": [
      "                                                                                                                      "
     ]
    },
    {
     "name": "stdout",
     "output_type": "stream",
     "text": [
      "Fault 3 - Epoch 14/30, Train Loss: 0.1741, Val Loss: 0.1959, Time: 358.09s\n"
     ]
    },
    {
     "name": "stderr",
     "output_type": "stream",
     "text": [
      "                                                                                                                      "
     ]
    },
    {
     "name": "stdout",
     "output_type": "stream",
     "text": [
      "Fault 3 - Epoch 15/30, Train Loss: 0.1704, Val Loss: 0.1851, Time: 347.62s\n",
      "Checkpoint saved at checkpoints\\fault_3_checkpoint_epoch_15.pth\n"
     ]
    },
    {
     "name": "stderr",
     "output_type": "stream",
     "text": [
      "                                                                                                                      "
     ]
    },
    {
     "name": "stdout",
     "output_type": "stream",
     "text": [
      "Fault 3 - Epoch 16/30, Train Loss: 0.1683, Val Loss: 0.1758, Time: 344.91s\n"
     ]
    },
    {
     "name": "stderr",
     "output_type": "stream",
     "text": [
      "                                                                                                                      "
     ]
    },
    {
     "name": "stdout",
     "output_type": "stream",
     "text": [
      "Fault 3 - Epoch 17/30, Train Loss: 0.1662, Val Loss: 0.1573, Time: 357.73s\n",
      "Checkpoint saved at checkpoints\\fault_3_best_model.pth\n",
      "New best model for fault type 3 saved with loss: 0.1573\n"
     ]
    },
    {
     "name": "stderr",
     "output_type": "stream",
     "text": [
      "                                                                                                                      "
     ]
    },
    {
     "name": "stdout",
     "output_type": "stream",
     "text": [
      "Fault 3 - Epoch 18/30, Train Loss: 0.1661, Val Loss: 0.1713, Time: 362.19s\n"
     ]
    },
    {
     "name": "stderr",
     "output_type": "stream",
     "text": [
      "                                                                                                                      "
     ]
    },
    {
     "name": "stdout",
     "output_type": "stream",
     "text": [
      "Fault 3 - Epoch 19/30, Train Loss: 0.1651, Val Loss: 0.1707, Time: 344.27s\n"
     ]
    },
    {
     "name": "stderr",
     "output_type": "stream",
     "text": [
      "                                                                                                                      "
     ]
    },
    {
     "name": "stdout",
     "output_type": "stream",
     "text": [
      "Fault 3 - Epoch 20/30, Train Loss: 0.1638, Val Loss: 0.1587, Time: 354.55s\n",
      "Checkpoint saved at checkpoints\\fault_3_checkpoint_epoch_20.pth\n"
     ]
    },
    {
     "name": "stderr",
     "output_type": "stream",
     "text": [
      "                                                                                                                      "
     ]
    },
    {
     "name": "stdout",
     "output_type": "stream",
     "text": [
      "Fault 3 - Epoch 21/30, Train Loss: 0.1631, Val Loss: 0.1636, Time: 353.32s\n"
     ]
    },
    {
     "name": "stderr",
     "output_type": "stream",
     "text": [
      "                                                                                                                      "
     ]
    },
    {
     "name": "stdout",
     "output_type": "stream",
     "text": [
      "Fault 3 - Epoch 22/30, Train Loss: 0.1616, Val Loss: 0.1816, Time: 351.70s\n"
     ]
    },
    {
     "name": "stderr",
     "output_type": "stream",
     "text": [
      "                                                                                                                      "
     ]
    },
    {
     "name": "stdout",
     "output_type": "stream",
     "text": [
      "Fault 3 - Epoch 23/30, Train Loss: 0.1608, Val Loss: 0.1667, Time: 356.51s\n"
     ]
    },
    {
     "name": "stderr",
     "output_type": "stream",
     "text": [
      "                                                                                                                      "
     ]
    },
    {
     "name": "stdout",
     "output_type": "stream",
     "text": [
      "Fault 3 - Epoch 24/30, Train Loss: 0.1602, Val Loss: 0.1685, Time: 330.53s\n"
     ]
    },
    {
     "name": "stderr",
     "output_type": "stream",
     "text": [
      "                                                                                                                      "
     ]
    },
    {
     "name": "stdout",
     "output_type": "stream",
     "text": [
      "Fault 3 - Epoch 25/30, Train Loss: 0.1603, Val Loss: 0.1655, Time: 353.25s\n",
      "Checkpoint saved at checkpoints\\fault_3_checkpoint_epoch_25.pth\n"
     ]
    },
    {
     "name": "stderr",
     "output_type": "stream",
     "text": [
      "                                                                                                                      "
     ]
    },
    {
     "name": "stdout",
     "output_type": "stream",
     "text": [
      "Fault 3 - Epoch 26/30, Train Loss: 0.1593, Val Loss: 0.1575, Time: 353.61s\n"
     ]
    },
    {
     "name": "stderr",
     "output_type": "stream",
     "text": [
      "                                                                                                                      "
     ]
    },
    {
     "name": "stdout",
     "output_type": "stream",
     "text": [
      "Fault 3 - Epoch 27/30, Train Loss: 0.1593, Val Loss: 0.1595, Time: 345.18s\n"
     ]
    },
    {
     "name": "stderr",
     "output_type": "stream",
     "text": [
      "                                                                                                                      "
     ]
    },
    {
     "name": "stdout",
     "output_type": "stream",
     "text": [
      "Fault 3 - Epoch 28/30, Train Loss: 0.1577, Val Loss: 0.1648, Time: 347.08s\n"
     ]
    },
    {
     "name": "stderr",
     "output_type": "stream",
     "text": [
      "                                                                                                                      "
     ]
    },
    {
     "name": "stdout",
     "output_type": "stream",
     "text": [
      "Fault 3 - Epoch 29/30, Train Loss: 0.1560, Val Loss: 0.1548, Time: 351.10s\n",
      "Checkpoint saved at checkpoints\\fault_3_best_model.pth\n",
      "New best model for fault type 3 saved with loss: 0.1548\n"
     ]
    },
    {
     "name": "stderr",
     "output_type": "stream",
     "text": [
      "                                                                                                                      "
     ]
    },
    {
     "name": "stdout",
     "output_type": "stream",
     "text": [
      "Fault 3 - Epoch 30/30, Train Loss: 0.1548, Val Loss: 0.1561, Time: 349.44s\n",
      "Checkpoint saved at checkpoints\\fault_3_checkpoint_epoch_30.pth\n",
      "Checkpoint saved at checkpoints\\fault_3_final_model.pth\n",
      "Training for fault type 3 complete!\n",
      "Creating sliding windows with lookback=15...\n"
     ]
    },
    {
     "name": "stderr",
     "output_type": "stream",
     "text": [
      "Creating windows: 100%|███████████████████████████████████████████████████| 479985/479985 [00:00<00:00, 914994.12it/s]\n"
     ]
    },
    {
     "name": "stdout",
     "output_type": "stream",
     "text": [
      "Evaluating model for fault type 3...\n"
     ]
    },
    {
     "name": "stderr",
     "output_type": "stream",
     "text": [
      "                                                                                                                      "
     ]
    },
    {
     "name": "stdout",
     "output_type": "stream",
     "text": [
      "Fault Type 3 - Precision: 1.0000, Recall: 0.8776, F1: 0.9348, Accuracy: 0.8776\n",
      "\n",
      "Processing fault type 4...\n",
      "\n",
      "================================================================================\n",
      "Processing Fault Type 4\n",
      "================================================================================\n",
      "Creating sliding windows with lookback=15...\n"
     ]
    },
    {
     "name": "stderr",
     "output_type": "stream",
     "text": [
      "Creating windows: 100%|██████████████████████████████████████████████████| 499985/499985 [00:00<00:00, 1880218.99it/s]\n"
     ]
    },
    {
     "name": "stdout",
     "output_type": "stream",
     "text": [
      "Initializing model for fault type 4...\n",
      "No checkpoint found for fault type 4 at checkpoints\\fault_4_checkpoint.pth, starting from scratch\n",
      "Starting training for fault type 4...\n"
     ]
    },
    {
     "name": "stderr",
     "output_type": "stream",
     "text": [
      "                                                                                                                      "
     ]
    },
    {
     "name": "stdout",
     "output_type": "stream",
     "text": [
      "Fault 4 - Epoch 1/30, Train Loss: 0.0365, Val Loss: 0.0351, Time: 387.07s\n",
      "Checkpoint saved at checkpoints\\fault_4_best_model.pth\n",
      "New best model for fault type 4 saved with loss: 0.0351\n"
     ]
    },
    {
     "name": "stderr",
     "output_type": "stream",
     "text": [
      "                                                                                                                      "
     ]
    },
    {
     "name": "stdout",
     "output_type": "stream",
     "text": [
      "Fault 4 - Epoch 2/30, Train Loss: 0.0337, Val Loss: 0.0325, Time: 352.08s\n",
      "Checkpoint saved at checkpoints\\fault_4_best_model.pth\n",
      "New best model for fault type 4 saved with loss: 0.0325\n"
     ]
    },
    {
     "name": "stderr",
     "output_type": "stream",
     "text": [
      "                                                                                                                      "
     ]
    },
    {
     "name": "stdout",
     "output_type": "stream",
     "text": [
      "Fault 4 - Epoch 3/30, Train Loss: 0.0338, Val Loss: 0.0332, Time: 350.64s\n"
     ]
    },
    {
     "name": "stderr",
     "output_type": "stream",
     "text": [
      "                                                                                                                      "
     ]
    },
    {
     "name": "stdout",
     "output_type": "stream",
     "text": [
      "Fault 4 - Epoch 4/30, Train Loss: 0.0331, Val Loss: 0.0382, Time: 356.71s\n"
     ]
    },
    {
     "name": "stderr",
     "output_type": "stream",
     "text": [
      "                                                                                                                      "
     ]
    },
    {
     "name": "stdout",
     "output_type": "stream",
     "text": [
      "Fault 4 - Epoch 5/30, Train Loss: 0.0328, Val Loss: 0.0325, Time: 357.47s\n",
      "Checkpoint saved at checkpoints\\fault_4_checkpoint_epoch_5.pth\n",
      "Checkpoint saved at checkpoints\\fault_4_best_model.pth\n",
      "New best model for fault type 4 saved with loss: 0.0325\n"
     ]
    },
    {
     "name": "stderr",
     "output_type": "stream",
     "text": [
      "                                                                                                                      "
     ]
    },
    {
     "name": "stdout",
     "output_type": "stream",
     "text": [
      "Fault 4 - Epoch 6/30, Train Loss: 0.0330, Val Loss: 0.0327, Time: 374.01s\n"
     ]
    },
    {
     "name": "stderr",
     "output_type": "stream",
     "text": [
      "                                                                                                                      "
     ]
    },
    {
     "name": "stdout",
     "output_type": "stream",
     "text": [
      "Fault 4 - Epoch 7/30, Train Loss: 0.0334, Val Loss: 0.0327, Time: 430.51s\n"
     ]
    },
    {
     "name": "stderr",
     "output_type": "stream",
     "text": [
      "                                                                                                                      "
     ]
    },
    {
     "name": "stdout",
     "output_type": "stream",
     "text": [
      "Fault 4 - Epoch 8/30, Train Loss: 0.0356, Val Loss: 0.0329, Time: 442.47s\n"
     ]
    },
    {
     "name": "stderr",
     "output_type": "stream",
     "text": [
      "                                                                                                                      "
     ]
    },
    {
     "name": "stdout",
     "output_type": "stream",
     "text": [
      "Fault 4 - Epoch 9/30, Train Loss: 0.0330, Val Loss: 0.0328, Time: 438.86s\n"
     ]
    },
    {
     "name": "stderr",
     "output_type": "stream",
     "text": [
      "                                                                                                                      "
     ]
    },
    {
     "name": "stdout",
     "output_type": "stream",
     "text": [
      "Fault 4 - Epoch 10/30, Train Loss: 0.0493, Val Loss: 0.0332, Time: 445.77s\n",
      "Checkpoint saved at checkpoints\\fault_4_checkpoint_epoch_10.pth\n"
     ]
    },
    {
     "name": "stderr",
     "output_type": "stream",
     "text": [
      "                                                                                                                      "
     ]
    },
    {
     "name": "stdout",
     "output_type": "stream",
     "text": [
      "Fault 4 - Epoch 11/30, Train Loss: 0.0360, Val Loss: 0.0345, Time: 407.09s\n"
     ]
    },
    {
     "name": "stderr",
     "output_type": "stream",
     "text": [
      "                                                                                                                      "
     ]
    },
    {
     "name": "stdout",
     "output_type": "stream",
     "text": [
      "Fault 4 - Epoch 12/30, Train Loss: 0.0343, Val Loss: 0.0327, Time: 441.39s\n"
     ]
    },
    {
     "name": "stderr",
     "output_type": "stream",
     "text": [
      "                                                                                                                      "
     ]
    },
    {
     "name": "stdout",
     "output_type": "stream",
     "text": [
      "Fault 4 - Epoch 13/30, Train Loss: 0.0332, Val Loss: 0.0329, Time: 414.52s\n"
     ]
    },
    {
     "name": "stderr",
     "output_type": "stream",
     "text": [
      "                                                                                                                      "
     ]
    },
    {
     "name": "stdout",
     "output_type": "stream",
     "text": [
      "Fault 4 - Epoch 14/30, Train Loss: 0.0332, Val Loss: 0.0323, Time: 425.99s\n",
      "Checkpoint saved at checkpoints\\fault_4_best_model.pth\n",
      "New best model for fault type 4 saved with loss: 0.0323\n"
     ]
    },
    {
     "name": "stderr",
     "output_type": "stream",
     "text": [
      "                                                                                                                      "
     ]
    },
    {
     "name": "stdout",
     "output_type": "stream",
     "text": [
      "Fault 4 - Epoch 15/30, Train Loss: 0.0329, Val Loss: 0.0326, Time: 388.74s\n",
      "Checkpoint saved at checkpoints\\fault_4_checkpoint_epoch_15.pth\n"
     ]
    },
    {
     "name": "stderr",
     "output_type": "stream",
     "text": [
      "                                                                                                                      "
     ]
    },
    {
     "name": "stdout",
     "output_type": "stream",
     "text": [
      "Fault 4 - Epoch 16/30, Train Loss: 0.0329, Val Loss: 0.0324, Time: 394.58s\n"
     ]
    },
    {
     "name": "stderr",
     "output_type": "stream",
     "text": [
      "                                                                                                                      "
     ]
    },
    {
     "name": "stdout",
     "output_type": "stream",
     "text": [
      "Fault 4 - Epoch 17/30, Train Loss: 0.0333, Val Loss: 0.0333, Time: 381.13s\n"
     ]
    },
    {
     "name": "stderr",
     "output_type": "stream",
     "text": [
      "                                                                                                                      "
     ]
    },
    {
     "name": "stdout",
     "output_type": "stream",
     "text": [
      "Fault 4 - Epoch 18/30, Train Loss: 0.0337, Val Loss: 0.0332, Time: 376.97s\n"
     ]
    },
    {
     "name": "stderr",
     "output_type": "stream",
     "text": [
      "                                                                                                                      "
     ]
    },
    {
     "name": "stdout",
     "output_type": "stream",
     "text": [
      "Fault 4 - Epoch 19/30, Train Loss: 0.0334, Val Loss: 0.0331, Time: 420.85s\n"
     ]
    },
    {
     "name": "stderr",
     "output_type": "stream",
     "text": [
      "                                                                                                                      "
     ]
    },
    {
     "name": "stdout",
     "output_type": "stream",
     "text": [
      "Fault 4 - Epoch 20/30, Train Loss: 0.0330, Val Loss: 0.0327, Time: 452.04s\n",
      "Checkpoint saved at checkpoints\\fault_4_checkpoint_epoch_20.pth\n"
     ]
    },
    {
     "name": "stderr",
     "output_type": "stream",
     "text": [
      "                                                                                                                      "
     ]
    },
    {
     "name": "stdout",
     "output_type": "stream",
     "text": [
      "Fault 4 - Epoch 21/30, Train Loss: 0.0328, Val Loss: 0.0328, Time: 407.34s\n"
     ]
    },
    {
     "name": "stderr",
     "output_type": "stream",
     "text": [
      "                                                                                                                      "
     ]
    },
    {
     "name": "stdout",
     "output_type": "stream",
     "text": [
      "Fault 4 - Epoch 22/30, Train Loss: 0.0327, Val Loss: 0.0325, Time: 447.23s\n"
     ]
    },
    {
     "name": "stderr",
     "output_type": "stream",
     "text": [
      "                                                                                                                      "
     ]
    },
    {
     "name": "stdout",
     "output_type": "stream",
     "text": [
      "Fault 4 - Epoch 23/30, Train Loss: 0.0328, Val Loss: 0.0325, Time: 447.77s\n"
     ]
    },
    {
     "name": "stderr",
     "output_type": "stream",
     "text": [
      "                                                                                                                      "
     ]
    },
    {
     "name": "stdout",
     "output_type": "stream",
     "text": [
      "Fault 4 - Epoch 24/30, Train Loss: 0.0314, Val Loss: 0.0274, Time: 443.20s\n",
      "Checkpoint saved at checkpoints\\fault_4_best_model.pth\n",
      "New best model for fault type 4 saved with loss: 0.0274\n"
     ]
    },
    {
     "name": "stderr",
     "output_type": "stream",
     "text": [
      "                                                                                                                      "
     ]
    },
    {
     "name": "stdout",
     "output_type": "stream",
     "text": [
      "Fault 4 - Epoch 25/30, Train Loss: 0.0258, Val Loss: 0.0236, Time: 449.39s\n",
      "Checkpoint saved at checkpoints\\fault_4_checkpoint_epoch_25.pth\n",
      "Checkpoint saved at checkpoints\\fault_4_best_model.pth\n",
      "New best model for fault type 4 saved with loss: 0.0236\n"
     ]
    },
    {
     "name": "stderr",
     "output_type": "stream",
     "text": [
      "                                                                                                                      "
     ]
    },
    {
     "name": "stdout",
     "output_type": "stream",
     "text": [
      "Fault 4 - Epoch 26/30, Train Loss: 0.0236, Val Loss: 0.0296, Time: 443.80s\n"
     ]
    },
    {
     "name": "stderr",
     "output_type": "stream",
     "text": [
      "                                                                                                                      "
     ]
    },
    {
     "name": "stdout",
     "output_type": "stream",
     "text": [
      "Fault 4 - Epoch 27/30, Train Loss: 0.0284, Val Loss: 0.0283, Time: 453.82s\n"
     ]
    },
    {
     "name": "stderr",
     "output_type": "stream",
     "text": [
      "                                                                                                                      "
     ]
    },
    {
     "name": "stdout",
     "output_type": "stream",
     "text": [
      "Fault 4 - Epoch 28/30, Train Loss: 0.0257, Val Loss: 0.0210, Time: 445.65s\n",
      "Checkpoint saved at checkpoints\\fault_4_best_model.pth\n",
      "New best model for fault type 4 saved with loss: 0.0210\n"
     ]
    },
    {
     "name": "stderr",
     "output_type": "stream",
     "text": [
      "                                                                                                                      "
     ]
    },
    {
     "name": "stdout",
     "output_type": "stream",
     "text": [
      "Fault 4 - Epoch 29/30, Train Loss: 0.0216, Val Loss: 0.0229, Time: 449.59s\n"
     ]
    },
    {
     "name": "stderr",
     "output_type": "stream",
     "text": [
      "                                                                                                                      "
     ]
    },
    {
     "name": "stdout",
     "output_type": "stream",
     "text": [
      "Fault 4 - Epoch 30/30, Train Loss: 0.0217, Val Loss: 0.0196, Time: 453.93s\n",
      "Checkpoint saved at checkpoints\\fault_4_checkpoint_epoch_30.pth\n",
      "Checkpoint saved at checkpoints\\fault_4_best_model.pth\n",
      "New best model for fault type 4 saved with loss: 0.0196\n",
      "Checkpoint saved at checkpoints\\fault_4_final_model.pth\n",
      "Training for fault type 4 complete!\n",
      "Creating sliding windows with lookback=15...\n"
     ]
    },
    {
     "name": "stderr",
     "output_type": "stream",
     "text": [
      "Creating windows: 100%|███████████████████████████████████████████████████| 479985/479985 [00:00<00:00, 581537.62it/s]\n"
     ]
    },
    {
     "name": "stdout",
     "output_type": "stream",
     "text": [
      "Evaluating model for fault type 4...\n"
     ]
    },
    {
     "name": "stderr",
     "output_type": "stream",
     "text": [
      "                                                                                                                      "
     ]
    },
    {
     "name": "stdout",
     "output_type": "stream",
     "text": [
      "Fault Type 4 - Precision: 1.0000, Recall: 0.8733, F1: 0.9324, Accuracy: 0.8733\n",
      "\n",
      "Processing fault type 5...\n",
      "\n",
      "================================================================================\n",
      "Processing Fault Type 5\n",
      "================================================================================\n",
      "Creating sliding windows with lookback=15...\n"
     ]
    },
    {
     "name": "stderr",
     "output_type": "stream",
     "text": [
      "Creating windows: 100%|███████████████████████████████████████████████████| 499985/499985 [00:00<00:00, 855450.54it/s]\n"
     ]
    },
    {
     "name": "stdout",
     "output_type": "stream",
     "text": [
      "Initializing model for fault type 5...\n",
      "No checkpoint found for fault type 5 at checkpoints\\fault_5_checkpoint.pth, starting from scratch\n",
      "Starting training for fault type 5...\n"
     ]
    },
    {
     "name": "stderr",
     "output_type": "stream",
     "text": [
      "                                                                                                                      "
     ]
    },
    {
     "name": "stdout",
     "output_type": "stream",
     "text": [
      "Fault 5 - Epoch 1/30, Train Loss: 0.0393, Val Loss: 0.0354, Time: 484.67s\n",
      "Checkpoint saved at checkpoints\\fault_5_best_model.pth\n",
      "New best model for fault type 5 saved with loss: 0.0354\n"
     ]
    },
    {
     "name": "stderr",
     "output_type": "stream",
     "text": [
      "                                                                                                                      "
     ]
    },
    {
     "name": "stdout",
     "output_type": "stream",
     "text": [
      "Fault 5 - Epoch 2/30, Train Loss: 0.0362, Val Loss: 0.0412, Time: 406.51s\n"
     ]
    },
    {
     "name": "stderr",
     "output_type": "stream",
     "text": [
      "                                                                                                                      "
     ]
    },
    {
     "name": "stdout",
     "output_type": "stream",
     "text": [
      "Fault 5 - Epoch 3/30, Train Loss: 0.0355, Val Loss: 0.0345, Time: 438.65s\n",
      "Checkpoint saved at checkpoints\\fault_5_best_model.pth\n",
      "New best model for fault type 5 saved with loss: 0.0345\n"
     ]
    },
    {
     "name": "stderr",
     "output_type": "stream",
     "text": [
      "                                                                                                                      "
     ]
    },
    {
     "name": "stdout",
     "output_type": "stream",
     "text": [
      "Fault 5 - Epoch 4/30, Train Loss: 0.0354, Val Loss: 0.0342, Time: 441.80s\n",
      "Checkpoint saved at checkpoints\\fault_5_best_model.pth\n",
      "New best model for fault type 5 saved with loss: 0.0342\n"
     ]
    },
    {
     "name": "stderr",
     "output_type": "stream",
     "text": [
      "                                                                                                                      "
     ]
    },
    {
     "name": "stdout",
     "output_type": "stream",
     "text": [
      "Fault 5 - Epoch 5/30, Train Loss: 0.0348, Val Loss: 0.0339, Time: 452.33s\n",
      "Checkpoint saved at checkpoints\\fault_5_checkpoint_epoch_5.pth\n",
      "Checkpoint saved at checkpoints\\fault_5_best_model.pth\n",
      "New best model for fault type 5 saved with loss: 0.0339\n"
     ]
    },
    {
     "name": "stderr",
     "output_type": "stream",
     "text": [
      "                                                                                                                      "
     ]
    },
    {
     "name": "stdout",
     "output_type": "stream",
     "text": [
      "Fault 5 - Epoch 6/30, Train Loss: 0.0342, Val Loss: 0.0330, Time: 452.25s\n",
      "Checkpoint saved at checkpoints\\fault_5_best_model.pth\n",
      "New best model for fault type 5 saved with loss: 0.0330\n"
     ]
    },
    {
     "name": "stderr",
     "output_type": "stream",
     "text": [
      "                                                                                                                      "
     ]
    },
    {
     "name": "stdout",
     "output_type": "stream",
     "text": [
      "Fault 5 - Epoch 7/30, Train Loss: 0.0335, Val Loss: 0.0341, Time: 450.59s\n"
     ]
    },
    {
     "name": "stderr",
     "output_type": "stream",
     "text": [
      "                                                                                                                      "
     ]
    },
    {
     "name": "stdout",
     "output_type": "stream",
     "text": [
      "Fault 5 - Epoch 8/30, Train Loss: 0.0336, Val Loss: 0.0340, Time: 411.82s\n"
     ]
    },
    {
     "name": "stderr",
     "output_type": "stream",
     "text": [
      "                                                                                                                      "
     ]
    },
    {
     "name": "stdout",
     "output_type": "stream",
     "text": [
      "Fault 5 - Epoch 9/30, Train Loss: 0.0344, Val Loss: 0.0342, Time: 435.36s\n"
     ]
    },
    {
     "name": "stderr",
     "output_type": "stream",
     "text": [
      "                                                                                                                      "
     ]
    },
    {
     "name": "stdout",
     "output_type": "stream",
     "text": [
      "Fault 5 - Epoch 10/30, Train Loss: 0.0348, Val Loss: 0.0389, Time: 423.97s\n",
      "Checkpoint saved at checkpoints\\fault_5_checkpoint_epoch_10.pth\n"
     ]
    },
    {
     "name": "stderr",
     "output_type": "stream",
     "text": [
      "                                                                                                                      "
     ]
    },
    {
     "name": "stdout",
     "output_type": "stream",
     "text": [
      "Fault 5 - Epoch 11/30, Train Loss: 0.0345, Val Loss: 0.0299, Time: 446.19s\n",
      "Checkpoint saved at checkpoints\\fault_5_best_model.pth\n",
      "New best model for fault type 5 saved with loss: 0.0299\n"
     ]
    },
    {
     "name": "stderr",
     "output_type": "stream",
     "text": [
      "                                                                                                                      "
     ]
    },
    {
     "name": "stdout",
     "output_type": "stream",
     "text": [
      "Fault 5 - Epoch 12/30, Train Loss: 0.0246, Val Loss: 0.0175, Time: 441.43s\n",
      "Checkpoint saved at checkpoints\\fault_5_best_model.pth\n",
      "New best model for fault type 5 saved with loss: 0.0175\n"
     ]
    },
    {
     "name": "stderr",
     "output_type": "stream",
     "text": [
      "                                                                                                                      "
     ]
    },
    {
     "name": "stdout",
     "output_type": "stream",
     "text": [
      "Fault 5 - Epoch 13/30, Train Loss: 0.0173, Val Loss: 0.0155, Time: 405.24s\n",
      "Checkpoint saved at checkpoints\\fault_5_best_model.pth\n",
      "New best model for fault type 5 saved with loss: 0.0155\n"
     ]
    },
    {
     "name": "stderr",
     "output_type": "stream",
     "text": [
      "                                                                                                                      "
     ]
    },
    {
     "name": "stdout",
     "output_type": "stream",
     "text": [
      "Fault 5 - Epoch 14/30, Train Loss: 0.0173, Val Loss: 0.0168, Time: 385.74s\n"
     ]
    },
    {
     "name": "stderr",
     "output_type": "stream",
     "text": [
      "                                                                                                                      "
     ]
    },
    {
     "name": "stdout",
     "output_type": "stream",
     "text": [
      "Fault 5 - Epoch 15/30, Train Loss: 0.0170, Val Loss: 0.0141, Time: 456.97s\n",
      "Checkpoint saved at checkpoints\\fault_5_checkpoint_epoch_15.pth\n",
      "Checkpoint saved at checkpoints\\fault_5_best_model.pth\n",
      "New best model for fault type 5 saved with loss: 0.0141\n"
     ]
    },
    {
     "name": "stderr",
     "output_type": "stream",
     "text": [
      "                                                                                                                      "
     ]
    },
    {
     "name": "stdout",
     "output_type": "stream",
     "text": [
      "Fault 5 - Epoch 16/30, Train Loss: 0.0155, Val Loss: 0.0135, Time: 439.10s\n",
      "Checkpoint saved at checkpoints\\fault_5_best_model.pth\n",
      "New best model for fault type 5 saved with loss: 0.0135\n"
     ]
    },
    {
     "name": "stderr",
     "output_type": "stream",
     "text": [
      "                                                                                                                      "
     ]
    },
    {
     "name": "stdout",
     "output_type": "stream",
     "text": [
      "Fault 5 - Epoch 17/30, Train Loss: 0.0170, Val Loss: 0.0168, Time: 435.46s\n"
     ]
    },
    {
     "name": "stderr",
     "output_type": "stream",
     "text": [
      "                                                                                                                      "
     ]
    },
    {
     "name": "stdout",
     "output_type": "stream",
     "text": [
      "Fault 5 - Epoch 18/30, Train Loss: 0.0186, Val Loss: 0.0166, Time: 448.67s\n"
     ]
    },
    {
     "name": "stderr",
     "output_type": "stream",
     "text": [
      "                                                                                                                      "
     ]
    },
    {
     "name": "stdout",
     "output_type": "stream",
     "text": [
      "Fault 5 - Epoch 19/30, Train Loss: 0.0170, Val Loss: 0.0158, Time: 443.69s\n"
     ]
    },
    {
     "name": "stderr",
     "output_type": "stream",
     "text": [
      "                                                                                                                      "
     ]
    },
    {
     "name": "stdout",
     "output_type": "stream",
     "text": [
      "Fault 5 - Epoch 20/30, Train Loss: 0.0175, Val Loss: 0.0164, Time: 449.33s\n",
      "Checkpoint saved at checkpoints\\fault_5_checkpoint_epoch_20.pth\n"
     ]
    },
    {
     "name": "stderr",
     "output_type": "stream",
     "text": [
      "                                                                                                                      "
     ]
    },
    {
     "name": "stdout",
     "output_type": "stream",
     "text": [
      "Fault 5 - Epoch 21/30, Train Loss: 0.0183, Val Loss: 0.0185, Time: 444.14s\n"
     ]
    },
    {
     "name": "stderr",
     "output_type": "stream",
     "text": [
      "                                                                                                                      "
     ]
    },
    {
     "name": "stdout",
     "output_type": "stream",
     "text": [
      "Fault 5 - Epoch 22/30, Train Loss: 0.0161, Val Loss: 0.0166, Time: 451.01s\n"
     ]
    },
    {
     "name": "stderr",
     "output_type": "stream",
     "text": [
      "                                                                                                                      "
     ]
    },
    {
     "name": "stdout",
     "output_type": "stream",
     "text": [
      "Fault 5 - Epoch 23/30, Train Loss: 0.0163, Val Loss: 0.0167, Time: 449.41s\n"
     ]
    },
    {
     "name": "stderr",
     "output_type": "stream",
     "text": [
      "                                                                                                                      "
     ]
    },
    {
     "name": "stdout",
     "output_type": "stream",
     "text": [
      "Fault 5 - Epoch 24/30, Train Loss: 0.0169, Val Loss: 0.0201, Time: 449.08s\n"
     ]
    },
    {
     "name": "stderr",
     "output_type": "stream",
     "text": [
      "                                                                                                                      "
     ]
    },
    {
     "name": "stdout",
     "output_type": "stream",
     "text": [
      "Fault 5 - Epoch 25/30, Train Loss: 0.0177, Val Loss: 0.0166, Time: 443.39s\n",
      "Checkpoint saved at checkpoints\\fault_5_checkpoint_epoch_25.pth\n"
     ]
    },
    {
     "name": "stderr",
     "output_type": "stream",
     "text": [
      "                                                                                                                      "
     ]
    },
    {
     "name": "stdout",
     "output_type": "stream",
     "text": [
      "Fault 5 - Epoch 26/30, Train Loss: 0.0162, Val Loss: 0.0156, Time: 444.29s\n"
     ]
    },
    {
     "name": "stderr",
     "output_type": "stream",
     "text": [
      "                                                                                                                      "
     ]
    },
    {
     "name": "stdout",
     "output_type": "stream",
     "text": [
      "Fault 5 - Epoch 27/30, Train Loss: 0.0159, Val Loss: 0.0165, Time: 444.05s\n"
     ]
    },
    {
     "name": "stderr",
     "output_type": "stream",
     "text": [
      "                                                                                                                      "
     ]
    },
    {
     "name": "stdout",
     "output_type": "stream",
     "text": [
      "Fault 5 - Epoch 28/30, Train Loss: 0.0173, Val Loss: 0.0163, Time: 443.60s\n"
     ]
    },
    {
     "name": "stderr",
     "output_type": "stream",
     "text": [
      "                                                                                                                      "
     ]
    },
    {
     "name": "stdout",
     "output_type": "stream",
     "text": [
      "Fault 5 - Epoch 29/30, Train Loss: 0.0173, Val Loss: 0.0175, Time: 447.44s\n"
     ]
    },
    {
     "name": "stderr",
     "output_type": "stream",
     "text": [
      "                                                                                                                      "
     ]
    },
    {
     "name": "stdout",
     "output_type": "stream",
     "text": [
      "Fault 5 - Epoch 30/30, Train Loss: 0.0161, Val Loss: 0.0164, Time: 447.32s\n",
      "Checkpoint saved at checkpoints\\fault_5_checkpoint_epoch_30.pth\n",
      "Checkpoint saved at checkpoints\\fault_5_final_model.pth\n",
      "Training for fault type 5 complete!\n",
      "Creating sliding windows with lookback=15...\n"
     ]
    },
    {
     "name": "stderr",
     "output_type": "stream",
     "text": [
      "Creating windows: 100%|██████████████████████████████████████████████████| 479985/479985 [00:00<00:00, 1520071.92it/s]\n"
     ]
    },
    {
     "name": "stdout",
     "output_type": "stream",
     "text": [
      "Evaluating model for fault type 5...\n"
     ]
    },
    {
     "name": "stderr",
     "output_type": "stream",
     "text": [
      "                                                                                                                      "
     ]
    },
    {
     "name": "stdout",
     "output_type": "stream",
     "text": [
      "Fault Type 5 - Precision: 1.0000, Recall: 0.8779, F1: 0.9350, Accuracy: 0.8780\n",
      "\n",
      "Processing fault type 6...\n",
      "\n",
      "================================================================================\n",
      "Processing Fault Type 6\n",
      "================================================================================\n",
      "Creating sliding windows with lookback=15...\n"
     ]
    },
    {
     "name": "stderr",
     "output_type": "stream",
     "text": [
      "Creating windows: 100%|██████████████████████████████████████████████████| 499985/499985 [00:00<00:00, 1303269.15it/s]\n"
     ]
    },
    {
     "name": "stdout",
     "output_type": "stream",
     "text": [
      "Initializing model for fault type 6...\n",
      "No checkpoint found for fault type 6 at checkpoints\\fault_6_checkpoint.pth, starting from scratch\n",
      "Starting training for fault type 6...\n"
     ]
    },
    {
     "name": "stderr",
     "output_type": "stream",
     "text": [
      "                                                                                                                      "
     ]
    },
    {
     "name": "stdout",
     "output_type": "stream",
     "text": [
      "Fault 6 - Epoch 1/30, Train Loss: 0.0356, Val Loss: 0.0339, Time: 487.09s\n",
      "Checkpoint saved at checkpoints\\fault_6_best_model.pth\n",
      "New best model for fault type 6 saved with loss: 0.0339\n"
     ]
    },
    {
     "name": "stderr",
     "output_type": "stream",
     "text": [
      "                                                                                                                      "
     ]
    },
    {
     "name": "stdout",
     "output_type": "stream",
     "text": [
      "Fault 6 - Epoch 2/30, Train Loss: 0.0337, Val Loss: 0.0324, Time: 443.00s\n",
      "Checkpoint saved at checkpoints\\fault_6_best_model.pth\n",
      "New best model for fault type 6 saved with loss: 0.0324\n"
     ]
    },
    {
     "name": "stderr",
     "output_type": "stream",
     "text": [
      "                                                                                                                      "
     ]
    },
    {
     "name": "stdout",
     "output_type": "stream",
     "text": [
      "Fault 6 - Epoch 3/30, Train Loss: 0.0328, Val Loss: 0.0323, Time: 434.15s\n",
      "Checkpoint saved at checkpoints\\fault_6_best_model.pth\n",
      "New best model for fault type 6 saved with loss: 0.0323\n"
     ]
    },
    {
     "name": "stderr",
     "output_type": "stream",
     "text": [
      "                                                                                                                      "
     ]
    },
    {
     "name": "stdout",
     "output_type": "stream",
     "text": [
      "Fault 6 - Epoch 4/30, Train Loss: 0.0343, Val Loss: 0.3231, Time: 446.49s\n"
     ]
    },
    {
     "name": "stderr",
     "output_type": "stream",
     "text": [
      "                                                                                                                      "
     ]
    },
    {
     "name": "stdout",
     "output_type": "stream",
     "text": [
      "Fault 6 - Epoch 5/30, Train Loss: 0.0350, Val Loss: 0.0324, Time: 442.77s\n",
      "Checkpoint saved at checkpoints\\fault_6_checkpoint_epoch_5.pth\n"
     ]
    },
    {
     "name": "stderr",
     "output_type": "stream",
     "text": [
      "                                                                                                                      "
     ]
    },
    {
     "name": "stdout",
     "output_type": "stream",
     "text": [
      "Fault 6 - Epoch 6/30, Train Loss: 0.0332, Val Loss: 0.0322, Time: 450.18s\n",
      "Checkpoint saved at checkpoints\\fault_6_best_model.pth\n",
      "New best model for fault type 6 saved with loss: 0.0322\n"
     ]
    },
    {
     "name": "stderr",
     "output_type": "stream",
     "text": [
      "                                                                                                                      "
     ]
    },
    {
     "name": "stdout",
     "output_type": "stream",
     "text": [
      "Fault 6 - Epoch 7/30, Train Loss: 0.0328, Val Loss: 0.0323, Time: 443.58s\n"
     ]
    },
    {
     "name": "stderr",
     "output_type": "stream",
     "text": [
      "                                                                                                                      "
     ]
    },
    {
     "name": "stdout",
     "output_type": "stream",
     "text": [
      "Fault 6 - Epoch 8/30, Train Loss: 0.0327, Val Loss: 0.0323, Time: 442.78s\n"
     ]
    },
    {
     "name": "stderr",
     "output_type": "stream",
     "text": [
      "                                                                                                                      "
     ]
    },
    {
     "name": "stdout",
     "output_type": "stream",
     "text": [
      "Fault 6 - Epoch 9/30, Train Loss: 0.0331, Val Loss: 0.0336, Time: 449.60s\n"
     ]
    },
    {
     "name": "stderr",
     "output_type": "stream",
     "text": [
      "                                                                                                                      "
     ]
    },
    {
     "name": "stdout",
     "output_type": "stream",
     "text": [
      "Fault 6 - Epoch 10/30, Train Loss: 0.0335, Val Loss: 0.0336, Time: 443.91s\n",
      "Checkpoint saved at checkpoints\\fault_6_checkpoint_epoch_10.pth\n"
     ]
    },
    {
     "name": "stderr",
     "output_type": "stream",
     "text": [
      "                                                                                                                      "
     ]
    },
    {
     "name": "stdout",
     "output_type": "stream",
     "text": [
      "Fault 6 - Epoch 11/30, Train Loss: 0.0329, Val Loss: 0.0325, Time: 431.44s\n"
     ]
    },
    {
     "name": "stderr",
     "output_type": "stream",
     "text": [
      "                                                                                                                      "
     ]
    },
    {
     "name": "stdout",
     "output_type": "stream",
     "text": [
      "Fault 6 - Epoch 12/30, Train Loss: 0.0328, Val Loss: 0.0325, Time: 447.91s\n"
     ]
    },
    {
     "name": "stderr",
     "output_type": "stream",
     "text": [
      "                                                                                                                      "
     ]
    },
    {
     "name": "stdout",
     "output_type": "stream",
     "text": [
      "Fault 6 - Epoch 13/30, Train Loss: 0.0327, Val Loss: 0.0323, Time: 435.90s\n"
     ]
    },
    {
     "name": "stderr",
     "output_type": "stream",
     "text": [
      "                                                                                                                      "
     ]
    },
    {
     "name": "stdout",
     "output_type": "stream",
     "text": [
      "Fault 6 - Epoch 14/30, Train Loss: 0.0327, Val Loss: 0.0324, Time: 449.70s\n"
     ]
    },
    {
     "name": "stderr",
     "output_type": "stream",
     "text": [
      "                                                                                                                      "
     ]
    },
    {
     "name": "stdout",
     "output_type": "stream",
     "text": [
      "Fault 6 - Epoch 15/30, Train Loss: 0.0329, Val Loss: 0.0323, Time: 439.90s\n",
      "Checkpoint saved at checkpoints\\fault_6_checkpoint_epoch_15.pth\n"
     ]
    },
    {
     "name": "stderr",
     "output_type": "stream",
     "text": [
      "                                                                                                                      "
     ]
    },
    {
     "name": "stdout",
     "output_type": "stream",
     "text": [
      "Fault 6 - Epoch 16/30, Train Loss: 0.0328, Val Loss: 0.0325, Time: 450.37s\n"
     ]
    },
    {
     "name": "stderr",
     "output_type": "stream",
     "text": [
      "                                                                                                                      "
     ]
    },
    {
     "name": "stdout",
     "output_type": "stream",
     "text": [
      "Fault 6 - Epoch 17/30, Train Loss: 0.0327, Val Loss: 0.0326, Time: 448.56s\n"
     ]
    },
    {
     "name": "stderr",
     "output_type": "stream",
     "text": [
      "                                                                                                                      "
     ]
    },
    {
     "name": "stdout",
     "output_type": "stream",
     "text": [
      "Fault 6 - Epoch 18/30, Train Loss: 0.0327, Val Loss: 0.0324, Time: 447.50s\n"
     ]
    },
    {
     "name": "stderr",
     "output_type": "stream",
     "text": [
      "                                                                                                                      "
     ]
    },
    {
     "name": "stdout",
     "output_type": "stream",
     "text": [
      "Fault 6 - Epoch 19/30, Train Loss: 0.0327, Val Loss: 0.0328, Time: 445.10s\n"
     ]
    },
    {
     "name": "stderr",
     "output_type": "stream",
     "text": [
      "                                                                                                                      "
     ]
    },
    {
     "name": "stdout",
     "output_type": "stream",
     "text": [
      "Fault 6 - Epoch 20/30, Train Loss: 0.0333, Val Loss: 0.0336, Time: 438.47s\n",
      "Checkpoint saved at checkpoints\\fault_6_checkpoint_epoch_20.pth\n"
     ]
    },
    {
     "name": "stderr",
     "output_type": "stream",
     "text": [
      "                                                                                                                      "
     ]
    },
    {
     "name": "stdout",
     "output_type": "stream",
     "text": [
      "Fault 6 - Epoch 21/30, Train Loss: 0.0332, Val Loss: 0.0327, Time: 438.59s\n"
     ]
    },
    {
     "name": "stderr",
     "output_type": "stream",
     "text": [
      "                                                                                                                      "
     ]
    },
    {
     "name": "stdout",
     "output_type": "stream",
     "text": [
      "Fault 6 - Epoch 22/30, Train Loss: 0.0336, Val Loss: 0.0335, Time: 450.84s\n"
     ]
    },
    {
     "name": "stderr",
     "output_type": "stream",
     "text": [
      "                                                                                                                      "
     ]
    },
    {
     "name": "stdout",
     "output_type": "stream",
     "text": [
      "Fault 6 - Epoch 23/30, Train Loss: 0.0362, Val Loss: 0.0373, Time: 445.12s\n"
     ]
    },
    {
     "name": "stderr",
     "output_type": "stream",
     "text": [
      "                                                                                                                      "
     ]
    },
    {
     "name": "stdout",
     "output_type": "stream",
     "text": [
      "Fault 6 - Epoch 24/30, Train Loss: 0.0364, Val Loss: 0.0324, Time: 438.86s\n"
     ]
    },
    {
     "name": "stderr",
     "output_type": "stream",
     "text": [
      "                                                                                                                      "
     ]
    },
    {
     "name": "stdout",
     "output_type": "stream",
     "text": [
      "Fault 6 - Epoch 25/30, Train Loss: 0.0336, Val Loss: 0.0323, Time: 442.19s\n",
      "Checkpoint saved at checkpoints\\fault_6_checkpoint_epoch_25.pth\n"
     ]
    },
    {
     "name": "stderr",
     "output_type": "stream",
     "text": [
      "                                                                                                                      "
     ]
    },
    {
     "name": "stdout",
     "output_type": "stream",
     "text": [
      "Fault 6 - Epoch 26/30, Train Loss: 0.0340, Val Loss: 0.0321, Time: 446.82s\n",
      "Checkpoint saved at checkpoints\\fault_6_best_model.pth\n",
      "New best model for fault type 6 saved with loss: 0.0321\n"
     ]
    },
    {
     "name": "stderr",
     "output_type": "stream",
     "text": [
      "                                                                                                                      "
     ]
    },
    {
     "name": "stdout",
     "output_type": "stream",
     "text": [
      "Fault 6 - Epoch 27/30, Train Loss: 0.0325, Val Loss: 0.0338, Time: 444.03s\n"
     ]
    },
    {
     "name": "stderr",
     "output_type": "stream",
     "text": [
      "                                                                                                                      "
     ]
    },
    {
     "name": "stdout",
     "output_type": "stream",
     "text": [
      "Fault 6 - Epoch 28/30, Train Loss: 0.0318, Val Loss: 0.0289, Time: 437.22s\n",
      "Checkpoint saved at checkpoints\\fault_6_best_model.pth\n",
      "New best model for fault type 6 saved with loss: 0.0289\n"
     ]
    },
    {
     "name": "stderr",
     "output_type": "stream",
     "text": [
      "                                                                                                                      "
     ]
    },
    {
     "name": "stdout",
     "output_type": "stream",
     "text": [
      "Fault 6 - Epoch 29/30, Train Loss: 0.0285, Val Loss: 0.0311, Time: 449.55s\n"
     ]
    },
    {
     "name": "stderr",
     "output_type": "stream",
     "text": [
      "                                                                                                                      "
     ]
    },
    {
     "name": "stdout",
     "output_type": "stream",
     "text": [
      "Fault 6 - Epoch 30/30, Train Loss: 0.0232, Val Loss: 0.0216, Time: 440.19s\n",
      "Checkpoint saved at checkpoints\\fault_6_checkpoint_epoch_30.pth\n",
      "Checkpoint saved at checkpoints\\fault_6_best_model.pth\n",
      "New best model for fault type 6 saved with loss: 0.0216\n",
      "Checkpoint saved at checkpoints\\fault_6_final_model.pth\n",
      "Training for fault type 6 complete!\n",
      "Creating sliding windows with lookback=15...\n"
     ]
    },
    {
     "name": "stderr",
     "output_type": "stream",
     "text": [
      "Creating windows: 100%|██████████████████████████████████████████████████| 479985/479985 [00:00<00:00, 1301809.61it/s]\n"
     ]
    },
    {
     "name": "stdout",
     "output_type": "stream",
     "text": [
      "Evaluating model for fault type 6...\n"
     ]
    },
    {
     "name": "stderr",
     "output_type": "stream",
     "text": [
      "                                                                                                                      "
     ]
    },
    {
     "name": "stdout",
     "output_type": "stream",
     "text": [
      "Fault Type 6 - Precision: 1.0000, Recall: 0.8810, F1: 0.9368, Accuracy: 0.8811\n",
      "\n",
      "Processing fault type 7...\n",
      "\n",
      "================================================================================\n",
      "Processing Fault Type 7\n",
      "================================================================================\n",
      "Creating sliding windows with lookback=15...\n"
     ]
    },
    {
     "name": "stderr",
     "output_type": "stream",
     "text": [
      "Creating windows: 100%|██████████████████████████████████████████████████| 499985/499985 [00:00<00:00, 1428102.87it/s]\n"
     ]
    },
    {
     "name": "stdout",
     "output_type": "stream",
     "text": [
      "Initializing model for fault type 7...\n",
      "No checkpoint found for fault type 7 at checkpoints\\fault_7_checkpoint.pth, starting from scratch\n",
      "Starting training for fault type 7...\n"
     ]
    },
    {
     "name": "stderr",
     "output_type": "stream",
     "text": [
      "                                                                                                                      "
     ]
    },
    {
     "name": "stdout",
     "output_type": "stream",
     "text": [
      "Fault 7 - Epoch 1/30, Train Loss: 0.0359, Val Loss: 0.0330, Time: 484.64s\n",
      "Checkpoint saved at checkpoints\\fault_7_best_model.pth\n",
      "New best model for fault type 7 saved with loss: 0.0330\n"
     ]
    },
    {
     "name": "stderr",
     "output_type": "stream",
     "text": [
      "                                                                                                                      "
     ]
    },
    {
     "name": "stdout",
     "output_type": "stream",
     "text": [
      "Fault 7 - Epoch 2/30, Train Loss: 0.0332, Val Loss: 0.0324, Time: 441.59s\n",
      "Checkpoint saved at checkpoints\\fault_7_best_model.pth\n",
      "New best model for fault type 7 saved with loss: 0.0324\n"
     ]
    },
    {
     "name": "stderr",
     "output_type": "stream",
     "text": [
      "                                                                                                                      "
     ]
    },
    {
     "name": "stdout",
     "output_type": "stream",
     "text": [
      "Fault 7 - Epoch 3/30, Train Loss: 0.0328, Val Loss: 0.0323, Time: 439.79s\n",
      "Checkpoint saved at checkpoints\\fault_7_best_model.pth\n",
      "New best model for fault type 7 saved with loss: 0.0323\n"
     ]
    },
    {
     "name": "stderr",
     "output_type": "stream",
     "text": [
      "                                                                                                                      "
     ]
    },
    {
     "name": "stdout",
     "output_type": "stream",
     "text": [
      "Fault 7 - Epoch 4/30, Train Loss: 0.0328, Val Loss: 0.0323, Time: 440.94s\n",
      "Checkpoint saved at checkpoints\\fault_7_best_model.pth\n",
      "New best model for fault type 7 saved with loss: 0.0323\n"
     ]
    },
    {
     "name": "stderr",
     "output_type": "stream",
     "text": [
      "                                                                                                                      "
     ]
    },
    {
     "name": "stdout",
     "output_type": "stream",
     "text": [
      "Fault 7 - Epoch 5/30, Train Loss: 0.0334, Val Loss: 0.0324, Time: 435.45s\n",
      "Checkpoint saved at checkpoints\\fault_7_checkpoint_epoch_5.pth\n"
     ]
    },
    {
     "name": "stderr",
     "output_type": "stream",
     "text": [
      "                                                                                                                      "
     ]
    },
    {
     "name": "stdout",
     "output_type": "stream",
     "text": [
      "Fault 7 - Epoch 6/30, Train Loss: 0.0331, Val Loss: 0.0323, Time: 435.15s\n",
      "Checkpoint saved at checkpoints\\fault_7_best_model.pth\n",
      "New best model for fault type 7 saved with loss: 0.0323\n"
     ]
    },
    {
     "name": "stderr",
     "output_type": "stream",
     "text": [
      "                                                                                                                      "
     ]
    },
    {
     "name": "stdout",
     "output_type": "stream",
     "text": [
      "Fault 7 - Epoch 7/30, Train Loss: 0.0330, Val Loss: 0.0322, Time: 437.95s\n",
      "Checkpoint saved at checkpoints\\fault_7_best_model.pth\n",
      "New best model for fault type 7 saved with loss: 0.0322\n"
     ]
    },
    {
     "name": "stderr",
     "output_type": "stream",
     "text": [
      "                                                                                                                      "
     ]
    },
    {
     "name": "stdout",
     "output_type": "stream",
     "text": [
      "Fault 7 - Epoch 8/30, Train Loss: 0.0327, Val Loss: 0.0323, Time: 441.44s\n"
     ]
    },
    {
     "name": "stderr",
     "output_type": "stream",
     "text": [
      "                                                                                                                      "
     ]
    },
    {
     "name": "stdout",
     "output_type": "stream",
     "text": [
      "Fault 7 - Epoch 9/30, Train Loss: 0.0334, Val Loss: 0.0331, Time: 441.88s\n"
     ]
    },
    {
     "name": "stderr",
     "output_type": "stream",
     "text": [
      "                                                                                                                      "
     ]
    },
    {
     "name": "stdout",
     "output_type": "stream",
     "text": [
      "Fault 7 - Epoch 10/30, Train Loss: 0.0327, Val Loss: 0.0322, Time: 437.61s\n",
      "Checkpoint saved at checkpoints\\fault_7_checkpoint_epoch_10.pth\n",
      "Checkpoint saved at checkpoints\\fault_7_best_model.pth\n",
      "New best model for fault type 7 saved with loss: 0.0322\n"
     ]
    },
    {
     "name": "stderr",
     "output_type": "stream",
     "text": [
      "                                                                                                                      "
     ]
    },
    {
     "name": "stdout",
     "output_type": "stream",
     "text": [
      "Fault 7 - Epoch 11/30, Train Loss: 0.0331, Val Loss: 0.0328, Time: 437.99s\n"
     ]
    },
    {
     "name": "stderr",
     "output_type": "stream",
     "text": [
      "                                                                                                                      "
     ]
    },
    {
     "name": "stdout",
     "output_type": "stream",
     "text": [
      "Fault 7 - Epoch 12/30, Train Loss: 0.0338, Val Loss: 0.0323, Time: 434.42s\n"
     ]
    },
    {
     "name": "stderr",
     "output_type": "stream",
     "text": [
      "                                                                                                                      "
     ]
    },
    {
     "name": "stdout",
     "output_type": "stream",
     "text": [
      "Fault 7 - Epoch 13/30, Train Loss: 0.0330, Val Loss: 0.0324, Time: 441.03s\n"
     ]
    },
    {
     "name": "stderr",
     "output_type": "stream",
     "text": [
      "                                                                                                                      "
     ]
    },
    {
     "name": "stdout",
     "output_type": "stream",
     "text": [
      "Fault 7 - Epoch 14/30, Train Loss: 0.0338, Val Loss: 0.0399, Time: 441.05s\n"
     ]
    },
    {
     "name": "stderr",
     "output_type": "stream",
     "text": [
      "                                                                                                                      "
     ]
    },
    {
     "name": "stdout",
     "output_type": "stream",
     "text": [
      "Fault 7 - Epoch 15/30, Train Loss: 0.0358, Val Loss: 0.0325, Time: 430.57s\n",
      "Checkpoint saved at checkpoints\\fault_7_checkpoint_epoch_15.pth\n"
     ]
    },
    {
     "name": "stderr",
     "output_type": "stream",
     "text": [
      "                                                                                                                      "
     ]
    },
    {
     "name": "stdout",
     "output_type": "stream",
     "text": [
      "Fault 7 - Epoch 16/30, Train Loss: 0.0328, Val Loss: 0.0323, Time: 433.95s\n"
     ]
    },
    {
     "name": "stderr",
     "output_type": "stream",
     "text": [
      "                                                                                                                      "
     ]
    },
    {
     "name": "stdout",
     "output_type": "stream",
     "text": [
      "Fault 7 - Epoch 17/30, Train Loss: 0.0328, Val Loss: 0.0324, Time: 395.39s\n"
     ]
    },
    {
     "name": "stderr",
     "output_type": "stream",
     "text": [
      "                                                                                                                      "
     ]
    },
    {
     "name": "stdout",
     "output_type": "stream",
     "text": [
      "Fault 7 - Epoch 18/30, Train Loss: 0.0329, Val Loss: 0.0323, Time: 443.57s\n"
     ]
    },
    {
     "name": "stderr",
     "output_type": "stream",
     "text": [
      "                                                                                                                      "
     ]
    },
    {
     "name": "stdout",
     "output_type": "stream",
     "text": [
      "Fault 7 - Epoch 19/30, Train Loss: 0.0329, Val Loss: 0.0323, Time: 440.13s\n"
     ]
    },
    {
     "name": "stderr",
     "output_type": "stream",
     "text": [
      "                                                                                                                      "
     ]
    },
    {
     "name": "stdout",
     "output_type": "stream",
     "text": [
      "Fault 7 - Epoch 20/30, Train Loss: 0.0328, Val Loss: 0.0328, Time: 438.02s\n",
      "Checkpoint saved at checkpoints\\fault_7_checkpoint_epoch_20.pth\n"
     ]
    },
    {
     "name": "stderr",
     "output_type": "stream",
     "text": [
      "                                                                                                                      "
     ]
    },
    {
     "name": "stdout",
     "output_type": "stream",
     "text": [
      "Fault 7 - Epoch 21/30, Train Loss: 0.0334, Val Loss: 0.0323, Time: 444.83s\n"
     ]
    },
    {
     "name": "stderr",
     "output_type": "stream",
     "text": [
      "                                                                                                                      "
     ]
    },
    {
     "name": "stdout",
     "output_type": "stream",
     "text": [
      "Fault 7 - Epoch 22/30, Train Loss: 0.0331, Val Loss: 0.0323, Time: 433.27s\n"
     ]
    },
    {
     "name": "stderr",
     "output_type": "stream",
     "text": [
      "                                                                                                                      "
     ]
    },
    {
     "name": "stdout",
     "output_type": "stream",
     "text": [
      "Fault 7 - Epoch 23/30, Train Loss: 0.0343, Val Loss: 0.0668, Time: 435.58s\n"
     ]
    },
    {
     "name": "stderr",
     "output_type": "stream",
     "text": [
      "                                                                                                                      "
     ]
    },
    {
     "name": "stdout",
     "output_type": "stream",
     "text": [
      "Fault 7 - Epoch 24/30, Train Loss: 0.0349, Val Loss: 0.0323, Time: 438.33s\n"
     ]
    },
    {
     "name": "stderr",
     "output_type": "stream",
     "text": [
      "                                                                                                                      "
     ]
    },
    {
     "name": "stdout",
     "output_type": "stream",
     "text": [
      "Fault 7 - Epoch 25/30, Train Loss: 0.0328, Val Loss: 0.0325, Time: 444.40s\n",
      "Checkpoint saved at checkpoints\\fault_7_checkpoint_epoch_25.pth\n"
     ]
    },
    {
     "name": "stderr",
     "output_type": "stream",
     "text": [
      "                                                                                                                      "
     ]
    },
    {
     "name": "stdout",
     "output_type": "stream",
     "text": [
      "Fault 7 - Epoch 26/30, Train Loss: 0.0329, Val Loss: 0.0327, Time: 447.28s\n"
     ]
    },
    {
     "name": "stderr",
     "output_type": "stream",
     "text": [
      "                                                                                                                      "
     ]
    },
    {
     "name": "stdout",
     "output_type": "stream",
     "text": [
      "Fault 7 - Epoch 27/30, Train Loss: 0.0331, Val Loss: 0.0325, Time: 433.43s\n"
     ]
    },
    {
     "name": "stderr",
     "output_type": "stream",
     "text": [
      "                                                                                                                      "
     ]
    },
    {
     "name": "stdout",
     "output_type": "stream",
     "text": [
      "Fault 7 - Epoch 28/30, Train Loss: 0.0334, Val Loss: 0.0340, Time: 464.20s\n"
     ]
    },
    {
     "name": "stderr",
     "output_type": "stream",
     "text": [
      "                                                                                                                      "
     ]
    },
    {
     "name": "stdout",
     "output_type": "stream",
     "text": [
      "Fault 7 - Epoch 29/30, Train Loss: 0.0331, Val Loss: 0.0325, Time: 407.98s\n"
     ]
    },
    {
     "name": "stderr",
     "output_type": "stream",
     "text": [
      "                                                                                                                      "
     ]
    },
    {
     "name": "stdout",
     "output_type": "stream",
     "text": [
      "Fault 7 - Epoch 30/30, Train Loss: 0.0327, Val Loss: 0.0326, Time: 414.26s\n",
      "Checkpoint saved at checkpoints\\fault_7_checkpoint_epoch_30.pth\n",
      "Checkpoint saved at checkpoints\\fault_7_final_model.pth\n",
      "Training for fault type 7 complete!\n",
      "Creating sliding windows with lookback=15...\n"
     ]
    },
    {
     "name": "stderr",
     "output_type": "stream",
     "text": [
      "Creating windows: 100%|███████████████████████████████████████████████████| 479985/479985 [00:00<00:00, 579490.25it/s]\n"
     ]
    },
    {
     "name": "stdout",
     "output_type": "stream",
     "text": [
      "Evaluating model for fault type 7...\n"
     ]
    },
    {
     "name": "stderr",
     "output_type": "stream",
     "text": [
      "                                                                                                                      "
     ]
    },
    {
     "name": "stdout",
     "output_type": "stream",
     "text": [
      "Fault Type 7 - Precision: 1.0000, Recall: 0.8782, F1: 0.9351, Accuracy: 0.8782\n",
      "\n",
      "Processing fault type 8...\n",
      "\n",
      "================================================================================\n",
      "Processing Fault Type 8\n",
      "================================================================================\n",
      "Creating sliding windows with lookback=15...\n"
     ]
    },
    {
     "name": "stderr",
     "output_type": "stream",
     "text": [
      "Creating windows: 100%|██████████████████████████████████████████████████| 499985/499985 [00:00<00:00, 1865785.76it/s]\n"
     ]
    },
    {
     "name": "stdout",
     "output_type": "stream",
     "text": [
      "Initializing model for fault type 8...\n",
      "No checkpoint found for fault type 8 at checkpoints\\fault_8_checkpoint.pth, starting from scratch\n",
      "Starting training for fault type 8...\n"
     ]
    },
    {
     "name": "stderr",
     "output_type": "stream",
     "text": [
      "                                                                                                                      "
     ]
    },
    {
     "name": "stdout",
     "output_type": "stream",
     "text": [
      "Fault 8 - Epoch 1/30, Train Loss: 0.1084, Val Loss: 0.1038, Time: 457.11s\n",
      "Checkpoint saved at checkpoints\\fault_8_best_model.pth\n",
      "New best model for fault type 8 saved with loss: 0.1038\n"
     ]
    },
    {
     "name": "stderr",
     "output_type": "stream",
     "text": [
      "                                                                                                                      "
     ]
    },
    {
     "name": "stdout",
     "output_type": "stream",
     "text": [
      "Fault 8 - Epoch 2/30, Train Loss: 0.0734, Val Loss: 0.0650, Time: 439.44s\n",
      "Checkpoint saved at checkpoints\\fault_8_best_model.pth\n",
      "New best model for fault type 8 saved with loss: 0.0650\n"
     ]
    },
    {
     "name": "stderr",
     "output_type": "stream",
     "text": [
      "                                                                                                                      "
     ]
    },
    {
     "name": "stdout",
     "output_type": "stream",
     "text": [
      "Fault 8 - Epoch 3/30, Train Loss: 0.0625, Val Loss: 0.0624, Time: 438.86s\n",
      "Checkpoint saved at checkpoints\\fault_8_best_model.pth\n",
      "New best model for fault type 8 saved with loss: 0.0624\n"
     ]
    },
    {
     "name": "stderr",
     "output_type": "stream",
     "text": [
      "                                                                                                                      "
     ]
    },
    {
     "name": "stdout",
     "output_type": "stream",
     "text": [
      "Fault 8 - Epoch 4/30, Train Loss: 0.0609, Val Loss: 0.0587, Time: 442.40s\n",
      "Checkpoint saved at checkpoints\\fault_8_best_model.pth\n",
      "New best model for fault type 8 saved with loss: 0.0587\n"
     ]
    },
    {
     "name": "stderr",
     "output_type": "stream",
     "text": [
      "                                                                                                                      "
     ]
    },
    {
     "name": "stdout",
     "output_type": "stream",
     "text": [
      "Fault 8 - Epoch 5/30, Train Loss: 0.0582, Val Loss: 0.0572, Time: 443.07s\n",
      "Checkpoint saved at checkpoints\\fault_8_checkpoint_epoch_5.pth\n",
      "Checkpoint saved at checkpoints\\fault_8_best_model.pth\n",
      "New best model for fault type 8 saved with loss: 0.0572\n"
     ]
    },
    {
     "name": "stderr",
     "output_type": "stream",
     "text": [
      "                                                                                                                      "
     ]
    },
    {
     "name": "stdout",
     "output_type": "stream",
     "text": [
      "Fault 8 - Epoch 6/30, Train Loss: 0.0562, Val Loss: 0.0561, Time: 441.74s\n",
      "Checkpoint saved at checkpoints\\fault_8_best_model.pth\n",
      "New best model for fault type 8 saved with loss: 0.0561\n"
     ]
    },
    {
     "name": "stderr",
     "output_type": "stream",
     "text": [
      "                                                                                                                      "
     ]
    },
    {
     "name": "stdout",
     "output_type": "stream",
     "text": [
      "Fault 8 - Epoch 7/30, Train Loss: 0.0560, Val Loss: 0.0561, Time: 451.93s\n"
     ]
    },
    {
     "name": "stderr",
     "output_type": "stream",
     "text": [
      "                                                                                                                      "
     ]
    },
    {
     "name": "stdout",
     "output_type": "stream",
     "text": [
      "Fault 8 - Epoch 8/30, Train Loss: 0.0566, Val Loss: 0.0580, Time: 438.47s\n"
     ]
    },
    {
     "name": "stderr",
     "output_type": "stream",
     "text": [
      "                                                                                                                      "
     ]
    },
    {
     "name": "stdout",
     "output_type": "stream",
     "text": [
      "Fault 8 - Epoch 9/30, Train Loss: 0.0570, Val Loss: 0.0579, Time: 427.66s\n"
     ]
    },
    {
     "name": "stderr",
     "output_type": "stream",
     "text": [
      "                                                                                                                      "
     ]
    },
    {
     "name": "stdout",
     "output_type": "stream",
     "text": [
      "Fault 8 - Epoch 10/30, Train Loss: 0.0555, Val Loss: 0.0552, Time: 439.71s\n",
      "Checkpoint saved at checkpoints\\fault_8_checkpoint_epoch_10.pth\n",
      "Checkpoint saved at checkpoints\\fault_8_best_model.pth\n",
      "New best model for fault type 8 saved with loss: 0.0552\n"
     ]
    },
    {
     "name": "stderr",
     "output_type": "stream",
     "text": [
      "                                                                                                                      "
     ]
    },
    {
     "name": "stdout",
     "output_type": "stream",
     "text": [
      "Fault 8 - Epoch 11/30, Train Loss: 0.0546, Val Loss: 0.0574, Time: 437.75s\n"
     ]
    },
    {
     "name": "stderr",
     "output_type": "stream",
     "text": [
      "                                                                                                                      "
     ]
    },
    {
     "name": "stdout",
     "output_type": "stream",
     "text": [
      "Fault 8 - Epoch 12/30, Train Loss: 0.0545, Val Loss: 0.0546, Time: 448.99s\n",
      "Checkpoint saved at checkpoints\\fault_8_best_model.pth\n",
      "New best model for fault type 8 saved with loss: 0.0546\n"
     ]
    },
    {
     "name": "stderr",
     "output_type": "stream",
     "text": [
      "                                                                                                                      "
     ]
    },
    {
     "name": "stdout",
     "output_type": "stream",
     "text": [
      "Fault 8 - Epoch 13/30, Train Loss: 0.0531, Val Loss: 0.0529, Time: 403.96s\n",
      "Checkpoint saved at checkpoints\\fault_8_best_model.pth\n",
      "New best model for fault type 8 saved with loss: 0.0529\n"
     ]
    },
    {
     "name": "stderr",
     "output_type": "stream",
     "text": [
      "                                                                                                                      "
     ]
    },
    {
     "name": "stdout",
     "output_type": "stream",
     "text": [
      "Fault 8 - Epoch 14/30, Train Loss: 0.0527, Val Loss: 0.0530, Time: 447.27s\n"
     ]
    },
    {
     "name": "stderr",
     "output_type": "stream",
     "text": [
      "                                                                                                                      "
     ]
    },
    {
     "name": "stdout",
     "output_type": "stream",
     "text": [
      "Fault 8 - Epoch 15/30, Train Loss: 0.0514, Val Loss: 0.0538, Time: 446.45s\n",
      "Checkpoint saved at checkpoints\\fault_8_checkpoint_epoch_15.pth\n"
     ]
    },
    {
     "name": "stderr",
     "output_type": "stream",
     "text": [
      "                                                                                                                      "
     ]
    },
    {
     "name": "stdout",
     "output_type": "stream",
     "text": [
      "Fault 8 - Epoch 16/30, Train Loss: 0.0506, Val Loss: 0.0498, Time: 442.39s\n",
      "Checkpoint saved at checkpoints\\fault_8_best_model.pth\n",
      "New best model for fault type 8 saved with loss: 0.0498\n"
     ]
    },
    {
     "name": "stderr",
     "output_type": "stream",
     "text": [
      "                                                                                                                      "
     ]
    },
    {
     "name": "stdout",
     "output_type": "stream",
     "text": [
      "Fault 8 - Epoch 17/30, Train Loss: 0.0500, Val Loss: 0.0480, Time: 446.46s\n",
      "Checkpoint saved at checkpoints\\fault_8_best_model.pth\n",
      "New best model for fault type 8 saved with loss: 0.0480\n"
     ]
    },
    {
     "name": "stderr",
     "output_type": "stream",
     "text": [
      "                                                                                                                      "
     ]
    },
    {
     "name": "stdout",
     "output_type": "stream",
     "text": [
      "Fault 8 - Epoch 18/30, Train Loss: 0.0497, Val Loss: 0.0490, Time: 437.29s\n"
     ]
    },
    {
     "name": "stderr",
     "output_type": "stream",
     "text": [
      "                                                                                                                      "
     ]
    },
    {
     "name": "stdout",
     "output_type": "stream",
     "text": [
      "Fault 8 - Epoch 19/30, Train Loss: 0.0483, Val Loss: 0.0483, Time: 450.83s\n"
     ]
    },
    {
     "name": "stderr",
     "output_type": "stream",
     "text": [
      "                                                                                                                      "
     ]
    },
    {
     "name": "stdout",
     "output_type": "stream",
     "text": [
      "Fault 8 - Epoch 20/30, Train Loss: 0.0475, Val Loss: 0.0477, Time: 452.13s\n",
      "Checkpoint saved at checkpoints\\fault_8_checkpoint_epoch_20.pth\n",
      "Checkpoint saved at checkpoints\\fault_8_best_model.pth\n",
      "New best model for fault type 8 saved with loss: 0.0477\n"
     ]
    },
    {
     "name": "stderr",
     "output_type": "stream",
     "text": [
      "                                                                                                                      "
     ]
    },
    {
     "name": "stdout",
     "output_type": "stream",
     "text": [
      "Fault 8 - Epoch 21/30, Train Loss: 0.0479, Val Loss: 0.0466, Time: 440.60s\n",
      "Checkpoint saved at checkpoints\\fault_8_best_model.pth\n",
      "New best model for fault type 8 saved with loss: 0.0466\n"
     ]
    },
    {
     "name": "stderr",
     "output_type": "stream",
     "text": [
      "                                                                                                                      "
     ]
    },
    {
     "name": "stdout",
     "output_type": "stream",
     "text": [
      "Fault 8 - Epoch 22/30, Train Loss: 0.0476, Val Loss: 0.0469, Time: 447.58s\n"
     ]
    },
    {
     "name": "stderr",
     "output_type": "stream",
     "text": [
      "                                                                                                                      "
     ]
    },
    {
     "name": "stdout",
     "output_type": "stream",
     "text": [
      "Fault 8 - Epoch 23/30, Train Loss: 0.0475, Val Loss: 0.0474, Time: 430.02s\n"
     ]
    },
    {
     "name": "stderr",
     "output_type": "stream",
     "text": [
      "                                                                                                                      "
     ]
    },
    {
     "name": "stdout",
     "output_type": "stream",
     "text": [
      "Fault 8 - Epoch 24/30, Train Loss: 0.0468, Val Loss: 0.0483, Time: 443.43s\n"
     ]
    },
    {
     "name": "stderr",
     "output_type": "stream",
     "text": [
      "                                                                                                                      "
     ]
    },
    {
     "name": "stdout",
     "output_type": "stream",
     "text": [
      "Fault 8 - Epoch 25/30, Train Loss: 0.0467, Val Loss: 0.0463, Time: 437.38s\n",
      "Checkpoint saved at checkpoints\\fault_8_checkpoint_epoch_25.pth\n",
      "Checkpoint saved at checkpoints\\fault_8_best_model.pth\n",
      "New best model for fault type 8 saved with loss: 0.0463\n"
     ]
    },
    {
     "name": "stderr",
     "output_type": "stream",
     "text": [
      "                                                                                                                      "
     ]
    },
    {
     "name": "stdout",
     "output_type": "stream",
     "text": [
      "Fault 8 - Epoch 26/30, Train Loss: 0.0462, Val Loss: 0.0488, Time: 447.73s\n"
     ]
    },
    {
     "name": "stderr",
     "output_type": "stream",
     "text": [
      "                                                                                                                      "
     ]
    },
    {
     "name": "stdout",
     "output_type": "stream",
     "text": [
      "Fault 8 - Epoch 27/30, Train Loss: 0.0464, Val Loss: 0.0464, Time: 442.36s\n"
     ]
    },
    {
     "name": "stderr",
     "output_type": "stream",
     "text": [
      "                                                                                                                      "
     ]
    },
    {
     "name": "stdout",
     "output_type": "stream",
     "text": [
      "Fault 8 - Epoch 28/30, Train Loss: 0.0461, Val Loss: 0.0476, Time: 443.76s\n"
     ]
    },
    {
     "name": "stderr",
     "output_type": "stream",
     "text": [
      "                                                                                                                      "
     ]
    },
    {
     "name": "stdout",
     "output_type": "stream",
     "text": [
      "Fault 8 - Epoch 29/30, Train Loss: 0.0457, Val Loss: 0.0493, Time: 439.02s\n"
     ]
    },
    {
     "name": "stderr",
     "output_type": "stream",
     "text": [
      "                                                                                                                      "
     ]
    },
    {
     "name": "stdout",
     "output_type": "stream",
     "text": [
      "Fault 8 - Epoch 30/30, Train Loss: 0.0453, Val Loss: 0.0470, Time: 439.64s\n",
      "Checkpoint saved at checkpoints\\fault_8_checkpoint_epoch_30.pth\n",
      "Checkpoint saved at checkpoints\\fault_8_final_model.pth\n",
      "Training for fault type 8 complete!\n",
      "Creating sliding windows with lookback=15...\n"
     ]
    },
    {
     "name": "stderr",
     "output_type": "stream",
     "text": [
      "Creating windows: 100%|██████████████████████████████████████████████████| 479985/479985 [00:00<00:00, 1462971.94it/s]\n"
     ]
    },
    {
     "name": "stdout",
     "output_type": "stream",
     "text": [
      "Evaluating model for fault type 8...\n"
     ]
    },
    {
     "name": "stderr",
     "output_type": "stream",
     "text": [
      "                                                                                                                      "
     ]
    },
    {
     "name": "stdout",
     "output_type": "stream",
     "text": [
      "Fault Type 8 - Precision: 1.0000, Recall: 0.8661, F1: 0.9282, Accuracy: 0.8661\n",
      "\n",
      "Processing fault type 9...\n",
      "\n",
      "================================================================================\n",
      "Processing Fault Type 9\n",
      "================================================================================\n",
      "Creating sliding windows with lookback=15...\n"
     ]
    },
    {
     "name": "stderr",
     "output_type": "stream",
     "text": [
      "Creating windows: 100%|██████████████████████████████████████████████████| 499985/499985 [00:00<00:00, 1196763.73it/s]\n"
     ]
    },
    {
     "name": "stdout",
     "output_type": "stream",
     "text": [
      "Initializing model for fault type 9...\n",
      "No checkpoint found for fault type 9 at checkpoints\\fault_9_checkpoint.pth, starting from scratch\n",
      "Starting training for fault type 9...\n"
     ]
    },
    {
     "name": "stderr",
     "output_type": "stream",
     "text": [
      "                                                                                                                      "
     ]
    },
    {
     "name": "stdout",
     "output_type": "stream",
     "text": [
      "Fault 9 - Epoch 1/30, Train Loss: 0.6937, Val Loss: 0.6933, Time: 485.72s\n",
      "Checkpoint saved at checkpoints\\fault_9_best_model.pth\n",
      "New best model for fault type 9 saved with loss: 0.6933\n"
     ]
    },
    {
     "name": "stderr",
     "output_type": "stream",
     "text": [
      "                                                                                                                      "
     ]
    },
    {
     "name": "stdout",
     "output_type": "stream",
     "text": [
      "Fault 9 - Epoch 2/30, Train Loss: 0.6932, Val Loss: 0.6931, Time: 441.73s\n",
      "Checkpoint saved at checkpoints\\fault_9_best_model.pth\n",
      "New best model for fault type 9 saved with loss: 0.6931\n"
     ]
    },
    {
     "name": "stderr",
     "output_type": "stream",
     "text": [
      "                                                                                                                      "
     ]
    },
    {
     "name": "stdout",
     "output_type": "stream",
     "text": [
      "Fault 9 - Epoch 3/30, Train Loss: 0.6932, Val Loss: 0.6932, Time: 440.63s\n"
     ]
    },
    {
     "name": "stderr",
     "output_type": "stream",
     "text": [
      "                                                                                                                      "
     ]
    },
    {
     "name": "stdout",
     "output_type": "stream",
     "text": [
      "Fault 9 - Epoch 4/30, Train Loss: 0.6932, Val Loss: 0.6933, Time: 434.61s\n"
     ]
    },
    {
     "name": "stderr",
     "output_type": "stream",
     "text": [
      "                                                                                                                      "
     ]
    },
    {
     "name": "stdout",
     "output_type": "stream",
     "text": [
      "Fault 9 - Epoch 5/30, Train Loss: 0.6932, Val Loss: 0.6932, Time: 380.26s\n",
      "Checkpoint saved at checkpoints\\fault_9_checkpoint_epoch_5.pth\n"
     ]
    },
    {
     "name": "stderr",
     "output_type": "stream",
     "text": [
      "                                                                                                                      "
     ]
    },
    {
     "name": "stdout",
     "output_type": "stream",
     "text": [
      "Fault 9 - Epoch 6/30, Train Loss: 0.6932, Val Loss: 0.6931, Time: 383.78s\n",
      "Checkpoint saved at checkpoints\\fault_9_best_model.pth\n",
      "New best model for fault type 9 saved with loss: 0.6931\n"
     ]
    },
    {
     "name": "stderr",
     "output_type": "stream",
     "text": [
      "                                                                                                                      "
     ]
    },
    {
     "name": "stdout",
     "output_type": "stream",
     "text": [
      "Fault 9 - Epoch 7/30, Train Loss: 0.6932, Val Loss: 0.6934, Time: 376.02s\n"
     ]
    },
    {
     "name": "stderr",
     "output_type": "stream",
     "text": [
      "                                                                                                                      "
     ]
    },
    {
     "name": "stdout",
     "output_type": "stream",
     "text": [
      "Fault 9 - Epoch 8/30, Train Loss: 0.6932, Val Loss: 0.6932, Time: 377.39s\n"
     ]
    },
    {
     "name": "stderr",
     "output_type": "stream",
     "text": [
      "                                                                                                                      "
     ]
    },
    {
     "name": "stdout",
     "output_type": "stream",
     "text": [
      "Fault 9 - Epoch 9/30, Train Loss: 0.6932, Val Loss: 0.6931, Time: 379.65s\n"
     ]
    },
    {
     "name": "stderr",
     "output_type": "stream",
     "text": [
      "                                                                                                                      "
     ]
    },
    {
     "name": "stdout",
     "output_type": "stream",
     "text": [
      "Fault 9 - Epoch 10/30, Train Loss: 0.6932, Val Loss: 0.6932, Time: 379.85s\n",
      "Checkpoint saved at checkpoints\\fault_9_checkpoint_epoch_10.pth\n"
     ]
    },
    {
     "name": "stderr",
     "output_type": "stream",
     "text": [
      "                                                                                                                      "
     ]
    },
    {
     "name": "stdout",
     "output_type": "stream",
     "text": [
      "Fault 9 - Epoch 11/30, Train Loss: 0.6932, Val Loss: 0.6931, Time: 372.57s\n"
     ]
    },
    {
     "name": "stderr",
     "output_type": "stream",
     "text": [
      "                                                                                                                      "
     ]
    },
    {
     "name": "stdout",
     "output_type": "stream",
     "text": [
      "Fault 9 - Epoch 12/30, Train Loss: 0.6932, Val Loss: 0.6933, Time: 377.25s\n"
     ]
    },
    {
     "name": "stderr",
     "output_type": "stream",
     "text": [
      "                                                                                                                      "
     ]
    },
    {
     "name": "stdout",
     "output_type": "stream",
     "text": [
      "Fault 9 - Epoch 13/30, Train Loss: 0.6932, Val Loss: 0.6932, Time: 378.88s\n"
     ]
    },
    {
     "name": "stderr",
     "output_type": "stream",
     "text": [
      "                                                                                                                      "
     ]
    },
    {
     "name": "stdout",
     "output_type": "stream",
     "text": [
      "Fault 9 - Epoch 14/30, Train Loss: 0.6932, Val Loss: 0.6932, Time: 379.77s\n"
     ]
    },
    {
     "name": "stderr",
     "output_type": "stream",
     "text": [
      "                                                                                                                      "
     ]
    },
    {
     "name": "stdout",
     "output_type": "stream",
     "text": [
      "Fault 9 - Epoch 15/30, Train Loss: 0.6932, Val Loss: 0.6933, Time: 377.50s\n",
      "Checkpoint saved at checkpoints\\fault_9_checkpoint_epoch_15.pth\n"
     ]
    },
    {
     "name": "stderr",
     "output_type": "stream",
     "text": [
      "                                                                                                                      "
     ]
    },
    {
     "name": "stdout",
     "output_type": "stream",
     "text": [
      "Fault 9 - Epoch 16/30, Train Loss: 0.6932, Val Loss: 0.6932, Time: 379.33s\n"
     ]
    },
    {
     "name": "stderr",
     "output_type": "stream",
     "text": [
      "                                                                                                                      "
     ]
    },
    {
     "name": "stdout",
     "output_type": "stream",
     "text": [
      "Fault 9 - Epoch 17/30, Train Loss: 0.6932, Val Loss: 0.6932, Time: 377.88s\n"
     ]
    },
    {
     "name": "stderr",
     "output_type": "stream",
     "text": [
      "                                                                                                                      "
     ]
    },
    {
     "name": "stdout",
     "output_type": "stream",
     "text": [
      "Fault 9 - Epoch 18/30, Train Loss: 0.6932, Val Loss: 0.6931, Time: 377.26s\n"
     ]
    },
    {
     "name": "stderr",
     "output_type": "stream",
     "text": [
      "                                                                                                                      "
     ]
    },
    {
     "name": "stdout",
     "output_type": "stream",
     "text": [
      "Fault 9 - Epoch 19/30, Train Loss: 0.6932, Val Loss: 0.6933, Time: 377.39s\n"
     ]
    },
    {
     "name": "stderr",
     "output_type": "stream",
     "text": [
      "                                                                                                                      "
     ]
    },
    {
     "name": "stdout",
     "output_type": "stream",
     "text": [
      "Fault 9 - Epoch 20/30, Train Loss: 0.6932, Val Loss: 0.6932, Time: 379.86s\n",
      "Checkpoint saved at checkpoints\\fault_9_checkpoint_epoch_20.pth\n"
     ]
    },
    {
     "name": "stderr",
     "output_type": "stream",
     "text": [
      "                                                                                                                      "
     ]
    },
    {
     "name": "stdout",
     "output_type": "stream",
     "text": [
      "Fault 9 - Epoch 21/30, Train Loss: 0.6932, Val Loss: 0.6932, Time: 377.38s\n"
     ]
    },
    {
     "name": "stderr",
     "output_type": "stream",
     "text": [
      "                                                                                                                      "
     ]
    },
    {
     "name": "stdout",
     "output_type": "stream",
     "text": [
      "Fault 9 - Epoch 22/30, Train Loss: 0.6932, Val Loss: 0.6932, Time: 378.51s\n"
     ]
    },
    {
     "name": "stderr",
     "output_type": "stream",
     "text": [
      "                                                                                                                      "
     ]
    },
    {
     "name": "stdout",
     "output_type": "stream",
     "text": [
      "Fault 9 - Epoch 23/30, Train Loss: 0.6932, Val Loss: 0.6931, Time: 374.64s\n"
     ]
    },
    {
     "name": "stderr",
     "output_type": "stream",
     "text": [
      "                                                                                                                      "
     ]
    },
    {
     "name": "stdout",
     "output_type": "stream",
     "text": [
      "Fault 9 - Epoch 24/30, Train Loss: 0.6932, Val Loss: 0.6932, Time: 377.47s\n"
     ]
    },
    {
     "name": "stderr",
     "output_type": "stream",
     "text": [
      "                                                                                                                      "
     ]
    },
    {
     "name": "stdout",
     "output_type": "stream",
     "text": [
      "Fault 9 - Epoch 25/30, Train Loss: 0.6932, Val Loss: 0.6932, Time: 379.79s\n",
      "Checkpoint saved at checkpoints\\fault_9_checkpoint_epoch_25.pth\n"
     ]
    },
    {
     "name": "stderr",
     "output_type": "stream",
     "text": [
      "                                                                                                                      "
     ]
    },
    {
     "name": "stdout",
     "output_type": "stream",
     "text": [
      "Fault 9 - Epoch 26/30, Train Loss: 0.6932, Val Loss: 0.6932, Time: 383.35s\n"
     ]
    },
    {
     "name": "stderr",
     "output_type": "stream",
     "text": [
      "                                                                                                                      "
     ]
    },
    {
     "name": "stdout",
     "output_type": "stream",
     "text": [
      "Fault 9 - Epoch 27/30, Train Loss: 0.6932, Val Loss: 0.6931, Time: 377.71s\n"
     ]
    },
    {
     "name": "stderr",
     "output_type": "stream",
     "text": [
      "                                                                                                                      "
     ]
    },
    {
     "name": "stdout",
     "output_type": "stream",
     "text": [
      "Fault 9 - Epoch 28/30, Train Loss: 0.6932, Val Loss: 0.6932, Time: 380.81s\n"
     ]
    },
    {
     "name": "stderr",
     "output_type": "stream",
     "text": [
      "                                                                                                                      "
     ]
    },
    {
     "name": "stdout",
     "output_type": "stream",
     "text": [
      "Fault 9 - Epoch 29/30, Train Loss: 0.6932, Val Loss: 0.6932, Time: 381.45s\n"
     ]
    },
    {
     "name": "stderr",
     "output_type": "stream",
     "text": [
      "                                                                                                                      "
     ]
    },
    {
     "name": "stdout",
     "output_type": "stream",
     "text": [
      "Fault 9 - Epoch 30/30, Train Loss: 0.6932, Val Loss: 0.6932, Time: 379.87s\n",
      "Checkpoint saved at checkpoints\\fault_9_checkpoint_epoch_30.pth\n",
      "Checkpoint saved at checkpoints\\fault_9_final_model.pth\n",
      "Training for fault type 9 complete!\n",
      "Creating sliding windows with lookback=15...\n"
     ]
    },
    {
     "name": "stderr",
     "output_type": "stream",
     "text": [
      "Creating windows: 100%|██████████████████████████████████████████████████| 479985/479985 [00:00<00:00, 1358825.34it/s]\n"
     ]
    },
    {
     "name": "stdout",
     "output_type": "stream",
     "text": [
      "Evaluating model for fault type 9...\n"
     ]
    },
    {
     "name": "stderr",
     "output_type": "stream",
     "text": [
      "                                                                                                                      "
     ]
    },
    {
     "name": "stdout",
     "output_type": "stream",
     "text": [
      "Fault Type 9 - Precision: 0.9997, Recall: 1.0000, F1: 0.9998, Accuracy: 0.9997\n",
      "\n",
      "Processing fault type 10...\n",
      "\n",
      "================================================================================\n",
      "Processing Fault Type 10\n",
      "================================================================================\n",
      "Creating sliding windows with lookback=15...\n"
     ]
    },
    {
     "name": "stderr",
     "output_type": "stream",
     "text": [
      "Creating windows: 100%|██████████████████████████████████████████████████| 499985/499985 [00:00<00:00, 1866499.83it/s]\n"
     ]
    },
    {
     "name": "stdout",
     "output_type": "stream",
     "text": [
      "Initializing model for fault type 10...\n",
      "No checkpoint found for fault type 10 at checkpoints\\fault_10_checkpoint.pth, starting from scratch\n",
      "Starting training for fault type 10...\n"
     ]
    },
    {
     "name": "stderr",
     "output_type": "stream",
     "text": [
      "                                                                                                                      "
     ]
    },
    {
     "name": "stdout",
     "output_type": "stream",
     "text": [
      "Fault 10 - Epoch 1/30, Train Loss: 0.1548, Val Loss: 0.1120, Time: 420.23s\n",
      "Checkpoint saved at checkpoints\\fault_10_best_model.pth\n",
      "New best model for fault type 10 saved with loss: 0.1120\n"
     ]
    },
    {
     "name": "stderr",
     "output_type": "stream",
     "text": [
      "                                                                                                                      "
     ]
    },
    {
     "name": "stdout",
     "output_type": "stream",
     "text": [
      "Fault 10 - Epoch 2/30, Train Loss: 0.0997, Val Loss: 0.0851, Time: 378.41s\n",
      "Checkpoint saved at checkpoints\\fault_10_best_model.pth\n",
      "New best model for fault type 10 saved with loss: 0.0851\n"
     ]
    },
    {
     "name": "stderr",
     "output_type": "stream",
     "text": [
      "                                                                                                                      "
     ]
    },
    {
     "name": "stdout",
     "output_type": "stream",
     "text": [
      "Fault 10 - Epoch 3/30, Train Loss: 0.0901, Val Loss: 0.0825, Time: 380.93s\n",
      "Checkpoint saved at checkpoints\\fault_10_best_model.pth\n",
      "New best model for fault type 10 saved with loss: 0.0825\n"
     ]
    },
    {
     "name": "stderr",
     "output_type": "stream",
     "text": [
      "                                                                                                                      "
     ]
    },
    {
     "name": "stdout",
     "output_type": "stream",
     "text": [
      "Fault 10 - Epoch 4/30, Train Loss: 0.0851, Val Loss: 0.0792, Time: 386.75s\n",
      "Checkpoint saved at checkpoints\\fault_10_best_model.pth\n",
      "New best model for fault type 10 saved with loss: 0.0792\n"
     ]
    },
    {
     "name": "stderr",
     "output_type": "stream",
     "text": [
      "                                                                                                                      "
     ]
    },
    {
     "name": "stdout",
     "output_type": "stream",
     "text": [
      "Fault 10 - Epoch 5/30, Train Loss: 0.0809, Val Loss: 0.0774, Time: 380.61s\n",
      "Checkpoint saved at checkpoints\\fault_10_checkpoint_epoch_5.pth\n",
      "Checkpoint saved at checkpoints\\fault_10_best_model.pth\n",
      "New best model for fault type 10 saved with loss: 0.0774\n"
     ]
    },
    {
     "name": "stderr",
     "output_type": "stream",
     "text": [
      "                                                                                                                      "
     ]
    },
    {
     "name": "stdout",
     "output_type": "stream",
     "text": [
      "Fault 10 - Epoch 6/30, Train Loss: 0.0787, Val Loss: 0.0790, Time: 379.79s\n"
     ]
    },
    {
     "name": "stderr",
     "output_type": "stream",
     "text": [
      "                                                                                                                      "
     ]
    },
    {
     "name": "stdout",
     "output_type": "stream",
     "text": [
      "Fault 10 - Epoch 7/30, Train Loss: 0.0765, Val Loss: 0.0771, Time: 376.44s\n",
      "Checkpoint saved at checkpoints\\fault_10_best_model.pth\n",
      "New best model for fault type 10 saved with loss: 0.0771\n"
     ]
    },
    {
     "name": "stderr",
     "output_type": "stream",
     "text": [
      "                                                                                                                      "
     ]
    },
    {
     "name": "stdout",
     "output_type": "stream",
     "text": [
      "Fault 10 - Epoch 8/30, Train Loss: 0.0745, Val Loss: 0.0730, Time: 387.59s\n",
      "Checkpoint saved at checkpoints\\fault_10_best_model.pth\n",
      "New best model for fault type 10 saved with loss: 0.0730\n"
     ]
    },
    {
     "name": "stderr",
     "output_type": "stream",
     "text": [
      "                                                                                                                      "
     ]
    },
    {
     "name": "stdout",
     "output_type": "stream",
     "text": [
      "Fault 10 - Epoch 9/30, Train Loss: 0.0734, Val Loss: 0.0737, Time: 439.03s\n"
     ]
    },
    {
     "name": "stderr",
     "output_type": "stream",
     "text": [
      "                                                                                                                      "
     ]
    },
    {
     "name": "stdout",
     "output_type": "stream",
     "text": [
      "Fault 10 - Epoch 10/30, Train Loss: 0.0709, Val Loss: 0.0712, Time: 431.88s\n",
      "Checkpoint saved at checkpoints\\fault_10_checkpoint_epoch_10.pth\n",
      "Checkpoint saved at checkpoints\\fault_10_best_model.pth\n",
      "New best model for fault type 10 saved with loss: 0.0712\n"
     ]
    },
    {
     "name": "stderr",
     "output_type": "stream",
     "text": [
      "                                                                                                                      "
     ]
    },
    {
     "name": "stdout",
     "output_type": "stream",
     "text": [
      "Fault 10 - Epoch 11/30, Train Loss: 0.0691, Val Loss: 0.0673, Time: 444.85s\n",
      "Checkpoint saved at checkpoints\\fault_10_best_model.pth\n",
      "New best model for fault type 10 saved with loss: 0.0673\n"
     ]
    },
    {
     "name": "stderr",
     "output_type": "stream",
     "text": [
      "                                                                                                                      "
     ]
    },
    {
     "name": "stdout",
     "output_type": "stream",
     "text": [
      "Fault 10 - Epoch 12/30, Train Loss: 0.0681, Val Loss: 0.0681, Time: 435.44s\n"
     ]
    },
    {
     "name": "stderr",
     "output_type": "stream",
     "text": [
      "                                                                                                                      "
     ]
    },
    {
     "name": "stdout",
     "output_type": "stream",
     "text": [
      "Fault 10 - Epoch 13/30, Train Loss: 0.0668, Val Loss: 0.0633, Time: 363.03s\n",
      "Checkpoint saved at checkpoints\\fault_10_best_model.pth\n",
      "New best model for fault type 10 saved with loss: 0.0633\n"
     ]
    },
    {
     "name": "stderr",
     "output_type": "stream",
     "text": [
      "                                                                                                                      "
     ]
    },
    {
     "name": "stdout",
     "output_type": "stream",
     "text": [
      "Fault 10 - Epoch 14/30, Train Loss: 0.0656, Val Loss: 0.0652, Time: 373.90s\n"
     ]
    },
    {
     "name": "stderr",
     "output_type": "stream",
     "text": [
      "                                                                                                                      "
     ]
    },
    {
     "name": "stdout",
     "output_type": "stream",
     "text": [
      "Fault 10 - Epoch 15/30, Train Loss: 0.0639, Val Loss: 0.0657, Time: 363.23s\n",
      "Checkpoint saved at checkpoints\\fault_10_checkpoint_epoch_15.pth\n"
     ]
    },
    {
     "name": "stderr",
     "output_type": "stream",
     "text": [
      "                                                                                                                      "
     ]
    },
    {
     "name": "stdout",
     "output_type": "stream",
     "text": [
      "Fault 10 - Epoch 16/30, Train Loss: 0.0630, Val Loss: 0.0633, Time: 353.33s\n",
      "Checkpoint saved at checkpoints\\fault_10_best_model.pth\n",
      "New best model for fault type 10 saved with loss: 0.0633\n"
     ]
    },
    {
     "name": "stderr",
     "output_type": "stream",
     "text": [
      "                                                                                                                      "
     ]
    },
    {
     "name": "stdout",
     "output_type": "stream",
     "text": [
      "Fault 10 - Epoch 17/30, Train Loss: 0.0620, Val Loss: 0.0640, Time: 334.52s\n"
     ]
    },
    {
     "name": "stderr",
     "output_type": "stream",
     "text": [
      "                                                                                                                      "
     ]
    },
    {
     "name": "stdout",
     "output_type": "stream",
     "text": [
      "Fault 10 - Epoch 18/30, Train Loss: 0.0608, Val Loss: 0.0620, Time: 335.59s\n",
      "Checkpoint saved at checkpoints\\fault_10_best_model.pth\n",
      "New best model for fault type 10 saved with loss: 0.0620\n"
     ]
    },
    {
     "name": "stderr",
     "output_type": "stream",
     "text": [
      "Fault 10 - Epoch 19/30:  64%|████████████████████▌           | 18061/28125 [03:37<02:35, 64.71it/s, batch_loss=0.0762]"
     ]
    }
   ],
   "source": [
    "# Execute main function\n",
    "if __name__ == \"__main__\":\n",
    "    all_results = main()"
   ]
  },
  {
   "cell_type": "markdown",
   "id": "e87975de-d96e-4db0-9e80-04f89fda3af3",
   "metadata": {},
   "source": [
    "**The process was interrupted here due to computer failure; continuing from Fault 10.**"
   ]
  },
  {
   "cell_type": "code",
   "execution_count": 15,
   "id": "1b80979a-df8f-4c53-a47d-9bebbb93a552",
   "metadata": {
    "scrolled": true
   },
   "outputs": [
    {
     "name": "stdout",
     "output_type": "stream",
     "text": [
      "Found fault types: [1, 2, 3, 4, 5, 6, 7, 8, 9, 10, 11, 12, 13, 14, 15, 16, 17, 18, 19, 20]\n",
      "Will process the following fault types: [10, 11, 12, 13, 14, 15, 16, 17, 18, 19, 20]\n",
      "\n",
      "Processing fault type 10...\n",
      "\n",
      "================================================================================\n",
      "Processing Fault Type 10\n",
      "================================================================================\n",
      "Creating sliding windows with lookback=15...\n"
     ]
    },
    {
     "name": "stderr",
     "output_type": "stream",
     "text": [
      "Creating windows: 100%|██████████████████████████████████████████████████| 499985/499985 [00:00<00:00, 1547348.62it/s]\n"
     ]
    },
    {
     "name": "stdout",
     "output_type": "stream",
     "text": [
      "Initializing model for fault type 10...\n",
      "No checkpoint found for fault type 10 at checkpoints\\fault_10_checkpoint.pth, starting from scratch\n",
      "Starting training for fault type 10...\n"
     ]
    },
    {
     "name": "stderr",
     "output_type": "stream",
     "text": [
      "                                                                                                                      "
     ]
    },
    {
     "name": "stdout",
     "output_type": "stream",
     "text": [
      "Fault 10 - Epoch 1/30, Train Loss: 0.1499, Val Loss: 0.1146, Time: 484.55s\n",
      "Checkpoint saved at checkpoints\\fault_10_best_model.pth\n",
      "New best model for fault type 10 saved with loss: 0.1146\n"
     ]
    },
    {
     "name": "stderr",
     "output_type": "stream",
     "text": [
      "                                                                                                                      "
     ]
    },
    {
     "name": "stdout",
     "output_type": "stream",
     "text": [
      "Fault 10 - Epoch 2/30, Train Loss: 0.0985, Val Loss: 0.0939, Time: 444.60s\n",
      "Checkpoint saved at checkpoints\\fault_10_best_model.pth\n",
      "New best model for fault type 10 saved with loss: 0.0939\n"
     ]
    },
    {
     "name": "stderr",
     "output_type": "stream",
     "text": [
      "                                                                                                                      "
     ]
    },
    {
     "name": "stdout",
     "output_type": "stream",
     "text": [
      "Fault 10 - Epoch 3/30, Train Loss: 0.0889, Val Loss: 0.0881, Time: 448.41s\n",
      "Checkpoint saved at checkpoints\\fault_10_best_model.pth\n",
      "New best model for fault type 10 saved with loss: 0.0881\n"
     ]
    },
    {
     "name": "stderr",
     "output_type": "stream",
     "text": [
      "                                                                                                                      "
     ]
    },
    {
     "name": "stdout",
     "output_type": "stream",
     "text": [
      "Fault 10 - Epoch 4/30, Train Loss: 0.0839, Val Loss: 0.0809, Time: 452.59s\n",
      "Checkpoint saved at checkpoints\\fault_10_best_model.pth\n",
      "New best model for fault type 10 saved with loss: 0.0809\n"
     ]
    },
    {
     "name": "stderr",
     "output_type": "stream",
     "text": [
      "                                                                                                                      "
     ]
    },
    {
     "name": "stdout",
     "output_type": "stream",
     "text": [
      "Fault 10 - Epoch 5/30, Train Loss: 0.0798, Val Loss: 0.0757, Time: 444.78s\n",
      "Checkpoint saved at checkpoints\\fault_10_checkpoint_epoch_5.pth\n",
      "Checkpoint saved at checkpoints\\fault_10_best_model.pth\n",
      "New best model for fault type 10 saved with loss: 0.0757\n"
     ]
    },
    {
     "name": "stderr",
     "output_type": "stream",
     "text": [
      "                                                                                                                      "
     ]
    },
    {
     "name": "stdout",
     "output_type": "stream",
     "text": [
      "Fault 10 - Epoch 6/30, Train Loss: 0.0780, Val Loss: 0.0775, Time: 446.03s\n"
     ]
    },
    {
     "name": "stderr",
     "output_type": "stream",
     "text": [
      "                                                                                                                      "
     ]
    },
    {
     "name": "stdout",
     "output_type": "stream",
     "text": [
      "Fault 10 - Epoch 7/30, Train Loss: 0.0751, Val Loss: 0.0748, Time: 449.99s\n",
      "Checkpoint saved at checkpoints\\fault_10_best_model.pth\n",
      "New best model for fault type 10 saved with loss: 0.0748\n"
     ]
    },
    {
     "name": "stderr",
     "output_type": "stream",
     "text": [
      "                                                                                                                      "
     ]
    },
    {
     "name": "stdout",
     "output_type": "stream",
     "text": [
      "Fault 10 - Epoch 8/30, Train Loss: 0.0730, Val Loss: 0.0712, Time: 448.28s\n",
      "Checkpoint saved at checkpoints\\fault_10_best_model.pth\n",
      "New best model for fault type 10 saved with loss: 0.0712\n"
     ]
    },
    {
     "name": "stderr",
     "output_type": "stream",
     "text": [
      "                                                                                                                      "
     ]
    },
    {
     "name": "stdout",
     "output_type": "stream",
     "text": [
      "Fault 10 - Epoch 9/30, Train Loss: 0.0706, Val Loss: 0.0703, Time: 443.59s\n",
      "Checkpoint saved at checkpoints\\fault_10_best_model.pth\n",
      "New best model for fault type 10 saved with loss: 0.0703\n"
     ]
    },
    {
     "name": "stderr",
     "output_type": "stream",
     "text": [
      "                                                                                                                      "
     ]
    },
    {
     "name": "stdout",
     "output_type": "stream",
     "text": [
      "Fault 10 - Epoch 10/30, Train Loss: 0.0685, Val Loss: 0.0665, Time: 446.33s\n",
      "Checkpoint saved at checkpoints\\fault_10_checkpoint_epoch_10.pth\n",
      "Checkpoint saved at checkpoints\\fault_10_best_model.pth\n",
      "New best model for fault type 10 saved with loss: 0.0665\n"
     ]
    },
    {
     "name": "stderr",
     "output_type": "stream",
     "text": [
      "                                                                                                                      "
     ]
    },
    {
     "name": "stdout",
     "output_type": "stream",
     "text": [
      "Fault 10 - Epoch 11/30, Train Loss: 0.0669, Val Loss: 0.0658, Time: 452.47s\n",
      "Checkpoint saved at checkpoints\\fault_10_best_model.pth\n",
      "New best model for fault type 10 saved with loss: 0.0658\n"
     ]
    },
    {
     "name": "stderr",
     "output_type": "stream",
     "text": [
      "                                                                                                                      "
     ]
    },
    {
     "name": "stdout",
     "output_type": "stream",
     "text": [
      "Fault 10 - Epoch 12/30, Train Loss: 0.0655, Val Loss: 0.0621, Time: 459.83s\n",
      "Checkpoint saved at checkpoints\\fault_10_best_model.pth\n",
      "New best model for fault type 10 saved with loss: 0.0621\n"
     ]
    },
    {
     "name": "stderr",
     "output_type": "stream",
     "text": [
      "                                                                                                                      "
     ]
    },
    {
     "name": "stdout",
     "output_type": "stream",
     "text": [
      "Fault 10 - Epoch 13/30, Train Loss: 0.0636, Val Loss: 0.0722, Time: 448.84s\n"
     ]
    },
    {
     "name": "stderr",
     "output_type": "stream",
     "text": [
      "                                                                                                                      "
     ]
    },
    {
     "name": "stdout",
     "output_type": "stream",
     "text": [
      "Fault 10 - Epoch 14/30, Train Loss: 0.0619, Val Loss: 0.0680, Time: 445.57s\n"
     ]
    },
    {
     "name": "stderr",
     "output_type": "stream",
     "text": [
      "                                                                                                                      "
     ]
    },
    {
     "name": "stdout",
     "output_type": "stream",
     "text": [
      "Fault 10 - Epoch 15/30, Train Loss: 0.0602, Val Loss: 0.0633, Time: 451.13s\n",
      "Checkpoint saved at checkpoints\\fault_10_checkpoint_epoch_15.pth\n"
     ]
    },
    {
     "name": "stderr",
     "output_type": "stream",
     "text": [
      "                                                                                                                      "
     ]
    },
    {
     "name": "stdout",
     "output_type": "stream",
     "text": [
      "Fault 10 - Epoch 16/30, Train Loss: 0.0591, Val Loss: 0.0684, Time: 446.28s\n"
     ]
    },
    {
     "name": "stderr",
     "output_type": "stream",
     "text": [
      "                                                                                                                      "
     ]
    },
    {
     "name": "stdout",
     "output_type": "stream",
     "text": [
      "Fault 10 - Epoch 17/30, Train Loss: 0.0586, Val Loss: 0.0701, Time: 445.45s\n"
     ]
    },
    {
     "name": "stderr",
     "output_type": "stream",
     "text": [
      "                                                                                                                      "
     ]
    },
    {
     "name": "stdout",
     "output_type": "stream",
     "text": [
      "Fault 10 - Epoch 18/30, Train Loss: 0.0577, Val Loss: 0.0595, Time: 451.74s\n",
      "Checkpoint saved at checkpoints\\fault_10_best_model.pth\n",
      "New best model for fault type 10 saved with loss: 0.0595\n"
     ]
    },
    {
     "name": "stderr",
     "output_type": "stream",
     "text": [
      "                                                                                                                      "
     ]
    },
    {
     "name": "stdout",
     "output_type": "stream",
     "text": [
      "Fault 10 - Epoch 19/30, Train Loss: 0.0571, Val Loss: 0.0580, Time: 452.59s\n",
      "Checkpoint saved at checkpoints\\fault_10_best_model.pth\n",
      "New best model for fault type 10 saved with loss: 0.0580\n"
     ]
    },
    {
     "name": "stderr",
     "output_type": "stream",
     "text": [
      "                                                                                                                      "
     ]
    },
    {
     "name": "stdout",
     "output_type": "stream",
     "text": [
      "Fault 10 - Epoch 20/30, Train Loss: 0.0565, Val Loss: 0.0712, Time: 450.53s\n",
      "Checkpoint saved at checkpoints\\fault_10_checkpoint_epoch_20.pth\n"
     ]
    },
    {
     "name": "stderr",
     "output_type": "stream",
     "text": [
      "                                                                                                                      "
     ]
    },
    {
     "name": "stdout",
     "output_type": "stream",
     "text": [
      "Fault 10 - Epoch 21/30, Train Loss: 0.0555, Val Loss: 0.0589, Time: 451.09s\n"
     ]
    },
    {
     "name": "stderr",
     "output_type": "stream",
     "text": [
      "                                                                                                                      "
     ]
    },
    {
     "name": "stdout",
     "output_type": "stream",
     "text": [
      "Fault 10 - Epoch 22/30, Train Loss: 0.0540, Val Loss: 0.0582, Time: 454.48s\n"
     ]
    },
    {
     "name": "stderr",
     "output_type": "stream",
     "text": [
      "                                                                                                                      "
     ]
    },
    {
     "name": "stdout",
     "output_type": "stream",
     "text": [
      "Fault 10 - Epoch 23/30, Train Loss: 0.0539, Val Loss: 0.0568, Time: 503.58s\n",
      "Checkpoint saved at checkpoints\\fault_10_best_model.pth\n",
      "New best model for fault type 10 saved with loss: 0.0568\n"
     ]
    },
    {
     "name": "stderr",
     "output_type": "stream",
     "text": [
      "                                                                                                                      "
     ]
    },
    {
     "name": "stdout",
     "output_type": "stream",
     "text": [
      "Fault 10 - Epoch 24/30, Train Loss: 0.0530, Val Loss: 0.0557, Time: 503.25s\n",
      "Checkpoint saved at checkpoints\\fault_10_best_model.pth\n",
      "New best model for fault type 10 saved with loss: 0.0557\n"
     ]
    },
    {
     "name": "stderr",
     "output_type": "stream",
     "text": [
      "                                                                                                                      "
     ]
    },
    {
     "name": "stdout",
     "output_type": "stream",
     "text": [
      "Fault 10 - Epoch 25/30, Train Loss: 0.0519, Val Loss: 0.0558, Time: 531.78s\n",
      "Checkpoint saved at checkpoints\\fault_10_checkpoint_epoch_25.pth\n"
     ]
    },
    {
     "name": "stderr",
     "output_type": "stream",
     "text": [
      "                                                                                                                      "
     ]
    },
    {
     "name": "stdout",
     "output_type": "stream",
     "text": [
      "Fault 10 - Epoch 26/30, Train Loss: 0.0520, Val Loss: 0.0503, Time: 535.76s\n",
      "Checkpoint saved at checkpoints\\fault_10_best_model.pth\n",
      "New best model for fault type 10 saved with loss: 0.0503\n"
     ]
    },
    {
     "name": "stderr",
     "output_type": "stream",
     "text": [
      "                                                                                                                      "
     ]
    },
    {
     "name": "stdout",
     "output_type": "stream",
     "text": [
      "Fault 10 - Epoch 27/30, Train Loss: 0.0512, Val Loss: 0.0536, Time: 541.63s\n"
     ]
    },
    {
     "name": "stderr",
     "output_type": "stream",
     "text": [
      "                                                                                                                      "
     ]
    },
    {
     "name": "stdout",
     "output_type": "stream",
     "text": [
      "Fault 10 - Epoch 28/30, Train Loss: 0.0506, Val Loss: 0.0526, Time: 524.55s\n"
     ]
    },
    {
     "name": "stderr",
     "output_type": "stream",
     "text": [
      "                                                                                                                      "
     ]
    },
    {
     "name": "stdout",
     "output_type": "stream",
     "text": [
      "Fault 10 - Epoch 29/30, Train Loss: 0.0501, Val Loss: 0.0521, Time: 527.77s\n"
     ]
    },
    {
     "name": "stderr",
     "output_type": "stream",
     "text": [
      "                                                                                                                      "
     ]
    },
    {
     "name": "stdout",
     "output_type": "stream",
     "text": [
      "Fault 10 - Epoch 30/30, Train Loss: 0.0497, Val Loss: 0.0546, Time: 531.49s\n",
      "Checkpoint saved at checkpoints\\fault_10_checkpoint_epoch_30.pth\n",
      "Checkpoint saved at checkpoints\\fault_10_final_model.pth\n",
      "Training for fault type 10 complete!\n",
      "Creating sliding windows with lookback=15...\n"
     ]
    },
    {
     "name": "stderr",
     "output_type": "stream",
     "text": [
      "Creating windows: 100%|██████████████████████████████████████████████████| 479985/479985 [00:00<00:00, 1185270.34it/s]\n"
     ]
    },
    {
     "name": "stdout",
     "output_type": "stream",
     "text": [
      "Evaluating model for fault type 10...\n"
     ]
    },
    {
     "name": "stderr",
     "output_type": "stream",
     "text": [
      "                                                                                                                      "
     ]
    },
    {
     "name": "stdout",
     "output_type": "stream",
     "text": [
      "Fault Type 10 - Precision: 1.0000, Recall: 0.8544, F1: 0.9215, Accuracy: 0.8544\n",
      "\n",
      "Processing fault type 11...\n",
      "\n",
      "================================================================================\n",
      "Processing Fault Type 11\n",
      "================================================================================\n",
      "Creating sliding windows with lookback=15...\n"
     ]
    },
    {
     "name": "stderr",
     "output_type": "stream",
     "text": [
      "Creating windows: 100%|██████████████████████████████████████████████████| 499985/499985 [00:00<00:00, 1144388.82it/s]\n"
     ]
    },
    {
     "name": "stdout",
     "output_type": "stream",
     "text": [
      "Initializing model for fault type 11...\n",
      "No checkpoint found for fault type 11 at checkpoints\\fault_11_checkpoint.pth, starting from scratch\n",
      "Starting training for fault type 11...\n"
     ]
    },
    {
     "name": "stderr",
     "output_type": "stream",
     "text": [
      "                                                                                                                      "
     ]
    },
    {
     "name": "stdout",
     "output_type": "stream",
     "text": [
      "Fault 11 - Epoch 1/30, Train Loss: 0.0718, Val Loss: 0.0466, Time: 582.23s\n",
      "Checkpoint saved at checkpoints\\fault_11_best_model.pth\n",
      "New best model for fault type 11 saved with loss: 0.0466\n"
     ]
    },
    {
     "name": "stderr",
     "output_type": "stream",
     "text": [
      "                                                                                                                      "
     ]
    },
    {
     "name": "stdout",
     "output_type": "stream",
     "text": [
      "Fault 11 - Epoch 2/30, Train Loss: 0.0434, Val Loss: 0.0391, Time: 531.25s\n",
      "Checkpoint saved at checkpoints\\fault_11_best_model.pth\n",
      "New best model for fault type 11 saved with loss: 0.0391\n"
     ]
    },
    {
     "name": "stderr",
     "output_type": "stream",
     "text": [
      "                                                                                                                      "
     ]
    },
    {
     "name": "stdout",
     "output_type": "stream",
     "text": [
      "Fault 11 - Epoch 3/30, Train Loss: 0.0394, Val Loss: 0.0393, Time: 530.16s\n"
     ]
    },
    {
     "name": "stderr",
     "output_type": "stream",
     "text": [
      "                                                                                                                      "
     ]
    },
    {
     "name": "stdout",
     "output_type": "stream",
     "text": [
      "Fault 11 - Epoch 4/30, Train Loss: 0.0373, Val Loss: 0.0369, Time: 535.03s\n",
      "Checkpoint saved at checkpoints\\fault_11_best_model.pth\n",
      "New best model for fault type 11 saved with loss: 0.0369\n"
     ]
    },
    {
     "name": "stderr",
     "output_type": "stream",
     "text": [
      "                                                                                                                      "
     ]
    },
    {
     "name": "stdout",
     "output_type": "stream",
     "text": [
      "Fault 11 - Epoch 5/30, Train Loss: 0.0364, Val Loss: 0.0369, Time: 536.56s\n",
      "Checkpoint saved at checkpoints\\fault_11_checkpoint_epoch_5.pth\n",
      "Checkpoint saved at checkpoints\\fault_11_best_model.pth\n",
      "New best model for fault type 11 saved with loss: 0.0369\n"
     ]
    },
    {
     "name": "stderr",
     "output_type": "stream",
     "text": [
      "                                                                                                                      "
     ]
    },
    {
     "name": "stdout",
     "output_type": "stream",
     "text": [
      "Fault 11 - Epoch 6/30, Train Loss: 0.0352, Val Loss: 0.0347, Time: 520.01s\n",
      "Checkpoint saved at checkpoints\\fault_11_best_model.pth\n",
      "New best model for fault type 11 saved with loss: 0.0347\n"
     ]
    },
    {
     "name": "stderr",
     "output_type": "stream",
     "text": [
      "                                                                                                                      "
     ]
    },
    {
     "name": "stdout",
     "output_type": "stream",
     "text": [
      "Fault 11 - Epoch 7/30, Train Loss: 0.0345, Val Loss: 0.0332, Time: 524.35s\n",
      "Checkpoint saved at checkpoints\\fault_11_best_model.pth\n",
      "New best model for fault type 11 saved with loss: 0.0332\n"
     ]
    },
    {
     "name": "stderr",
     "output_type": "stream",
     "text": [
      "                                                                                                                      "
     ]
    },
    {
     "name": "stdout",
     "output_type": "stream",
     "text": [
      "Fault 11 - Epoch 8/30, Train Loss: 0.0337, Val Loss: 0.0335, Time: 531.01s\n"
     ]
    },
    {
     "name": "stderr",
     "output_type": "stream",
     "text": [
      "                                                                                                                      "
     ]
    },
    {
     "name": "stdout",
     "output_type": "stream",
     "text": [
      "Fault 11 - Epoch 9/30, Train Loss: 0.0336, Val Loss: 0.0348, Time: 537.07s\n"
     ]
    },
    {
     "name": "stderr",
     "output_type": "stream",
     "text": [
      "                                                                                                                      "
     ]
    },
    {
     "name": "stdout",
     "output_type": "stream",
     "text": [
      "Fault 11 - Epoch 10/30, Train Loss: 0.0330, Val Loss: 0.0337, Time: 507.72s\n",
      "Checkpoint saved at checkpoints\\fault_11_checkpoint_epoch_10.pth\n"
     ]
    },
    {
     "name": "stderr",
     "output_type": "stream",
     "text": [
      "                                                                                                                      "
     ]
    },
    {
     "name": "stdout",
     "output_type": "stream",
     "text": [
      "Fault 11 - Epoch 11/30, Train Loss: 0.0327, Val Loss: 0.0324, Time: 506.44s\n",
      "Checkpoint saved at checkpoints\\fault_11_best_model.pth\n",
      "New best model for fault type 11 saved with loss: 0.0324\n"
     ]
    },
    {
     "name": "stderr",
     "output_type": "stream",
     "text": [
      "                                                                                                                      "
     ]
    },
    {
     "name": "stdout",
     "output_type": "stream",
     "text": [
      "Fault 11 - Epoch 12/30, Train Loss: 0.0324, Val Loss: 0.0338, Time: 506.25s\n"
     ]
    },
    {
     "name": "stderr",
     "output_type": "stream",
     "text": [
      "                                                                                                                      "
     ]
    },
    {
     "name": "stdout",
     "output_type": "stream",
     "text": [
      "Fault 11 - Epoch 13/30, Train Loss: 0.0319, Val Loss: 0.0310, Time: 505.96s\n",
      "Checkpoint saved at checkpoints\\fault_11_best_model.pth\n",
      "New best model for fault type 11 saved with loss: 0.0310\n"
     ]
    },
    {
     "name": "stderr",
     "output_type": "stream",
     "text": [
      "                                                                                                                      "
     ]
    },
    {
     "name": "stdout",
     "output_type": "stream",
     "text": [
      "Fault 11 - Epoch 14/30, Train Loss: 0.0317, Val Loss: 0.0311, Time: 511.73s\n"
     ]
    },
    {
     "name": "stderr",
     "output_type": "stream",
     "text": [
      "                                                                                                                      "
     ]
    },
    {
     "name": "stdout",
     "output_type": "stream",
     "text": [
      "Fault 11 - Epoch 15/30, Train Loss: 0.0311, Val Loss: 0.0316, Time: 509.80s\n",
      "Checkpoint saved at checkpoints\\fault_11_checkpoint_epoch_15.pth\n"
     ]
    },
    {
     "name": "stderr",
     "output_type": "stream",
     "text": [
      "                                                                                                                      "
     ]
    },
    {
     "name": "stdout",
     "output_type": "stream",
     "text": [
      "Fault 11 - Epoch 16/30, Train Loss: 0.0311, Val Loss: 0.0316, Time: 510.72s\n"
     ]
    },
    {
     "name": "stderr",
     "output_type": "stream",
     "text": [
      "                                                                                                                      "
     ]
    },
    {
     "name": "stdout",
     "output_type": "stream",
     "text": [
      "Fault 11 - Epoch 17/30, Train Loss: 0.0307, Val Loss: 0.0296, Time: 510.13s\n",
      "Checkpoint saved at checkpoints\\fault_11_best_model.pth\n",
      "New best model for fault type 11 saved with loss: 0.0296\n"
     ]
    },
    {
     "name": "stderr",
     "output_type": "stream",
     "text": [
      "                                                                                                                      "
     ]
    },
    {
     "name": "stdout",
     "output_type": "stream",
     "text": [
      "Fault 11 - Epoch 18/30, Train Loss: 0.0303, Val Loss: 0.0318, Time: 511.97s\n"
     ]
    },
    {
     "name": "stderr",
     "output_type": "stream",
     "text": [
      "                                                                                                                      "
     ]
    },
    {
     "name": "stdout",
     "output_type": "stream",
     "text": [
      "Fault 11 - Epoch 19/30, Train Loss: 0.0302, Val Loss: 0.0303, Time: 499.41s\n"
     ]
    },
    {
     "name": "stderr",
     "output_type": "stream",
     "text": [
      "                                                                                                                      "
     ]
    },
    {
     "name": "stdout",
     "output_type": "stream",
     "text": [
      "Fault 11 - Epoch 20/30, Train Loss: 0.0303, Val Loss: 0.0321, Time: 507.86s\n",
      "Checkpoint saved at checkpoints\\fault_11_checkpoint_epoch_20.pth\n"
     ]
    },
    {
     "name": "stderr",
     "output_type": "stream",
     "text": [
      "                                                                                                                      "
     ]
    },
    {
     "name": "stdout",
     "output_type": "stream",
     "text": [
      "Fault 11 - Epoch 21/30, Train Loss: 0.0301, Val Loss: 0.0378, Time: 475.34s\n"
     ]
    },
    {
     "name": "stderr",
     "output_type": "stream",
     "text": [
      "                                                                                                                      "
     ]
    },
    {
     "name": "stdout",
     "output_type": "stream",
     "text": [
      "Fault 11 - Epoch 22/30, Train Loss: 0.0296, Val Loss: 0.0318, Time: 455.28s\n"
     ]
    },
    {
     "name": "stderr",
     "output_type": "stream",
     "text": [
      "                                                                                                                      "
     ]
    },
    {
     "name": "stdout",
     "output_type": "stream",
     "text": [
      "Fault 11 - Epoch 23/30, Train Loss: 0.0294, Val Loss: 0.0311, Time: 465.04s\n"
     ]
    },
    {
     "name": "stderr",
     "output_type": "stream",
     "text": [
      "                                                                                                                      "
     ]
    },
    {
     "name": "stdout",
     "output_type": "stream",
     "text": [
      "Fault 11 - Epoch 24/30, Train Loss: 0.0290, Val Loss: 0.0295, Time: 459.57s\n",
      "Checkpoint saved at checkpoints\\fault_11_best_model.pth\n",
      "New best model for fault type 11 saved with loss: 0.0295\n"
     ]
    },
    {
     "name": "stderr",
     "output_type": "stream",
     "text": [
      "                                                                                                                      "
     ]
    },
    {
     "name": "stdout",
     "output_type": "stream",
     "text": [
      "Fault 11 - Epoch 25/30, Train Loss: 0.0294, Val Loss: 0.0309, Time: 386.17s\n",
      "Checkpoint saved at checkpoints\\fault_11_checkpoint_epoch_25.pth\n"
     ]
    },
    {
     "name": "stderr",
     "output_type": "stream",
     "text": [
      "                                                                                                                      "
     ]
    },
    {
     "ename": "RuntimeError",
     "evalue": "CUDA error: out of memory\nCUDA kernel errors might be asynchronously reported at some other API call, so the stacktrace below might be incorrect.\nFor debugging consider passing CUDA_LAUNCH_BLOCKING=1.\nCompile with `TORCH_USE_CUDA_DSA` to enable device-side assertions.\n",
     "output_type": "error",
     "traceback": [
      "\u001b[1;31m---------------------------------------------------------------------------\u001b[0m",
      "\u001b[1;31mRuntimeError\u001b[0m                              Traceback (most recent call last)",
      "Cell \u001b[1;32mIn[15], line 16\u001b[0m\n\u001b[0;32m     14\u001b[0m \u001b[38;5;28;01mfor\u001b[39;00m fault_type \u001b[38;5;129;01min\u001b[39;00m remaining_fault_types:\n\u001b[0;32m     15\u001b[0m     \u001b[38;5;28mprint\u001b[39m(\u001b[38;5;124mf\u001b[39m\u001b[38;5;124m\"\u001b[39m\u001b[38;5;130;01m\\n\u001b[39;00m\u001b[38;5;124mProcessing fault type \u001b[39m\u001b[38;5;132;01m{\u001b[39;00mfault_type\u001b[38;5;132;01m}\u001b[39;00m\u001b[38;5;124m...\u001b[39m\u001b[38;5;124m\"\u001b[39m)\n\u001b[1;32m---> 16\u001b[0m     result \u001b[38;5;241m=\u001b[39m \u001b[43mtrain_and_evaluate_fault_model\u001b[49m\u001b[43m(\u001b[49m\n\u001b[0;32m     17\u001b[0m \u001b[43m        \u001b[49m\u001b[43mfault_type\u001b[49m\u001b[43m,\u001b[49m\u001b[43m \u001b[49m\n\u001b[0;32m     18\u001b[0m \u001b[43m        \u001b[49m\u001b[43mdf_train_faultfree\u001b[49m\u001b[43m,\u001b[49m\u001b[43m \u001b[49m\n\u001b[0;32m     19\u001b[0m \u001b[43m        \u001b[49m\u001b[43mdf_train_faulty\u001b[49m\u001b[43m,\u001b[49m\u001b[43m \u001b[49m\n\u001b[0;32m     20\u001b[0m \u001b[43m        \u001b[49m\u001b[43mdf_test_faulty\u001b[49m\u001b[43m,\u001b[49m\n\u001b[0;32m     21\u001b[0m \u001b[43m        \u001b[49m\u001b[43mlookback\u001b[49m\u001b[38;5;241;43m=\u001b[39;49m\u001b[38;5;241;43m15\u001b[39;49m\u001b[43m,\u001b[49m\n\u001b[0;32m     22\u001b[0m \u001b[43m        \u001b[49m\u001b[43mnum_epochs\u001b[49m\u001b[38;5;241;43m=\u001b[39;49m\u001b[38;5;241;43m30\u001b[39;49m\u001b[43m,\u001b[49m\n\u001b[0;32m     23\u001b[0m \u001b[43m        \u001b[49m\u001b[43mbatch_size\u001b[49m\u001b[38;5;241;43m=\u001b[39;49m\u001b[38;5;241;43m16\u001b[39;49m\n\u001b[0;32m     24\u001b[0m \u001b[43m    \u001b[49m\u001b[43m)\u001b[49m\n\u001b[0;32m     26\u001b[0m     \u001b[38;5;28;01mif\u001b[39;00m result:\n\u001b[0;32m     27\u001b[0m         all_results[fault_type] \u001b[38;5;241m=\u001b[39m result\n",
      "Cell \u001b[1;32mIn[10], line 361\u001b[0m, in \u001b[0;36mtrain_and_evaluate_fault_model\u001b[1;34m(fault_type, df_train_faultfree, df_train_faulty, df_test_faulty, lookback, num_epochs, batch_size)\u001b[0m\n\u001b[0;32m    350\u001b[0m model \u001b[38;5;241m=\u001b[39m NeuralAnomalyDetector(\n\u001b[0;32m    351\u001b[0m     input_dim\u001b[38;5;241m=\u001b[39mfeature_dim,\n\u001b[0;32m    352\u001b[0m     d_model\u001b[38;5;241m=\u001b[39m\u001b[38;5;241m64\u001b[39m,      \n\u001b[1;32m   (...)\u001b[0m\n\u001b[0;32m    357\u001b[0m     R\u001b[38;5;241m=\u001b[39m\u001b[38;5;241m0.1\u001b[39m            \n\u001b[0;32m    358\u001b[0m )\n\u001b[0;32m    360\u001b[0m \u001b[38;5;66;03m# Train model\u001b[39;00m\n\u001b[1;32m--> 361\u001b[0m \u001b[43mmodel\u001b[49m\u001b[38;5;241;43m.\u001b[39;49m\u001b[43mtrain_model\u001b[49m\u001b[43m(\u001b[49m\n\u001b[0;32m    362\u001b[0m \u001b[43m    \u001b[49m\u001b[43mfault_type\u001b[49m\u001b[38;5;241;43m=\u001b[39;49m\u001b[43mfault_type\u001b[49m\u001b[43m,\u001b[49m\n\u001b[0;32m    363\u001b[0m \u001b[43m    \u001b[49m\u001b[43mtrain_loader\u001b[49m\u001b[38;5;241;43m=\u001b[39;49m\u001b[43mtrain_loader\u001b[49m\u001b[43m,\u001b[49m\n\u001b[0;32m    364\u001b[0m \u001b[43m    \u001b[49m\u001b[43mval_loader\u001b[49m\u001b[38;5;241;43m=\u001b[39;49m\u001b[43mval_loader\u001b[49m\u001b[43m,\u001b[49m\n\u001b[0;32m    365\u001b[0m \u001b[43m    \u001b[49m\u001b[43mnum_epochs\u001b[49m\u001b[38;5;241;43m=\u001b[39;49m\u001b[43mnum_epochs\u001b[49m\u001b[43m,\u001b[49m\n\u001b[0;32m    366\u001b[0m \u001b[43m    \u001b[49m\u001b[43mlr\u001b[49m\u001b[38;5;241;43m=\u001b[39;49m\u001b[38;5;241;43m1e-3\u001b[39;49m\u001b[43m,\u001b[49m\n\u001b[0;32m    367\u001b[0m \u001b[43m    \u001b[49m\u001b[43mresume\u001b[49m\u001b[38;5;241;43m=\u001b[39;49m\u001b[38;5;28;43;01mTrue\u001b[39;49;00m\u001b[43m,\u001b[49m\n\u001b[0;32m    368\u001b[0m \u001b[43m    \u001b[49m\u001b[43msave_interval\u001b[49m\u001b[38;5;241;43m=\u001b[39;49m\u001b[38;5;241;43m5\u001b[39;49m\n\u001b[0;32m    369\u001b[0m \u001b[43m\u001b[49m\u001b[43m)\u001b[49m\n\u001b[0;32m    371\u001b[0m \u001b[38;5;66;03m# Prepare test data\u001b[39;00m\n\u001b[0;32m    372\u001b[0m \u001b[38;5;66;03m# Extract data for current fault type from test set\u001b[39;00m\n\u001b[0;32m    373\u001b[0m test_fault_data \u001b[38;5;241m=\u001b[39m df_test_faulty[df_test_faulty[\u001b[38;5;124m'\u001b[39m\u001b[38;5;124mfaultNumber\u001b[39m\u001b[38;5;124m'\u001b[39m] \u001b[38;5;241m==\u001b[39m fault_type]\n",
      "Cell \u001b[1;32mIn[10], line 165\u001b[0m, in \u001b[0;36mNeuralAnomalyDetector.train_model\u001b[1;34m(self, fault_type, train_loader, val_loader, num_epochs, lr, resume, save_interval)\u001b[0m\n\u001b[0;32m    162\u001b[0m batch_pbar \u001b[38;5;241m=\u001b[39m tqdm(train_loader, desc\u001b[38;5;241m=\u001b[39m\u001b[38;5;124mf\u001b[39m\u001b[38;5;124m\"\u001b[39m\u001b[38;5;124mFault \u001b[39m\u001b[38;5;132;01m{\u001b[39;00mfault_type\u001b[38;5;132;01m}\u001b[39;00m\u001b[38;5;124m - Epoch \u001b[39m\u001b[38;5;132;01m{\u001b[39;00mepoch\u001b[38;5;241m+\u001b[39m\u001b[38;5;241m1\u001b[39m\u001b[38;5;132;01m}\u001b[39;00m\u001b[38;5;124m/\u001b[39m\u001b[38;5;132;01m{\u001b[39;00mstart_epoch\u001b[38;5;250m \u001b[39m\u001b[38;5;241m+\u001b[39m\u001b[38;5;250m \u001b[39mnum_epochs\u001b[38;5;132;01m}\u001b[39;00m\u001b[38;5;124m\"\u001b[39m, leave\u001b[38;5;241m=\u001b[39m\u001b[38;5;28;01mFalse\u001b[39;00m)\n\u001b[0;32m    164\u001b[0m \u001b[38;5;28;01mfor\u001b[39;00m X_batch, y_batch \u001b[38;5;129;01min\u001b[39;00m batch_pbar:\n\u001b[1;32m--> 165\u001b[0m     X_batch, y_batch \u001b[38;5;241m=\u001b[39m \u001b[43mX_batch\u001b[49m\u001b[38;5;241;43m.\u001b[39;49m\u001b[43mto\u001b[49m\u001b[43m(\u001b[49m\u001b[38;5;28;43mself\u001b[39;49m\u001b[38;5;241;43m.\u001b[39;49m\u001b[43mdevice\u001b[49m\u001b[43m)\u001b[49m, y_batch\u001b[38;5;241m.\u001b[39mto(\u001b[38;5;28mself\u001b[39m\u001b[38;5;241m.\u001b[39mdevice)\n\u001b[0;32m    167\u001b[0m     optimizer\u001b[38;5;241m.\u001b[39mzero_grad()\n\u001b[0;32m    168\u001b[0m     outputs \u001b[38;5;241m=\u001b[39m \u001b[38;5;28mself\u001b[39m\u001b[38;5;241m.\u001b[39mtransformer(X_batch)\u001b[38;5;241m.\u001b[39msqueeze()\n",
      "\u001b[1;31mRuntimeError\u001b[0m: CUDA error: out of memory\nCUDA kernel errors might be asynchronously reported at some other API call, so the stacktrace below might be incorrect.\nFor debugging consider passing CUDA_LAUNCH_BLOCKING=1.\nCompile with `TORCH_USE_CUDA_DSA` to enable device-side assertions.\n"
     ]
    }
   ],
   "source": [
    "# Get all fault types\n",
    "fault_types = sorted(df_train_faulty['faultNumber'].unique())\n",
    "print(f\"Found fault types: {fault_types}\")\n",
    "\n",
    "# Find the index of fault type 10\n",
    "start_index = fault_types.index(10)\n",
    "remaining_fault_types = fault_types[start_index:]\n",
    "print(f\"Will process the following fault types: {remaining_fault_types}\")\n",
    "\n",
    "# Store results for all fault types\n",
    "all_results = {}\n",
    "\n",
    "# Train and evaluate model for each remaining fault type\n",
    "for fault_type in remaining_fault_types:\n",
    "    print(f\"\\nProcessing fault type {fault_type}...\")\n",
    "    result = train_and_evaluate_fault_model(\n",
    "        fault_type, \n",
    "        df_train_faultfree, \n",
    "        df_train_faulty, \n",
    "        df_test_faulty,\n",
    "        lookback=15,\n",
    "        num_epochs=30,\n",
    "        batch_size=16\n",
    "    )\n",
    "    \n",
    "    if result:\n",
    "        all_results[fault_type] = result\n",
    "\n",
    "# Summarize results\n",
    "print(\"\\n\" + \"=\"*80)\n",
    "print(\"Summary of Results for All Fault Types\")\n",
    "print(\"=\"*80)\n",
    "\n",
    "f1_scores = []\n",
    "accuracies = []\n",
    "\n",
    "for fault_type, result in all_results.items():\n",
    "    if 'f1' in result:\n",
    "        print(f\"Fault {fault_type} - F1: {result['f1']:.4f}, Accuracy: {result['accuracy']:.4f}\")\n",
    "        f1_scores.append(result['f1'])\n",
    "        accuracies.append(result['accuracy'])\n",
    "\n",
    "if f1_scores:\n",
    "    print(\"\\nOverall Performance:\")\n",
    "    print(f\"Average F1 Score: {np.mean(f1_scores):.4f}\")\n",
    "    print(f\"Average Accuracy: {np.mean(accuracies):.4f}\")\n",
    "    \n",
    "    # Visualize F1 scores for different fault types\n",
    "    plt.figure(figsize=(15, 7))\n",
    "    fault_types = list(all_results.keys())\n",
    "    f1_values = [result.get('f1', 0) if 'f1' in result else 0 for result in all_results.values()]\n",
    "    \n",
    "    plt.bar(fault_types, f1_values)\n",
    "    plt.title('F1 Score by Fault Type')\n",
    "    plt.xlabel('Fault Type')\n",
    "    plt.ylabel('F1 Score')\n",
    "    plt.xticks(fault_types)\n",
    "    plt.ylim(0, 1.0)\n",
    "    plt.grid(True, axis='y', linestyle='--', alpha=0.7)\n",
    "    plt.savefig('fault_comparison_f1.png')\n",
    "    \n",
    "    # Visualize precision and recall for different fault types\n",
    "    plt.figure(figsize=(15, 7))\n",
    "    precision_values = [result.get('precision', 0) if 'precision' in result else 0 for result in all_results.values()]\n",
    "    recall_values = [result.get('recall', 0) if 'recall' in result else 0 for result in all_results.values()]\n",
    "    \n",
    "    x = np.arange(len(fault_types))\n",
    "    width = 0.35\n",
    "    \n",
    "    plt.bar(x - width/2, precision_values, width, label='Precision')\n",
    "    plt.bar(x + width/2, recall_values, width, label='Recall')\n",
    "    \n",
    "    plt.title('Precision and Recall by Fault Type')\n",
    "    plt.xlabel('Fault Type')\n",
    "    plt.ylabel('Score')\n",
    "    plt.xticks(x, fault_types)\n",
    "    plt.ylim(0, 1.0)\n",
    "    plt.legend()\n",
    "    plt.grid(True, axis='y', linestyle='--', alpha=0.7)\n",
    "    plt.savefig('fault_comparison_precision_recall.png')\n",
    "    \n",
    "    plt.close()"
   ]
  },
  {
   "cell_type": "markdown",
   "id": "3831e15b-4dbe-41ba-bdf8-8efbf74bfe73",
   "metadata": {},
   "source": [
    "**The process was interrupted here due to CUDA out of memory error; added code for timely memory cleanup and continuing from Fault 11.**"
   ]
  },
  {
   "cell_type": "code",
   "execution_count": 11,
   "id": "9051d0f3-7b78-45d5-aa47-48240712fe96",
   "metadata": {},
   "outputs": [
    {
     "name": "stdout",
     "output_type": "stream",
     "text": [
      "Initializing model for fault type 11...\n",
      "Creating sliding windows with lookback=15...\n"
     ]
    },
    {
     "name": "stderr",
     "output_type": "stream",
     "text": [
      "Creating windows: 100%|██████████████████████████████████████████████████| 499985/499985 [00:00<00:00, 1417426.16it/s]\n"
     ]
    },
    {
     "name": "stdout",
     "output_type": "stream",
     "text": [
      "No checkpoint found for fault type 11 at checkpoints\\checkpoints/fault_11_checkpoint_epoch_25.pth, starting from scratch\n",
      "Already trained 25 epochs, 5 epochs remaining\n",
      "\n",
      "================================================================================\n",
      "Processing Fault Type 11\n",
      "================================================================================\n",
      "Creating sliding windows with lookback=15...\n"
     ]
    },
    {
     "name": "stderr",
     "output_type": "stream",
     "text": [
      "Creating windows: 100%|██████████████████████████████████████████████████| 499985/499985 [00:00<00:00, 1513291.49it/s]\n"
     ]
    },
    {
     "name": "stdout",
     "output_type": "stream",
     "text": [
      "Initializing model for fault type 11...\n",
      "No checkpoint found for fault type 11 at checkpoints\\fault_11_checkpoint.pth, starting from scratch\n",
      "Starting training for fault type 11...\n"
     ]
    },
    {
     "name": "stderr",
     "output_type": "stream",
     "text": [
      "                                                                                                                      "
     ]
    },
    {
     "name": "stdout",
     "output_type": "stream",
     "text": [
      "Fault 11 - Epoch 1/5, Train Loss: 0.0728, Val Loss: 0.0563, Time: 406.90s\n",
      "Checkpoint saved at checkpoints\\fault_11_best_model.pth\n",
      "New best model for fault type 11 saved with loss: 0.0563\n"
     ]
    },
    {
     "name": "stderr",
     "output_type": "stream",
     "text": [
      "                                                                                                                      "
     ]
    },
    {
     "name": "stdout",
     "output_type": "stream",
     "text": [
      "Fault 11 - Epoch 2/5, Train Loss: 0.0450, Val Loss: 0.0490, Time: 388.23s\n",
      "Checkpoint saved at checkpoints\\fault_11_best_model.pth\n",
      "New best model for fault type 11 saved with loss: 0.0490\n"
     ]
    },
    {
     "name": "stderr",
     "output_type": "stream",
     "text": [
      "                                                                                                                      "
     ]
    },
    {
     "name": "stdout",
     "output_type": "stream",
     "text": [
      "Fault 11 - Epoch 3/5, Train Loss: 0.0396, Val Loss: 0.0366, Time: 394.51s\n",
      "Checkpoint saved at checkpoints\\fault_11_best_model.pth\n",
      "New best model for fault type 11 saved with loss: 0.0366\n"
     ]
    },
    {
     "name": "stderr",
     "output_type": "stream",
     "text": [
      "                                                                                                                      "
     ]
    },
    {
     "name": "stdout",
     "output_type": "stream",
     "text": [
      "Fault 11 - Epoch 4/5, Train Loss: 0.0377, Val Loss: 0.0361, Time: 392.10s\n",
      "Checkpoint saved at checkpoints\\fault_11_best_model.pth\n",
      "New best model for fault type 11 saved with loss: 0.0361\n"
     ]
    },
    {
     "name": "stderr",
     "output_type": "stream",
     "text": [
      "                                                                                                                      "
     ]
    },
    {
     "name": "stdout",
     "output_type": "stream",
     "text": [
      "Fault 11 - Epoch 5/5, Train Loss: 0.0357, Val Loss: 0.0384, Time: 393.03s\n",
      "Checkpoint saved at checkpoints\\fault_11_checkpoint_epoch_5.pth\n",
      "Checkpoint saved at checkpoints\\fault_11_final_model.pth\n",
      "Training for fault type 11 complete!\n",
      "Creating sliding windows with lookback=15...\n"
     ]
    },
    {
     "name": "stderr",
     "output_type": "stream",
     "text": [
      "Creating windows: 100%|██████████████████████████████████████████████████| 479985/479985 [00:00<00:00, 1721978.55it/s]\n"
     ]
    },
    {
     "name": "stdout",
     "output_type": "stream",
     "text": [
      "Evaluating model for fault type 11...\n"
     ]
    },
    {
     "name": "stderr",
     "output_type": "stream",
     "text": [
      "                                                                                                                      "
     ]
    },
    {
     "name": "stdout",
     "output_type": "stream",
     "text": [
      "Fault Type 11 - Precision: 1.0000, Recall: 0.8831, F1: 0.9379, Accuracy: 0.8832\n",
      "Fault type 11 evaluation results:\n",
      "Precision: 1.0000\n",
      "Recall: 0.8831\n",
      "F1 score: 0.9379\n",
      "Accuracy: 0.8832\n"
     ]
    }
   ],
   "source": [
    "# Specify the fault type to continue training\n",
    "fault_type = 11  # Continue from fault type 11\n",
    "\n",
    "# Initialize the model first\n",
    "print(f\"Initializing model for fault type {fault_type}...\")\n",
    "feature_dim = X_train_windows.shape[2] if 'X_train_windows' in locals() else None\n",
    "\n",
    "# If X_train_windows is not defined, we need to prepare data first\n",
    "if feature_dim is None:\n",
    "    # Get training data for fault type 11\n",
    "    train_fault_data = df_train_faulty[df_train_faulty['faultNumber'] == fault_type]\n",
    "    \n",
    "    # Prepare feature data\n",
    "    X_train_normal = df_train_faultfree.iloc[:, 3:].values\n",
    "    X_train_fault = train_fault_data.iloc[:, 3:].values\n",
    "    \n",
    "    # Create labels\n",
    "    y_train_normal = np.zeros(len(X_train_normal))\n",
    "    y_train_fault = np.ones(len(X_train_fault))\n",
    "    y_train_fault[:20] = 0  # First 20 samples are normal\n",
    "    \n",
    "    # Combine training data\n",
    "    X_train = np.vstack([X_train_normal, X_train_fault])\n",
    "    y_train = np.concatenate([y_train_normal, y_train_fault])\n",
    "    \n",
    "    # Normalize data\n",
    "    scaler = StandardScaler()\n",
    "    X_train_scaled = scaler.fit_transform(X_train)\n",
    "    \n",
    "    # Create sliding window dataset with lookback=15\n",
    "    X_train_windows, y_train_windows = create_dataset(X_train_scaled, y_train, lookback=15)\n",
    "    feature_dim = X_train_windows.shape[2]\n",
    "\n",
    "# Now initialize the model\n",
    "model = NeuralAnomalyDetector(\n",
    "    input_dim=feature_dim,\n",
    "    d_model=64,\n",
    "    nhead=4,\n",
    "    num_layers=2,\n",
    "    dropout=0.1,\n",
    "    Q=1e-5,\n",
    "    R=0.1\n",
    ")\n",
    "\n",
    "# Initialize optimizer\n",
    "optimizer = torch.optim.Adam(model.transformer.parameters(), lr=1e-3)\n",
    "\n",
    "# Load the checkpoint from epoch 25\n",
    "checkpoint_path = f'checkpoints/fault_{fault_type}_checkpoint_epoch_25.pth'\n",
    "model.load_checkpoint(fault_type, optimizer, filename=checkpoint_path)\n",
    "\n",
    "# Calculate remaining epochs to train\n",
    "remaining_epochs = 30 - 25\n",
    "print(f\"Already trained 25 epochs, {remaining_epochs} epochs remaining\")\n",
    "\n",
    "# Get training and validation data for this fault type and continue training\n",
    "result = train_and_evaluate_fault_model(\n",
    "    fault_type=fault_type, \n",
    "    df_train_faultfree=df_train_faultfree, \n",
    "    df_train_faulty=df_train_faulty, \n",
    "    df_test_faulty=df_test_faulty,\n",
    "    lookback=15,\n",
    "    num_epochs=remaining_epochs,  # Only train the remaining epochs\n",
    "    batch_size=16\n",
    ")\n",
    "\n",
    "# Display evaluation results\n",
    "print(f\"Fault type {fault_type} evaluation results:\")\n",
    "if 'f1' in result:\n",
    "    print(f\"Precision: {result['precision']:.4f}\")\n",
    "    print(f\"Recall: {result['recall']:.4f}\")\n",
    "    print(f\"F1 score: {result['f1']:.4f}\")\n",
    "    print(f\"Accuracy: {result['accuracy']:.4f}\")"
   ]
  },
  {
   "cell_type": "markdown",
   "id": "ca0ba2ec-0131-4e92-add7-ce25011f9240",
   "metadata": {},
   "source": [
    "**Calculating all remaining Faults.**"
   ]
  },
  {
   "cell_type": "code",
   "execution_count": 14,
   "id": "517e8c3f-0e51-4c09-bf0f-e9846d7ede0f",
   "metadata": {},
   "outputs": [
    {
     "name": "stdout",
     "output_type": "stream",
     "text": [
      "Found fault types: [1, 2, 3, 4, 5, 6, 7, 8, 9, 10, 11, 12, 13, 14, 15, 16, 17, 18, 19, 20]\n",
      "Will process the following fault types: [12, 13, 14, 15, 16, 17, 18, 19, 20]\n",
      "\n",
      "Processing fault type 12...\n",
      "\n",
      "================================================================================\n",
      "Processing Fault Type 12\n",
      "================================================================================\n",
      "Creating sliding windows with lookback=15...\n"
     ]
    },
    {
     "name": "stderr",
     "output_type": "stream",
     "text": [
      "Creating windows: 100%|██████████████████████████████████████████████████| 499985/499985 [00:00<00:00, 1513256.55it/s]\n"
     ]
    },
    {
     "name": "stdout",
     "output_type": "stream",
     "text": [
      "Initializing model for fault type 12...\n",
      "No checkpoint found for fault type 12 at checkpoints\\fault_12_checkpoint.pth, starting from scratch\n",
      "Starting training for fault type 12...\n"
     ]
    },
    {
     "name": "stderr",
     "output_type": "stream",
     "text": [
      "                                                                                                                      "
     ]
    },
    {
     "name": "stdout",
     "output_type": "stream",
     "text": [
      "Fault 12 - Epoch 1/30, Train Loss: 0.0724, Val Loss: 0.0696, Time: 413.17s\n",
      "Checkpoint saved at checkpoints\\fault_12_best_model.pth\n",
      "New best model for fault type 12 saved with loss: 0.0696\n"
     ]
    },
    {
     "name": "stderr",
     "output_type": "stream",
     "text": [
      "                                                                                                                      "
     ]
    },
    {
     "name": "stdout",
     "output_type": "stream",
     "text": [
      "Fault 12 - Epoch 2/30, Train Loss: 0.0675, Val Loss: 0.0665, Time: 390.94s\n",
      "Checkpoint saved at checkpoints\\fault_12_best_model.pth\n",
      "New best model for fault type 12 saved with loss: 0.0665\n"
     ]
    },
    {
     "name": "stderr",
     "output_type": "stream",
     "text": [
      "                                                                                                                      "
     ]
    },
    {
     "name": "stdout",
     "output_type": "stream",
     "text": [
      "Fault 12 - Epoch 3/30, Train Loss: 0.0626, Val Loss: 0.0386, Time: 388.07s\n",
      "Checkpoint saved at checkpoints\\fault_12_best_model.pth\n",
      "New best model for fault type 12 saved with loss: 0.0386\n"
     ]
    },
    {
     "name": "stderr",
     "output_type": "stream",
     "text": [
      "                                                                                                                      "
     ]
    },
    {
     "name": "stdout",
     "output_type": "stream",
     "text": [
      "Fault 12 - Epoch 4/30, Train Loss: 0.0374, Val Loss: 0.0363, Time: 388.22s\n",
      "Checkpoint saved at checkpoints\\fault_12_best_model.pth\n",
      "New best model for fault type 12 saved with loss: 0.0363\n"
     ]
    },
    {
     "name": "stderr",
     "output_type": "stream",
     "text": [
      "                                                                                                                      "
     ]
    },
    {
     "name": "stdout",
     "output_type": "stream",
     "text": [
      "Fault 12 - Epoch 5/30, Train Loss: 0.0374, Val Loss: 0.0375, Time: 387.47s\n",
      "Checkpoint saved at checkpoints\\fault_12_checkpoint_epoch_5.pth\n"
     ]
    },
    {
     "name": "stderr",
     "output_type": "stream",
     "text": [
      "                                                                                                                      "
     ]
    },
    {
     "name": "stdout",
     "output_type": "stream",
     "text": [
      "Fault 12 - Epoch 6/30, Train Loss: 0.0368, Val Loss: 0.0428, Time: 390.24s\n"
     ]
    },
    {
     "name": "stderr",
     "output_type": "stream",
     "text": [
      "                                                                                                                      "
     ]
    },
    {
     "name": "stdout",
     "output_type": "stream",
     "text": [
      "Fault 12 - Epoch 7/30, Train Loss: 0.0345, Val Loss: 0.0363, Time: 393.47s\n"
     ]
    },
    {
     "name": "stderr",
     "output_type": "stream",
     "text": [
      "                                                                                                                      "
     ]
    },
    {
     "name": "stdout",
     "output_type": "stream",
     "text": [
      "Fault 12 - Epoch 8/30, Train Loss: 0.0342, Val Loss: 0.0323, Time: 388.70s\n",
      "Checkpoint saved at checkpoints\\fault_12_best_model.pth\n",
      "New best model for fault type 12 saved with loss: 0.0323\n"
     ]
    },
    {
     "name": "stderr",
     "output_type": "stream",
     "text": [
      "                                                                                                                      "
     ]
    },
    {
     "name": "stdout",
     "output_type": "stream",
     "text": [
      "Fault 12 - Epoch 9/30, Train Loss: 0.0335, Val Loss: 0.0347, Time: 387.71s\n"
     ]
    },
    {
     "name": "stderr",
     "output_type": "stream",
     "text": [
      "                                                                                                                      "
     ]
    },
    {
     "name": "stdout",
     "output_type": "stream",
     "text": [
      "Fault 12 - Epoch 10/30, Train Loss: 0.0327, Val Loss: 0.0328, Time: 386.06s\n",
      "Checkpoint saved at checkpoints\\fault_12_checkpoint_epoch_10.pth\n"
     ]
    },
    {
     "name": "stderr",
     "output_type": "stream",
     "text": [
      "                                                                                                                      "
     ]
    },
    {
     "name": "stdout",
     "output_type": "stream",
     "text": [
      "Fault 12 - Epoch 11/30, Train Loss: 0.0326, Val Loss: 0.0317, Time: 386.58s\n",
      "Checkpoint saved at checkpoints\\fault_12_best_model.pth\n",
      "New best model for fault type 12 saved with loss: 0.0317\n"
     ]
    },
    {
     "name": "stderr",
     "output_type": "stream",
     "text": [
      "                                                                                                                      "
     ]
    },
    {
     "name": "stdout",
     "output_type": "stream",
     "text": [
      "Fault 12 - Epoch 12/30, Train Loss: 0.0316, Val Loss: 0.0330, Time: 390.83s\n"
     ]
    },
    {
     "name": "stderr",
     "output_type": "stream",
     "text": [
      "                                                                                                                      "
     ]
    },
    {
     "name": "stdout",
     "output_type": "stream",
     "text": [
      "Fault 12 - Epoch 13/30, Train Loss: 0.0316, Val Loss: 0.0323, Time: 392.35s\n"
     ]
    },
    {
     "name": "stderr",
     "output_type": "stream",
     "text": [
      "                                                                                                                      "
     ]
    },
    {
     "name": "stdout",
     "output_type": "stream",
     "text": [
      "Fault 12 - Epoch 14/30, Train Loss: 0.0319, Val Loss: 0.0332, Time: 393.53s\n"
     ]
    },
    {
     "name": "stderr",
     "output_type": "stream",
     "text": [
      "                                                                                                                      "
     ]
    },
    {
     "name": "stdout",
     "output_type": "stream",
     "text": [
      "Fault 12 - Epoch 15/30, Train Loss: 0.0304, Val Loss: 0.0301, Time: 394.22s\n",
      "Checkpoint saved at checkpoints\\fault_12_checkpoint_epoch_15.pth\n",
      "Checkpoint saved at checkpoints\\fault_12_best_model.pth\n",
      "New best model for fault type 12 saved with loss: 0.0301\n"
     ]
    },
    {
     "name": "stderr",
     "output_type": "stream",
     "text": [
      "                                                                                                                      "
     ]
    },
    {
     "name": "stdout",
     "output_type": "stream",
     "text": [
      "Fault 12 - Epoch 16/30, Train Loss: 0.0304, Val Loss: 0.0310, Time: 390.84s\n"
     ]
    },
    {
     "name": "stderr",
     "output_type": "stream",
     "text": [
      "                                                                                                                      "
     ]
    },
    {
     "name": "stdout",
     "output_type": "stream",
     "text": [
      "Fault 12 - Epoch 17/30, Train Loss: 0.0307, Val Loss: 0.0302, Time: 388.05s\n"
     ]
    },
    {
     "name": "stderr",
     "output_type": "stream",
     "text": [
      "                                                                                                                      "
     ]
    },
    {
     "name": "stdout",
     "output_type": "stream",
     "text": [
      "Fault 12 - Epoch 18/30, Train Loss: 0.0304, Val Loss: 0.0329, Time: 391.35s\n"
     ]
    },
    {
     "name": "stderr",
     "output_type": "stream",
     "text": [
      "                                                                                                                      "
     ]
    },
    {
     "name": "stdout",
     "output_type": "stream",
     "text": [
      "Fault 12 - Epoch 19/30, Train Loss: 0.0321, Val Loss: 0.0340, Time: 388.47s\n"
     ]
    },
    {
     "name": "stderr",
     "output_type": "stream",
     "text": [
      "                                                                                                                      "
     ]
    },
    {
     "name": "stdout",
     "output_type": "stream",
     "text": [
      "Fault 12 - Epoch 20/30, Train Loss: 0.0329, Val Loss: 0.0335, Time: 387.94s\n",
      "Checkpoint saved at checkpoints\\fault_12_checkpoint_epoch_20.pth\n"
     ]
    },
    {
     "name": "stderr",
     "output_type": "stream",
     "text": [
      "                                                                                                                      "
     ]
    },
    {
     "name": "stdout",
     "output_type": "stream",
     "text": [
      "Fault 12 - Epoch 21/30, Train Loss: 0.0324, Val Loss: 0.0341, Time: 387.43s\n"
     ]
    },
    {
     "name": "stderr",
     "output_type": "stream",
     "text": [
      "                                                                                                                      "
     ]
    },
    {
     "name": "stdout",
     "output_type": "stream",
     "text": [
      "Fault 12 - Epoch 22/30, Train Loss: 0.0321, Val Loss: 0.0326, Time: 389.45s\n"
     ]
    },
    {
     "name": "stderr",
     "output_type": "stream",
     "text": [
      "                                                                                                                      "
     ]
    },
    {
     "name": "stdout",
     "output_type": "stream",
     "text": [
      "Fault 12 - Epoch 23/30, Train Loss: 0.0320, Val Loss: 0.0328, Time: 386.19s\n"
     ]
    },
    {
     "name": "stderr",
     "output_type": "stream",
     "text": [
      "                                                                                                                      "
     ]
    },
    {
     "name": "stdout",
     "output_type": "stream",
     "text": [
      "Fault 12 - Epoch 24/30, Train Loss: 0.0326, Val Loss: 0.0344, Time: 388.80s\n"
     ]
    },
    {
     "name": "stderr",
     "output_type": "stream",
     "text": [
      "                                                                                                                      "
     ]
    },
    {
     "name": "stdout",
     "output_type": "stream",
     "text": [
      "Fault 12 - Epoch 25/30, Train Loss: 0.0317, Val Loss: 0.0312, Time: 346.81s\n",
      "Checkpoint saved at checkpoints\\fault_12_checkpoint_epoch_25.pth\n"
     ]
    },
    {
     "name": "stderr",
     "output_type": "stream",
     "text": [
      "                                                                                                                      "
     ]
    },
    {
     "name": "stdout",
     "output_type": "stream",
     "text": [
      "Fault 12 - Epoch 26/30, Train Loss: 0.0307, Val Loss: 0.0314, Time: 349.93s\n"
     ]
    },
    {
     "name": "stderr",
     "output_type": "stream",
     "text": [
      "                                                                                                                      "
     ]
    },
    {
     "name": "stdout",
     "output_type": "stream",
     "text": [
      "Fault 12 - Epoch 27/30, Train Loss: 0.0294, Val Loss: 0.0295, Time: 347.17s\n",
      "Checkpoint saved at checkpoints\\fault_12_best_model.pth\n",
      "New best model for fault type 12 saved with loss: 0.0295\n"
     ]
    },
    {
     "name": "stderr",
     "output_type": "stream",
     "text": [
      "                                                                                                                      "
     ]
    },
    {
     "name": "stdout",
     "output_type": "stream",
     "text": [
      "Fault 12 - Epoch 28/30, Train Loss: 0.0291, Val Loss: 0.0309, Time: 351.83s\n"
     ]
    },
    {
     "name": "stderr",
     "output_type": "stream",
     "text": [
      "                                                                                                                      "
     ]
    },
    {
     "name": "stdout",
     "output_type": "stream",
     "text": [
      "Fault 12 - Epoch 29/30, Train Loss: 0.0286, Val Loss: 0.0289, Time: 346.75s\n",
      "Checkpoint saved at checkpoints\\fault_12_best_model.pth\n",
      "New best model for fault type 12 saved with loss: 0.0289\n"
     ]
    },
    {
     "name": "stderr",
     "output_type": "stream",
     "text": [
      "                                                                                                                      "
     ]
    },
    {
     "name": "stdout",
     "output_type": "stream",
     "text": [
      "Fault 12 - Epoch 30/30, Train Loss: 0.0280, Val Loss: 0.0287, Time: 348.50s\n",
      "Checkpoint saved at checkpoints\\fault_12_checkpoint_epoch_30.pth\n",
      "Checkpoint saved at checkpoints\\fault_12_best_model.pth\n",
      "New best model for fault type 12 saved with loss: 0.0287\n",
      "Checkpoint saved at checkpoints\\fault_12_final_model.pth\n",
      "Training for fault type 12 complete!\n",
      "Creating sliding windows with lookback=15...\n"
     ]
    },
    {
     "name": "stderr",
     "output_type": "stream",
     "text": [
      "Creating windows: 100%|██████████████████████████████████████████████████| 479985/479985 [00:00<00:00, 1808317.07it/s]\n"
     ]
    },
    {
     "name": "stdout",
     "output_type": "stream",
     "text": [
      "Evaluating model for fault type 12...\n"
     ]
    },
    {
     "name": "stderr",
     "output_type": "stream",
     "text": [
      "                                                                                                                      "
     ]
    },
    {
     "name": "stdout",
     "output_type": "stream",
     "text": [
      "Fault Type 12 - Precision: 1.0000, Recall: 0.8756, F1: 0.9337, Accuracy: 0.8756\n",
      "\n",
      "Processing fault type 13...\n",
      "\n",
      "================================================================================\n",
      "Processing Fault Type 13\n",
      "================================================================================\n",
      "Creating sliding windows with lookback=15...\n"
     ]
    },
    {
     "name": "stderr",
     "output_type": "stream",
     "text": [
      "Creating windows: 100%|██████████████████████████████████████████████████| 499985/499985 [00:00<00:00, 1803862.26it/s]\n"
     ]
    },
    {
     "name": "stdout",
     "output_type": "stream",
     "text": [
      "Initializing model for fault type 13...\n",
      "No checkpoint found for fault type 13 at checkpoints\\fault_13_checkpoint.pth, starting from scratch\n",
      "Starting training for fault type 13...\n"
     ]
    },
    {
     "name": "stderr",
     "output_type": "stream",
     "text": [
      "                                                                                                                      "
     ]
    },
    {
     "name": "stdout",
     "output_type": "stream",
     "text": [
      "Fault 13 - Epoch 1/30, Train Loss: 0.1629, Val Loss: 0.1544, Time: 364.59s\n",
      "Checkpoint saved at checkpoints\\fault_13_best_model.pth\n",
      "New best model for fault type 13 saved with loss: 0.1544\n"
     ]
    },
    {
     "name": "stderr",
     "output_type": "stream",
     "text": [
      "                                                                                                                      "
     ]
    },
    {
     "name": "stdout",
     "output_type": "stream",
     "text": [
      "Fault 13 - Epoch 2/30, Train Loss: 0.1305, Val Loss: 0.1205, Time: 347.50s\n",
      "Checkpoint saved at checkpoints\\fault_13_best_model.pth\n",
      "New best model for fault type 13 saved with loss: 0.1205\n"
     ]
    },
    {
     "name": "stderr",
     "output_type": "stream",
     "text": [
      "                                                                                                                      "
     ]
    },
    {
     "name": "stdout",
     "output_type": "stream",
     "text": [
      "Fault 13 - Epoch 3/30, Train Loss: 0.1167, Val Loss: 0.1174, Time: 348.45s\n",
      "Checkpoint saved at checkpoints\\fault_13_best_model.pth\n",
      "New best model for fault type 13 saved with loss: 0.1174\n"
     ]
    },
    {
     "name": "stderr",
     "output_type": "stream",
     "text": [
      "                                                                                                                      "
     ]
    },
    {
     "name": "stdout",
     "output_type": "stream",
     "text": [
      "Fault 13 - Epoch 4/30, Train Loss: 0.1151, Val Loss: 0.1192, Time: 346.63s\n"
     ]
    },
    {
     "name": "stderr",
     "output_type": "stream",
     "text": [
      "                                                                                                                      "
     ]
    },
    {
     "name": "stdout",
     "output_type": "stream",
     "text": [
      "Fault 13 - Epoch 5/30, Train Loss: 0.1134, Val Loss: 0.1166, Time: 347.96s\n",
      "Checkpoint saved at checkpoints\\fault_13_checkpoint_epoch_5.pth\n",
      "Checkpoint saved at checkpoints\\fault_13_best_model.pth\n",
      "New best model for fault type 13 saved with loss: 0.1166\n"
     ]
    },
    {
     "name": "stderr",
     "output_type": "stream",
     "text": [
      "                                                                                                                      "
     ]
    },
    {
     "name": "stdout",
     "output_type": "stream",
     "text": [
      "Fault 13 - Epoch 6/30, Train Loss: 0.1135, Val Loss: 0.1148, Time: 348.75s\n",
      "Checkpoint saved at checkpoints\\fault_13_best_model.pth\n",
      "New best model for fault type 13 saved with loss: 0.1148\n"
     ]
    },
    {
     "name": "stderr",
     "output_type": "stream",
     "text": [
      "                                                                                                                      "
     ]
    },
    {
     "name": "stdout",
     "output_type": "stream",
     "text": [
      "Fault 13 - Epoch 7/30, Train Loss: 0.1127, Val Loss: 0.1173, Time: 344.42s\n"
     ]
    },
    {
     "name": "stderr",
     "output_type": "stream",
     "text": [
      "                                                                                                                      "
     ]
    },
    {
     "name": "stdout",
     "output_type": "stream",
     "text": [
      "Fault 13 - Epoch 8/30, Train Loss: 0.1108, Val Loss: 0.1124, Time: 348.68s\n",
      "Checkpoint saved at checkpoints\\fault_13_best_model.pth\n",
      "New best model for fault type 13 saved with loss: 0.1124\n"
     ]
    },
    {
     "name": "stderr",
     "output_type": "stream",
     "text": [
      "                                                                                                                      "
     ]
    },
    {
     "name": "stdout",
     "output_type": "stream",
     "text": [
      "Fault 13 - Epoch 9/30, Train Loss: 0.1085, Val Loss: 0.1109, Time: 340.25s\n",
      "Checkpoint saved at checkpoints\\fault_13_best_model.pth\n",
      "New best model for fault type 13 saved with loss: 0.1109\n"
     ]
    },
    {
     "name": "stderr",
     "output_type": "stream",
     "text": [
      "                                                                                                                      "
     ]
    },
    {
     "name": "stdout",
     "output_type": "stream",
     "text": [
      "Fault 13 - Epoch 10/30, Train Loss: 0.1063, Val Loss: 0.1080, Time: 345.50s\n",
      "Checkpoint saved at checkpoints\\fault_13_checkpoint_epoch_10.pth\n",
      "Checkpoint saved at checkpoints\\fault_13_best_model.pth\n",
      "New best model for fault type 13 saved with loss: 0.1080\n"
     ]
    },
    {
     "name": "stderr",
     "output_type": "stream",
     "text": [
      "                                                                                                                      "
     ]
    },
    {
     "name": "stdout",
     "output_type": "stream",
     "text": [
      "Fault 13 - Epoch 11/30, Train Loss: 0.1052, Val Loss: 0.1082, Time: 345.28s\n"
     ]
    },
    {
     "name": "stderr",
     "output_type": "stream",
     "text": [
      "                                                                                                                      "
     ]
    },
    {
     "name": "stdout",
     "output_type": "stream",
     "text": [
      "Fault 13 - Epoch 12/30, Train Loss: 0.1045, Val Loss: 0.1079, Time: 351.23s\n",
      "Checkpoint saved at checkpoints\\fault_13_best_model.pth\n",
      "New best model for fault type 13 saved with loss: 0.1079\n"
     ]
    },
    {
     "name": "stderr",
     "output_type": "stream",
     "text": [
      "                                                                                                                      "
     ]
    },
    {
     "name": "stdout",
     "output_type": "stream",
     "text": [
      "Fault 13 - Epoch 13/30, Train Loss: 0.1032, Val Loss: 0.1054, Time: 346.51s\n",
      "Checkpoint saved at checkpoints\\fault_13_best_model.pth\n",
      "New best model for fault type 13 saved with loss: 0.1054\n"
     ]
    },
    {
     "name": "stderr",
     "output_type": "stream",
     "text": [
      "                                                                                                                      "
     ]
    },
    {
     "name": "stdout",
     "output_type": "stream",
     "text": [
      "Fault 13 - Epoch 14/30, Train Loss: 0.1031, Val Loss: 0.1058, Time: 351.27s\n"
     ]
    },
    {
     "name": "stderr",
     "output_type": "stream",
     "text": [
      "                                                                                                                      "
     ]
    },
    {
     "name": "stdout",
     "output_type": "stream",
     "text": [
      "Fault 13 - Epoch 15/30, Train Loss: 0.1017, Val Loss: 0.1022, Time: 345.65s\n",
      "Checkpoint saved at checkpoints\\fault_13_checkpoint_epoch_15.pth\n",
      "Checkpoint saved at checkpoints\\fault_13_best_model.pth\n",
      "New best model for fault type 13 saved with loss: 0.1022\n"
     ]
    },
    {
     "name": "stderr",
     "output_type": "stream",
     "text": [
      "                                                                                                                      "
     ]
    },
    {
     "name": "stdout",
     "output_type": "stream",
     "text": [
      "Fault 13 - Epoch 16/30, Train Loss: 0.1013, Val Loss: 0.1025, Time: 345.00s\n"
     ]
    },
    {
     "name": "stderr",
     "output_type": "stream",
     "text": [
      "                                                                                                                      "
     ]
    },
    {
     "name": "stdout",
     "output_type": "stream",
     "text": [
      "Fault 13 - Epoch 17/30, Train Loss: 0.1006, Val Loss: 0.1083, Time: 344.65s\n"
     ]
    },
    {
     "name": "stderr",
     "output_type": "stream",
     "text": [
      "                                                                                                                      "
     ]
    },
    {
     "name": "stdout",
     "output_type": "stream",
     "text": [
      "Fault 13 - Epoch 18/30, Train Loss: 0.0998, Val Loss: 0.1066, Time: 345.77s\n"
     ]
    },
    {
     "name": "stderr",
     "output_type": "stream",
     "text": [
      "                                                                                                                      "
     ]
    },
    {
     "name": "stdout",
     "output_type": "stream",
     "text": [
      "Fault 13 - Epoch 19/30, Train Loss: 0.0993, Val Loss: 0.1022, Time: 352.68s\n",
      "Checkpoint saved at checkpoints\\fault_13_best_model.pth\n",
      "New best model for fault type 13 saved with loss: 0.1022\n"
     ]
    },
    {
     "name": "stderr",
     "output_type": "stream",
     "text": [
      "                                                                                                                      "
     ]
    },
    {
     "name": "stdout",
     "output_type": "stream",
     "text": [
      "Fault 13 - Epoch 20/30, Train Loss: 0.0991, Val Loss: 0.1020, Time: 345.61s\n",
      "Checkpoint saved at checkpoints\\fault_13_checkpoint_epoch_20.pth\n",
      "Checkpoint saved at checkpoints\\fault_13_best_model.pth\n",
      "New best model for fault type 13 saved with loss: 0.1020\n"
     ]
    },
    {
     "name": "stderr",
     "output_type": "stream",
     "text": [
      "                                                                                                                      "
     ]
    },
    {
     "name": "stdout",
     "output_type": "stream",
     "text": [
      "Fault 13 - Epoch 21/30, Train Loss: 0.0982, Val Loss: 0.1035, Time: 345.63s\n"
     ]
    },
    {
     "name": "stderr",
     "output_type": "stream",
     "text": [
      "                                                                                                                      "
     ]
    },
    {
     "name": "stdout",
     "output_type": "stream",
     "text": [
      "Fault 13 - Epoch 22/30, Train Loss: 0.0980, Val Loss: 0.1009, Time: 343.90s\n",
      "Checkpoint saved at checkpoints\\fault_13_best_model.pth\n",
      "New best model for fault type 13 saved with loss: 0.1009\n"
     ]
    },
    {
     "name": "stderr",
     "output_type": "stream",
     "text": [
      "                                                                                                                      "
     ]
    },
    {
     "name": "stdout",
     "output_type": "stream",
     "text": [
      "Fault 13 - Epoch 23/30, Train Loss: 0.0973, Val Loss: 0.0994, Time: 346.23s\n",
      "Checkpoint saved at checkpoints\\fault_13_best_model.pth\n",
      "New best model for fault type 13 saved with loss: 0.0994\n"
     ]
    },
    {
     "name": "stderr",
     "output_type": "stream",
     "text": [
      "                                                                                                                      "
     ]
    },
    {
     "name": "stdout",
     "output_type": "stream",
     "text": [
      "Fault 13 - Epoch 24/30, Train Loss: 0.0963, Val Loss: 0.1014, Time: 342.45s\n"
     ]
    },
    {
     "name": "stderr",
     "output_type": "stream",
     "text": [
      "                                                                                                                      "
     ]
    },
    {
     "name": "stdout",
     "output_type": "stream",
     "text": [
      "Fault 13 - Epoch 25/30, Train Loss: 0.0957, Val Loss: 0.0993, Time: 348.28s\n",
      "Checkpoint saved at checkpoints\\fault_13_checkpoint_epoch_25.pth\n",
      "Checkpoint saved at checkpoints\\fault_13_best_model.pth\n",
      "New best model for fault type 13 saved with loss: 0.0993\n"
     ]
    },
    {
     "name": "stderr",
     "output_type": "stream",
     "text": [
      "                                                                                                                      "
     ]
    },
    {
     "name": "stdout",
     "output_type": "stream",
     "text": [
      "Fault 13 - Epoch 26/30, Train Loss: 0.0948, Val Loss: 0.1006, Time: 345.61s\n"
     ]
    },
    {
     "name": "stderr",
     "output_type": "stream",
     "text": [
      "                                                                                                                      "
     ]
    },
    {
     "name": "stdout",
     "output_type": "stream",
     "text": [
      "Fault 13 - Epoch 27/30, Train Loss: 0.0947, Val Loss: 0.0975, Time: 348.23s\n",
      "Checkpoint saved at checkpoints\\fault_13_best_model.pth\n",
      "New best model for fault type 13 saved with loss: 0.0975\n"
     ]
    },
    {
     "name": "stderr",
     "output_type": "stream",
     "text": [
      "                                                                                                                      "
     ]
    },
    {
     "name": "stdout",
     "output_type": "stream",
     "text": [
      "Fault 13 - Epoch 28/30, Train Loss: 0.0944, Val Loss: 0.0993, Time: 342.77s\n"
     ]
    },
    {
     "name": "stderr",
     "output_type": "stream",
     "text": [
      "                                                                                                                      "
     ]
    },
    {
     "name": "stdout",
     "output_type": "stream",
     "text": [
      "Fault 13 - Epoch 29/30, Train Loss: 0.0937, Val Loss: 0.1005, Time: 351.32s\n"
     ]
    },
    {
     "name": "stderr",
     "output_type": "stream",
     "text": [
      "                                                                                                                      "
     ]
    },
    {
     "name": "stdout",
     "output_type": "stream",
     "text": [
      "Fault 13 - Epoch 30/30, Train Loss: 0.0936, Val Loss: 0.0982, Time: 348.02s\n",
      "Checkpoint saved at checkpoints\\fault_13_checkpoint_epoch_30.pth\n",
      "Checkpoint saved at checkpoints\\fault_13_final_model.pth\n",
      "Training for fault type 13 complete!\n",
      "Creating sliding windows with lookback=15...\n"
     ]
    },
    {
     "name": "stderr",
     "output_type": "stream",
     "text": [
      "Creating windows: 100%|██████████████████████████████████████████████████| 479985/479985 [00:00<00:00, 1806845.04it/s]\n"
     ]
    },
    {
     "name": "stdout",
     "output_type": "stream",
     "text": [
      "Evaluating model for fault type 13...\n"
     ]
    },
    {
     "name": "stderr",
     "output_type": "stream",
     "text": [
      "                                                                                                                      "
     ]
    },
    {
     "name": "stdout",
     "output_type": "stream",
     "text": [
      "Fault Type 13 - Precision: 1.0000, Recall: 0.8526, F1: 0.9204, Accuracy: 0.8527\n",
      "\n",
      "Processing fault type 14...\n",
      "\n",
      "================================================================================\n",
      "Processing Fault Type 14\n",
      "================================================================================\n",
      "Creating sliding windows with lookback=15...\n"
     ]
    },
    {
     "name": "stderr",
     "output_type": "stream",
     "text": [
      "Creating windows: 100%|██████████████████████████████████████████████████| 499985/499985 [00:00<00:00, 1189779.05it/s]\n"
     ]
    },
    {
     "name": "stdout",
     "output_type": "stream",
     "text": [
      "Initializing model for fault type 14...\n",
      "No checkpoint found for fault type 14 at checkpoints\\fault_14_checkpoint.pth, starting from scratch\n",
      "Starting training for fault type 14...\n"
     ]
    },
    {
     "name": "stderr",
     "output_type": "stream",
     "text": [
      "                                                                                                                      "
     ]
    },
    {
     "name": "stdout",
     "output_type": "stream",
     "text": [
      "Fault 14 - Epoch 1/30, Train Loss: 0.0354, Val Loss: 0.0318, Time: 363.82s\n",
      "Checkpoint saved at checkpoints\\fault_14_best_model.pth\n",
      "New best model for fault type 14 saved with loss: 0.0318\n"
     ]
    },
    {
     "name": "stderr",
     "output_type": "stream",
     "text": [
      "                                                                                                                      "
     ]
    },
    {
     "name": "stdout",
     "output_type": "stream",
     "text": [
      "Fault 14 - Epoch 2/30, Train Loss: 0.0208, Val Loss: 0.0248, Time: 347.17s\n",
      "Checkpoint saved at checkpoints\\fault_14_best_model.pth\n",
      "New best model for fault type 14 saved with loss: 0.0248\n"
     ]
    },
    {
     "name": "stderr",
     "output_type": "stream",
     "text": [
      "                                                                                                                      "
     ]
    },
    {
     "name": "stdout",
     "output_type": "stream",
     "text": [
      "Fault 14 - Epoch 3/30, Train Loss: 0.0190, Val Loss: 0.0182, Time: 345.75s\n",
      "Checkpoint saved at checkpoints\\fault_14_best_model.pth\n",
      "New best model for fault type 14 saved with loss: 0.0182\n"
     ]
    },
    {
     "name": "stderr",
     "output_type": "stream",
     "text": [
      "                                                                                                                      "
     ]
    },
    {
     "name": "stdout",
     "output_type": "stream",
     "text": [
      "Fault 14 - Epoch 4/30, Train Loss: 0.0175, Val Loss: 0.0220, Time: 349.63s\n"
     ]
    },
    {
     "name": "stderr",
     "output_type": "stream",
     "text": [
      "                                                                                                                      "
     ]
    },
    {
     "name": "stdout",
     "output_type": "stream",
     "text": [
      "Fault 14 - Epoch 5/30, Train Loss: 0.0170, Val Loss: 0.0176, Time: 345.25s\n",
      "Checkpoint saved at checkpoints\\fault_14_checkpoint_epoch_5.pth\n",
      "Checkpoint saved at checkpoints\\fault_14_best_model.pth\n",
      "New best model for fault type 14 saved with loss: 0.0176\n"
     ]
    },
    {
     "name": "stderr",
     "output_type": "stream",
     "text": [
      "                                                                                                                      "
     ]
    },
    {
     "name": "stdout",
     "output_type": "stream",
     "text": [
      "Fault 14 - Epoch 6/30, Train Loss: 0.0162, Val Loss: 0.0166, Time: 344.74s\n",
      "Checkpoint saved at checkpoints\\fault_14_best_model.pth\n",
      "New best model for fault type 14 saved with loss: 0.0166\n"
     ]
    },
    {
     "name": "stderr",
     "output_type": "stream",
     "text": [
      "                                                                                                                      "
     ]
    },
    {
     "name": "stdout",
     "output_type": "stream",
     "text": [
      "Fault 14 - Epoch 7/30, Train Loss: 0.0162, Val Loss: 0.0173, Time: 344.75s\n"
     ]
    },
    {
     "name": "stderr",
     "output_type": "stream",
     "text": [
      "                                                                                                                      "
     ]
    },
    {
     "name": "stdout",
     "output_type": "stream",
     "text": [
      "Fault 14 - Epoch 8/30, Train Loss: 0.0163, Val Loss: 0.0166, Time: 343.41s\n",
      "Checkpoint saved at checkpoints\\fault_14_best_model.pth\n",
      "New best model for fault type 14 saved with loss: 0.0166\n"
     ]
    },
    {
     "name": "stderr",
     "output_type": "stream",
     "text": [
      "                                                                                                                      "
     ]
    },
    {
     "name": "stdout",
     "output_type": "stream",
     "text": [
      "Fault 14 - Epoch 9/30, Train Loss: 0.0158, Val Loss: 0.0196, Time: 347.96s\n"
     ]
    },
    {
     "name": "stderr",
     "output_type": "stream",
     "text": [
      "                                                                                                                      "
     ]
    },
    {
     "name": "stdout",
     "output_type": "stream",
     "text": [
      "Fault 14 - Epoch 10/30, Train Loss: 0.0159, Val Loss: 0.0160, Time: 343.00s\n",
      "Checkpoint saved at checkpoints\\fault_14_checkpoint_epoch_10.pth\n",
      "Checkpoint saved at checkpoints\\fault_14_best_model.pth\n",
      "New best model for fault type 14 saved with loss: 0.0160\n"
     ]
    },
    {
     "name": "stderr",
     "output_type": "stream",
     "text": [
      "                                                                                                                      "
     ]
    },
    {
     "name": "stdout",
     "output_type": "stream",
     "text": [
      "Fault 14 - Epoch 11/30, Train Loss: 0.0154, Val Loss: 0.0162, Time: 343.41s\n"
     ]
    },
    {
     "name": "stderr",
     "output_type": "stream",
     "text": [
      "                                                                                                                      "
     ]
    },
    {
     "name": "stdout",
     "output_type": "stream",
     "text": [
      "Fault 14 - Epoch 12/30, Train Loss: 0.0153, Val Loss: 0.0175, Time: 345.97s\n"
     ]
    },
    {
     "name": "stderr",
     "output_type": "stream",
     "text": [
      "                                                                                                                      "
     ]
    },
    {
     "name": "stdout",
     "output_type": "stream",
     "text": [
      "Fault 14 - Epoch 13/30, Train Loss: 0.0155, Val Loss: 0.0170, Time: 349.98s\n"
     ]
    },
    {
     "name": "stderr",
     "output_type": "stream",
     "text": [
      "                                                                                                                      "
     ]
    },
    {
     "name": "stdout",
     "output_type": "stream",
     "text": [
      "Fault 14 - Epoch 14/30, Train Loss: 0.0153, Val Loss: 0.0159, Time: 343.96s\n",
      "Checkpoint saved at checkpoints\\fault_14_best_model.pth\n",
      "New best model for fault type 14 saved with loss: 0.0159\n"
     ]
    },
    {
     "name": "stderr",
     "output_type": "stream",
     "text": [
      "                                                                                                                      "
     ]
    },
    {
     "name": "stdout",
     "output_type": "stream",
     "text": [
      "Fault 14 - Epoch 15/30, Train Loss: 0.0153, Val Loss: 0.0174, Time: 348.92s\n",
      "Checkpoint saved at checkpoints\\fault_14_checkpoint_epoch_15.pth\n"
     ]
    },
    {
     "name": "stderr",
     "output_type": "stream",
     "text": [
      "                                                                                                                      "
     ]
    },
    {
     "name": "stdout",
     "output_type": "stream",
     "text": [
      "Fault 14 - Epoch 16/30, Train Loss: 0.0151, Val Loss: 0.0155, Time: 346.26s\n",
      "Checkpoint saved at checkpoints\\fault_14_best_model.pth\n",
      "New best model for fault type 14 saved with loss: 0.0155\n"
     ]
    },
    {
     "name": "stderr",
     "output_type": "stream",
     "text": [
      "                                                                                                                      "
     ]
    },
    {
     "name": "stdout",
     "output_type": "stream",
     "text": [
      "Fault 14 - Epoch 17/30, Train Loss: 0.0148, Val Loss: 0.0165, Time: 349.70s\n"
     ]
    },
    {
     "name": "stderr",
     "output_type": "stream",
     "text": [
      "                                                                                                                      "
     ]
    },
    {
     "name": "stdout",
     "output_type": "stream",
     "text": [
      "Fault 14 - Epoch 18/30, Train Loss: 0.0150, Val Loss: 0.0178, Time: 348.80s\n"
     ]
    },
    {
     "name": "stderr",
     "output_type": "stream",
     "text": [
      "                                                                                                                      "
     ]
    },
    {
     "name": "stdout",
     "output_type": "stream",
     "text": [
      "Fault 14 - Epoch 19/30, Train Loss: 0.0148, Val Loss: 0.0160, Time: 346.71s\n"
     ]
    },
    {
     "name": "stderr",
     "output_type": "stream",
     "text": [
      "                                                                                                                      "
     ]
    },
    {
     "name": "stdout",
     "output_type": "stream",
     "text": [
      "Fault 14 - Epoch 20/30, Train Loss: 0.0150, Val Loss: 0.0170, Time: 347.45s\n",
      "Checkpoint saved at checkpoints\\fault_14_checkpoint_epoch_20.pth\n"
     ]
    },
    {
     "name": "stderr",
     "output_type": "stream",
     "text": [
      "                                                                                                                      "
     ]
    },
    {
     "name": "stdout",
     "output_type": "stream",
     "text": [
      "Fault 14 - Epoch 21/30, Train Loss: 0.0150, Val Loss: 0.0162, Time: 348.13s\n"
     ]
    },
    {
     "name": "stderr",
     "output_type": "stream",
     "text": [
      "                                                                                                                      "
     ]
    },
    {
     "name": "stdout",
     "output_type": "stream",
     "text": [
      "Fault 14 - Epoch 22/30, Train Loss: 0.0149, Val Loss: 0.0158, Time: 344.46s\n"
     ]
    },
    {
     "name": "stderr",
     "output_type": "stream",
     "text": [
      "                                                                                                                      "
     ]
    },
    {
     "name": "stdout",
     "output_type": "stream",
     "text": [
      "Fault 14 - Epoch 23/30, Train Loss: 0.0149, Val Loss: 0.0155, Time: 346.28s\n"
     ]
    },
    {
     "name": "stderr",
     "output_type": "stream",
     "text": [
      "                                                                                                                      "
     ]
    },
    {
     "name": "stdout",
     "output_type": "stream",
     "text": [
      "Fault 14 - Epoch 24/30, Train Loss: 0.0152, Val Loss: 0.0163, Time: 344.01s\n"
     ]
    },
    {
     "name": "stderr",
     "output_type": "stream",
     "text": [
      "                                                                                                                      "
     ]
    },
    {
     "name": "stdout",
     "output_type": "stream",
     "text": [
      "Fault 14 - Epoch 25/30, Train Loss: 0.0146, Val Loss: 0.0151, Time: 341.57s\n",
      "Checkpoint saved at checkpoints\\fault_14_checkpoint_epoch_25.pth\n",
      "Checkpoint saved at checkpoints\\fault_14_best_model.pth\n",
      "New best model for fault type 14 saved with loss: 0.0151\n"
     ]
    },
    {
     "name": "stderr",
     "output_type": "stream",
     "text": [
      "                                                                                                                      "
     ]
    },
    {
     "name": "stdout",
     "output_type": "stream",
     "text": [
      "Fault 14 - Epoch 26/30, Train Loss: 0.0148, Val Loss: 0.0152, Time: 347.50s\n"
     ]
    },
    {
     "name": "stderr",
     "output_type": "stream",
     "text": [
      "                                                                                                                      "
     ]
    },
    {
     "name": "stdout",
     "output_type": "stream",
     "text": [
      "Fault 14 - Epoch 27/30, Train Loss: 0.0147, Val Loss: 0.0161, Time: 338.57s\n"
     ]
    },
    {
     "name": "stderr",
     "output_type": "stream",
     "text": [
      "                                                                                                                      "
     ]
    },
    {
     "name": "stdout",
     "output_type": "stream",
     "text": [
      "Fault 14 - Epoch 28/30, Train Loss: 0.0143, Val Loss: 0.0151, Time: 347.93s\n"
     ]
    },
    {
     "name": "stderr",
     "output_type": "stream",
     "text": [
      "                                                                                                                      "
     ]
    },
    {
     "name": "stdout",
     "output_type": "stream",
     "text": [
      "Fault 14 - Epoch 29/30, Train Loss: 0.0142, Val Loss: 0.0151, Time: 347.79s\n"
     ]
    },
    {
     "name": "stderr",
     "output_type": "stream",
     "text": [
      "                                                                                                                      "
     ]
    },
    {
     "name": "stdout",
     "output_type": "stream",
     "text": [
      "Fault 14 - Epoch 30/30, Train Loss: 0.0143, Val Loss: 0.0156, Time: 349.10s\n",
      "Checkpoint saved at checkpoints\\fault_14_checkpoint_epoch_30.pth\n",
      "Checkpoint saved at checkpoints\\fault_14_final_model.pth\n",
      "Training for fault type 14 complete!\n",
      "Creating sliding windows with lookback=15...\n"
     ]
    },
    {
     "name": "stderr",
     "output_type": "stream",
     "text": [
      "Creating windows: 100%|██████████████████████████████████████████████████| 479985/479985 [00:00<00:00, 1838513.01it/s]\n"
     ]
    },
    {
     "name": "stdout",
     "output_type": "stream",
     "text": [
      "Evaluating model for fault type 14...\n"
     ]
    },
    {
     "name": "stderr",
     "output_type": "stream",
     "text": [
      "                                                                                                                      "
     ]
    },
    {
     "name": "stdout",
     "output_type": "stream",
     "text": [
      "Fault Type 14 - Precision: 1.0000, Recall: 0.8763, F1: 0.9341, Accuracy: 0.8763\n",
      "\n",
      "Processing fault type 15...\n",
      "\n",
      "================================================================================\n",
      "Processing Fault Type 15\n",
      "================================================================================\n",
      "Creating sliding windows with lookback=15...\n"
     ]
    },
    {
     "name": "stderr",
     "output_type": "stream",
     "text": [
      "Creating windows: 100%|██████████████████████████████████████████████████| 499985/499985 [00:00<00:00, 1565071.28it/s]\n"
     ]
    },
    {
     "name": "stdout",
     "output_type": "stream",
     "text": [
      "Initializing model for fault type 15...\n",
      "No checkpoint found for fault type 15 at checkpoints\\fault_15_checkpoint.pth, starting from scratch\n",
      "Starting training for fault type 15...\n"
     ]
    },
    {
     "name": "stderr",
     "output_type": "stream",
     "text": [
      "                                                                                                                      "
     ]
    },
    {
     "name": "stdout",
     "output_type": "stream",
     "text": [
      "Fault 15 - Epoch 1/30, Train Loss: 0.6935, Val Loss: 0.6932, Time: 361.08s\n",
      "Checkpoint saved at checkpoints\\fault_15_best_model.pth\n",
      "New best model for fault type 15 saved with loss: 0.6932\n"
     ]
    },
    {
     "name": "stderr",
     "output_type": "stream",
     "text": [
      "                                                                                                                      "
     ]
    },
    {
     "name": "stdout",
     "output_type": "stream",
     "text": [
      "Fault 15 - Epoch 2/30, Train Loss: 0.6932, Val Loss: 0.6932, Time: 343.44s\n"
     ]
    },
    {
     "name": "stderr",
     "output_type": "stream",
     "text": [
      "                                                                                                                      "
     ]
    },
    {
     "name": "stdout",
     "output_type": "stream",
     "text": [
      "Fault 15 - Epoch 3/30, Train Loss: 0.6932, Val Loss: 0.6932, Time: 343.94s\n"
     ]
    },
    {
     "name": "stderr",
     "output_type": "stream",
     "text": [
      "                                                                                                                      "
     ]
    },
    {
     "name": "stdout",
     "output_type": "stream",
     "text": [
      "Fault 15 - Epoch 4/30, Train Loss: 0.6932, Val Loss: 0.6931, Time: 342.68s\n",
      "Checkpoint saved at checkpoints\\fault_15_best_model.pth\n",
      "New best model for fault type 15 saved with loss: 0.6931\n"
     ]
    },
    {
     "name": "stderr",
     "output_type": "stream",
     "text": [
      "                                                                                                                      "
     ]
    },
    {
     "name": "stdout",
     "output_type": "stream",
     "text": [
      "Fault 15 - Epoch 5/30, Train Loss: 0.6932, Val Loss: 0.6932, Time: 349.52s\n",
      "Checkpoint saved at checkpoints\\fault_15_checkpoint_epoch_5.pth\n"
     ]
    },
    {
     "name": "stderr",
     "output_type": "stream",
     "text": [
      "                                                                                                                      "
     ]
    },
    {
     "name": "stdout",
     "output_type": "stream",
     "text": [
      "Fault 15 - Epoch 6/30, Train Loss: 0.6932, Val Loss: 0.6932, Time: 347.54s\n"
     ]
    },
    {
     "name": "stderr",
     "output_type": "stream",
     "text": [
      "                                                                                                                      "
     ]
    },
    {
     "name": "stdout",
     "output_type": "stream",
     "text": [
      "Fault 15 - Epoch 7/30, Train Loss: 0.6932, Val Loss: 0.6931, Time: 348.96s\n",
      "Checkpoint saved at checkpoints\\fault_15_best_model.pth\n",
      "New best model for fault type 15 saved with loss: 0.6931\n"
     ]
    },
    {
     "name": "stderr",
     "output_type": "stream",
     "text": [
      "                                                                                                                      "
     ]
    },
    {
     "name": "stdout",
     "output_type": "stream",
     "text": [
      "Fault 15 - Epoch 8/30, Train Loss: 0.6932, Val Loss: 0.6932, Time: 352.47s\n"
     ]
    },
    {
     "name": "stderr",
     "output_type": "stream",
     "text": [
      "                                                                                                                      "
     ]
    },
    {
     "name": "stdout",
     "output_type": "stream",
     "text": [
      "Fault 15 - Epoch 9/30, Train Loss: 0.6932, Val Loss: 0.6932, Time: 346.52s\n"
     ]
    },
    {
     "name": "stderr",
     "output_type": "stream",
     "text": [
      "                                                                                                                      "
     ]
    },
    {
     "name": "stdout",
     "output_type": "stream",
     "text": [
      "Fault 15 - Epoch 10/30, Train Loss: 0.6932, Val Loss: 0.6932, Time: 352.32s\n",
      "Checkpoint saved at checkpoints\\fault_15_checkpoint_epoch_10.pth\n"
     ]
    },
    {
     "name": "stderr",
     "output_type": "stream",
     "text": [
      "                                                                                                                      "
     ]
    },
    {
     "name": "stdout",
     "output_type": "stream",
     "text": [
      "Fault 15 - Epoch 11/30, Train Loss: 0.6932, Val Loss: 0.6931, Time: 349.19s\n"
     ]
    },
    {
     "name": "stderr",
     "output_type": "stream",
     "text": [
      "                                                                                                                      "
     ]
    },
    {
     "name": "stdout",
     "output_type": "stream",
     "text": [
      "Fault 15 - Epoch 12/30, Train Loss: 0.6932, Val Loss: 0.6932, Time: 353.42s\n"
     ]
    },
    {
     "name": "stderr",
     "output_type": "stream",
     "text": [
      "                                                                                                                      "
     ]
    },
    {
     "name": "stdout",
     "output_type": "stream",
     "text": [
      "Fault 15 - Epoch 13/30, Train Loss: 0.6932, Val Loss: 0.6932, Time: 344.77s\n"
     ]
    },
    {
     "name": "stderr",
     "output_type": "stream",
     "text": [
      "                                                                                                                      "
     ]
    },
    {
     "name": "stdout",
     "output_type": "stream",
     "text": [
      "Fault 15 - Epoch 14/30, Train Loss: 0.6932, Val Loss: 0.6932, Time: 346.41s\n"
     ]
    },
    {
     "name": "stderr",
     "output_type": "stream",
     "text": [
      "                                                                                                                      "
     ]
    },
    {
     "name": "stdout",
     "output_type": "stream",
     "text": [
      "Fault 15 - Epoch 15/30, Train Loss: 0.6932, Val Loss: 0.6931, Time: 340.41s\n",
      "Checkpoint saved at checkpoints\\fault_15_checkpoint_epoch_15.pth\n"
     ]
    },
    {
     "name": "stderr",
     "output_type": "stream",
     "text": [
      "                                                                                                                      "
     ]
    },
    {
     "name": "stdout",
     "output_type": "stream",
     "text": [
      "Fault 15 - Epoch 16/30, Train Loss: 0.6932, Val Loss: 0.6932, Time: 345.49s\n"
     ]
    },
    {
     "name": "stderr",
     "output_type": "stream",
     "text": [
      "                                                                                                                      "
     ]
    },
    {
     "name": "stdout",
     "output_type": "stream",
     "text": [
      "Fault 15 - Epoch 17/30, Train Loss: 0.6932, Val Loss: 0.6934, Time: 346.37s\n"
     ]
    },
    {
     "name": "stderr",
     "output_type": "stream",
     "text": [
      "                                                                                                                      "
     ]
    },
    {
     "name": "stdout",
     "output_type": "stream",
     "text": [
      "Fault 15 - Epoch 18/30, Train Loss: 0.6932, Val Loss: 0.6932, Time: 344.57s\n"
     ]
    },
    {
     "name": "stderr",
     "output_type": "stream",
     "text": [
      "                                                                                                                      "
     ]
    },
    {
     "name": "stdout",
     "output_type": "stream",
     "text": [
      "Fault 15 - Epoch 19/30, Train Loss: 0.6932, Val Loss: 0.6932, Time: 346.22s\n"
     ]
    },
    {
     "name": "stderr",
     "output_type": "stream",
     "text": [
      "                                                                                                                      "
     ]
    },
    {
     "name": "stdout",
     "output_type": "stream",
     "text": [
      "Fault 15 - Epoch 20/30, Train Loss: 0.6932, Val Loss: 0.6933, Time: 345.72s\n",
      "Checkpoint saved at checkpoints\\fault_15_checkpoint_epoch_20.pth\n"
     ]
    },
    {
     "name": "stderr",
     "output_type": "stream",
     "text": [
      "                                                                                                                      "
     ]
    },
    {
     "name": "stdout",
     "output_type": "stream",
     "text": [
      "Fault 15 - Epoch 21/30, Train Loss: 0.6932, Val Loss: 0.6933, Time: 349.69s\n"
     ]
    },
    {
     "name": "stderr",
     "output_type": "stream",
     "text": [
      "                                                                                                                      "
     ]
    },
    {
     "name": "stdout",
     "output_type": "stream",
     "text": [
      "Fault 15 - Epoch 22/30, Train Loss: 0.6932, Val Loss: 0.6932, Time: 347.58s\n"
     ]
    },
    {
     "name": "stderr",
     "output_type": "stream",
     "text": [
      "                                                                                                                      "
     ]
    },
    {
     "name": "stdout",
     "output_type": "stream",
     "text": [
      "Fault 15 - Epoch 23/30, Train Loss: 0.6932, Val Loss: 0.6938, Time: 346.57s\n"
     ]
    },
    {
     "name": "stderr",
     "output_type": "stream",
     "text": [
      "                                                                                                                      "
     ]
    },
    {
     "name": "stdout",
     "output_type": "stream",
     "text": [
      "Fault 15 - Epoch 24/30, Train Loss: 0.6932, Val Loss: 0.6932, Time: 344.16s\n"
     ]
    },
    {
     "name": "stderr",
     "output_type": "stream",
     "text": [
      "                                                                                                                      "
     ]
    },
    {
     "name": "stdout",
     "output_type": "stream",
     "text": [
      "Fault 15 - Epoch 25/30, Train Loss: 0.6932, Val Loss: 0.6932, Time: 348.07s\n",
      "Checkpoint saved at checkpoints\\fault_15_checkpoint_epoch_25.pth\n"
     ]
    },
    {
     "name": "stderr",
     "output_type": "stream",
     "text": [
      "                                                                                                                      "
     ]
    },
    {
     "name": "stdout",
     "output_type": "stream",
     "text": [
      "Fault 15 - Epoch 26/30, Train Loss: 0.6932, Val Loss: 0.6932, Time: 349.89s\n"
     ]
    },
    {
     "name": "stderr",
     "output_type": "stream",
     "text": [
      "                                                                                                                      "
     ]
    },
    {
     "name": "stdout",
     "output_type": "stream",
     "text": [
      "Fault 15 - Epoch 27/30, Train Loss: 0.6932, Val Loss: 0.6932, Time: 348.94s\n"
     ]
    },
    {
     "name": "stderr",
     "output_type": "stream",
     "text": [
      "                                                                                                                      "
     ]
    },
    {
     "name": "stdout",
     "output_type": "stream",
     "text": [
      "Fault 15 - Epoch 28/30, Train Loss: 0.6932, Val Loss: 0.6932, Time: 343.97s\n"
     ]
    },
    {
     "name": "stderr",
     "output_type": "stream",
     "text": [
      "                                                                                                                      "
     ]
    },
    {
     "name": "stdout",
     "output_type": "stream",
     "text": [
      "Fault 15 - Epoch 29/30, Train Loss: 0.6932, Val Loss: 0.6932, Time: 347.62s\n"
     ]
    },
    {
     "name": "stderr",
     "output_type": "stream",
     "text": [
      "                                                                                                                      "
     ]
    },
    {
     "name": "stdout",
     "output_type": "stream",
     "text": [
      "Fault 15 - Epoch 30/30, Train Loss: 0.6932, Val Loss: 0.6931, Time: 352.02s\n",
      "Checkpoint saved at checkpoints\\fault_15_checkpoint_epoch_30.pth\n",
      "Checkpoint saved at checkpoints\\fault_15_final_model.pth\n",
      "Training for fault type 15 complete!\n",
      "Creating sliding windows with lookback=15...\n"
     ]
    },
    {
     "name": "stderr",
     "output_type": "stream",
     "text": [
      "Creating windows: 100%|██████████████████████████████████████████████████| 479985/479985 [00:00<00:00, 1825690.03it/s]\n"
     ]
    },
    {
     "name": "stdout",
     "output_type": "stream",
     "text": [
      "Evaluating model for fault type 15...\n"
     ]
    },
    {
     "name": "stderr",
     "output_type": "stream",
     "text": [
      "                                                                                                                      "
     ]
    },
    {
     "name": "stdout",
     "output_type": "stream",
     "text": [
      "Fault Type 15 - Precision: 0.0000, Recall: 0.0000, F1: 0.0000, Accuracy: 0.0003\n",
      "\n",
      "Processing fault type 16...\n",
      "\n",
      "================================================================================\n",
      "Processing Fault Type 16\n",
      "================================================================================\n",
      "Creating sliding windows with lookback=15...\n"
     ]
    },
    {
     "name": "stderr",
     "output_type": "stream",
     "text": [
      "Creating windows: 100%|██████████████████████████████████████████████████| 499985/499985 [00:00<00:00, 1811550.66it/s]\n"
     ]
    },
    {
     "name": "stdout",
     "output_type": "stream",
     "text": [
      "Initializing model for fault type 16...\n",
      "No checkpoint found for fault type 16 at checkpoints\\fault_16_checkpoint.pth, starting from scratch\n",
      "Starting training for fault type 16...\n"
     ]
    },
    {
     "name": "stderr",
     "output_type": "stream",
     "text": [
      "                                                                                                                      "
     ]
    },
    {
     "name": "stdout",
     "output_type": "stream",
     "text": [
      "Fault 16 - Epoch 1/30, Train Loss: 0.1009, Val Loss: 0.0679, Time: 369.41s\n",
      "Checkpoint saved at checkpoints\\fault_16_best_model.pth\n",
      "New best model for fault type 16 saved with loss: 0.0679\n"
     ]
    },
    {
     "name": "stderr",
     "output_type": "stream",
     "text": [
      "                                                                                                                      "
     ]
    },
    {
     "name": "stdout",
     "output_type": "stream",
     "text": [
      "Fault 16 - Epoch 2/30, Train Loss: 0.0634, Val Loss: 0.0616, Time: 348.50s\n",
      "Checkpoint saved at checkpoints\\fault_16_best_model.pth\n",
      "New best model for fault type 16 saved with loss: 0.0616\n"
     ]
    },
    {
     "name": "stderr",
     "output_type": "stream",
     "text": [
      "                                                                                                                      "
     ]
    },
    {
     "name": "stdout",
     "output_type": "stream",
     "text": [
      "Fault 16 - Epoch 3/30, Train Loss: 0.0583, Val Loss: 0.0564, Time: 372.74s\n",
      "Checkpoint saved at checkpoints\\fault_16_best_model.pth\n",
      "New best model for fault type 16 saved with loss: 0.0564\n"
     ]
    },
    {
     "name": "stderr",
     "output_type": "stream",
     "text": [
      "                                                                                                                      "
     ]
    },
    {
     "name": "stdout",
     "output_type": "stream",
     "text": [
      "Fault 16 - Epoch 4/30, Train Loss: 0.0580, Val Loss: 0.0530, Time: 366.29s\n",
      "Checkpoint saved at checkpoints\\fault_16_best_model.pth\n",
      "New best model for fault type 16 saved with loss: 0.0530\n"
     ]
    },
    {
     "name": "stderr",
     "output_type": "stream",
     "text": [
      "                                                                                                                      "
     ]
    },
    {
     "name": "stdout",
     "output_type": "stream",
     "text": [
      "Fault 16 - Epoch 5/30, Train Loss: 0.0565, Val Loss: 0.0551, Time: 354.47s\n",
      "Checkpoint saved at checkpoints\\fault_16_checkpoint_epoch_5.pth\n"
     ]
    },
    {
     "name": "stderr",
     "output_type": "stream",
     "text": [
      "                                                                                                                      "
     ]
    },
    {
     "name": "stdout",
     "output_type": "stream",
     "text": [
      "Fault 16 - Epoch 6/30, Train Loss: 0.0561, Val Loss: 0.0539, Time: 384.03s\n"
     ]
    },
    {
     "name": "stderr",
     "output_type": "stream",
     "text": [
      "                                                                                                                      "
     ]
    },
    {
     "name": "stdout",
     "output_type": "stream",
     "text": [
      "Fault 16 - Epoch 7/30, Train Loss: 0.0550, Val Loss: 0.0547, Time: 355.88s\n"
     ]
    },
    {
     "name": "stderr",
     "output_type": "stream",
     "text": [
      "                                                                                                                      "
     ]
    },
    {
     "name": "stdout",
     "output_type": "stream",
     "text": [
      "Fault 16 - Epoch 8/30, Train Loss: 0.0547, Val Loss: 0.0537, Time: 355.18s\n"
     ]
    },
    {
     "name": "stderr",
     "output_type": "stream",
     "text": [
      "                                                                                                                      "
     ]
    },
    {
     "name": "stdout",
     "output_type": "stream",
     "text": [
      "Fault 16 - Epoch 9/30, Train Loss: 0.0540, Val Loss: 0.0530, Time: 381.27s\n"
     ]
    },
    {
     "name": "stderr",
     "output_type": "stream",
     "text": [
      "                                                                                                                      "
     ]
    },
    {
     "name": "stdout",
     "output_type": "stream",
     "text": [
      "Fault 16 - Epoch 10/30, Train Loss: 0.0528, Val Loss: 0.0572, Time: 351.84s\n",
      "Checkpoint saved at checkpoints\\fault_16_checkpoint_epoch_10.pth\n"
     ]
    },
    {
     "name": "stderr",
     "output_type": "stream",
     "text": [
      "                                                                                                                      "
     ]
    },
    {
     "name": "stdout",
     "output_type": "stream",
     "text": [
      "Fault 16 - Epoch 11/30, Train Loss: 0.0516, Val Loss: 0.0576, Time: 352.92s\n"
     ]
    },
    {
     "name": "stderr",
     "output_type": "stream",
     "text": [
      "                                                                                                                      "
     ]
    },
    {
     "name": "stdout",
     "output_type": "stream",
     "text": [
      "Fault 16 - Epoch 12/30, Train Loss: 0.0520, Val Loss: 0.0576, Time: 353.41s\n"
     ]
    },
    {
     "name": "stderr",
     "output_type": "stream",
     "text": [
      "                                                                                                                      "
     ]
    },
    {
     "name": "stdout",
     "output_type": "stream",
     "text": [
      "Fault 16 - Epoch 13/30, Train Loss: 0.0510, Val Loss: 0.0508, Time: 355.46s\n",
      "Checkpoint saved at checkpoints\\fault_16_best_model.pth\n",
      "New best model for fault type 16 saved with loss: 0.0508\n"
     ]
    },
    {
     "name": "stderr",
     "output_type": "stream",
     "text": [
      "                                                                                                                      "
     ]
    },
    {
     "name": "stdout",
     "output_type": "stream",
     "text": [
      "Fault 16 - Epoch 14/30, Train Loss: 0.0508, Val Loss: 0.0530, Time: 355.72s\n"
     ]
    },
    {
     "name": "stderr",
     "output_type": "stream",
     "text": [
      "                                                                                                                      "
     ]
    },
    {
     "name": "stdout",
     "output_type": "stream",
     "text": [
      "Fault 16 - Epoch 15/30, Train Loss: 0.0513, Val Loss: 0.0517, Time: 338.01s\n",
      "Checkpoint saved at checkpoints\\fault_16_checkpoint_epoch_15.pth\n"
     ]
    },
    {
     "name": "stderr",
     "output_type": "stream",
     "text": [
      "                                                                                                                      "
     ]
    },
    {
     "name": "stdout",
     "output_type": "stream",
     "text": [
      "Fault 16 - Epoch 16/30, Train Loss: 0.0498, Val Loss: 0.0502, Time: 355.67s\n",
      "Checkpoint saved at checkpoints\\fault_16_best_model.pth\n",
      "New best model for fault type 16 saved with loss: 0.0502\n"
     ]
    },
    {
     "name": "stderr",
     "output_type": "stream",
     "text": [
      "                                                                                                                      "
     ]
    },
    {
     "name": "stdout",
     "output_type": "stream",
     "text": [
      "Fault 16 - Epoch 17/30, Train Loss: 0.0499, Val Loss: 0.0517, Time: 351.05s\n"
     ]
    },
    {
     "name": "stderr",
     "output_type": "stream",
     "text": [
      "                                                                                                                      "
     ]
    },
    {
     "name": "stdout",
     "output_type": "stream",
     "text": [
      "Fault 16 - Epoch 18/30, Train Loss: 0.0493, Val Loss: 0.0512, Time: 354.92s\n"
     ]
    },
    {
     "name": "stderr",
     "output_type": "stream",
     "text": [
      "                                                                                                                      "
     ]
    },
    {
     "name": "stdout",
     "output_type": "stream",
     "text": [
      "Fault 16 - Epoch 19/30, Train Loss: 0.0487, Val Loss: 0.0489, Time: 358.18s\n",
      "Checkpoint saved at checkpoints\\fault_16_best_model.pth\n",
      "New best model for fault type 16 saved with loss: 0.0489\n"
     ]
    },
    {
     "name": "stderr",
     "output_type": "stream",
     "text": [
      "                                                                                                                      "
     ]
    },
    {
     "name": "stdout",
     "output_type": "stream",
     "text": [
      "Fault 16 - Epoch 20/30, Train Loss: 0.0471, Val Loss: 0.0482, Time: 356.12s\n",
      "Checkpoint saved at checkpoints\\fault_16_checkpoint_epoch_20.pth\n",
      "Checkpoint saved at checkpoints\\fault_16_best_model.pth\n",
      "New best model for fault type 16 saved with loss: 0.0482\n"
     ]
    },
    {
     "name": "stderr",
     "output_type": "stream",
     "text": [
      "                                                                                                                      "
     ]
    },
    {
     "name": "stdout",
     "output_type": "stream",
     "text": [
      "Fault 16 - Epoch 21/30, Train Loss: 0.0471, Val Loss: 0.0479, Time: 398.92s\n",
      "Checkpoint saved at checkpoints\\fault_16_best_model.pth\n",
      "New best model for fault type 16 saved with loss: 0.0479\n"
     ]
    },
    {
     "name": "stderr",
     "output_type": "stream",
     "text": [
      "                                                                                                                      "
     ]
    },
    {
     "name": "stdout",
     "output_type": "stream",
     "text": [
      "Fault 16 - Epoch 22/30, Train Loss: 0.0468, Val Loss: 0.0481, Time: 412.38s\n"
     ]
    },
    {
     "name": "stderr",
     "output_type": "stream",
     "text": [
      "                                                                                                                      "
     ]
    },
    {
     "name": "stdout",
     "output_type": "stream",
     "text": [
      "Fault 16 - Epoch 23/30, Train Loss: 0.0467, Val Loss: 0.0494, Time: 407.02s\n"
     ]
    },
    {
     "name": "stderr",
     "output_type": "stream",
     "text": [
      "                                                                                                                      "
     ]
    },
    {
     "name": "stdout",
     "output_type": "stream",
     "text": [
      "Fault 16 - Epoch 24/30, Train Loss: 0.0462, Val Loss: 0.0481, Time: 406.08s\n"
     ]
    },
    {
     "name": "stderr",
     "output_type": "stream",
     "text": [
      "                                                                                                                      "
     ]
    },
    {
     "name": "stdout",
     "output_type": "stream",
     "text": [
      "Fault 16 - Epoch 25/30, Train Loss: 0.0459, Val Loss: 0.0468, Time: 407.57s\n",
      "Checkpoint saved at checkpoints\\fault_16_checkpoint_epoch_25.pth\n",
      "Checkpoint saved at checkpoints\\fault_16_best_model.pth\n",
      "New best model for fault type 16 saved with loss: 0.0468\n"
     ]
    },
    {
     "name": "stderr",
     "output_type": "stream",
     "text": [
      "                                                                                                                      "
     ]
    },
    {
     "name": "stdout",
     "output_type": "stream",
     "text": [
      "Fault 16 - Epoch 26/30, Train Loss: 0.0460, Val Loss: 0.0465, Time: 403.62s\n",
      "Checkpoint saved at checkpoints\\fault_16_best_model.pth\n",
      "New best model for fault type 16 saved with loss: 0.0465\n"
     ]
    },
    {
     "name": "stderr",
     "output_type": "stream",
     "text": [
      "                                                                                                                      "
     ]
    },
    {
     "name": "stdout",
     "output_type": "stream",
     "text": [
      "Fault 16 - Epoch 27/30, Train Loss: 0.0449, Val Loss: 0.0454, Time: 411.93s\n",
      "Checkpoint saved at checkpoints\\fault_16_best_model.pth\n",
      "New best model for fault type 16 saved with loss: 0.0454\n"
     ]
    },
    {
     "name": "stderr",
     "output_type": "stream",
     "text": [
      "                                                                                                                      "
     ]
    },
    {
     "name": "stdout",
     "output_type": "stream",
     "text": [
      "Fault 16 - Epoch 28/30, Train Loss: 0.0453, Val Loss: 0.0457, Time: 400.26s\n"
     ]
    },
    {
     "name": "stderr",
     "output_type": "stream",
     "text": [
      "                                                                                                                      "
     ]
    },
    {
     "name": "stdout",
     "output_type": "stream",
     "text": [
      "Fault 16 - Epoch 29/30, Train Loss: 0.0444, Val Loss: 0.0458, Time: 403.44s\n"
     ]
    },
    {
     "name": "stderr",
     "output_type": "stream",
     "text": [
      "                                                                                                                      "
     ]
    },
    {
     "name": "stdout",
     "output_type": "stream",
     "text": [
      "Fault 16 - Epoch 30/30, Train Loss: 0.0441, Val Loss: 0.0446, Time: 408.75s\n",
      "Checkpoint saved at checkpoints\\fault_16_checkpoint_epoch_30.pth\n",
      "Checkpoint saved at checkpoints\\fault_16_best_model.pth\n",
      "New best model for fault type 16 saved with loss: 0.0446\n",
      "Checkpoint saved at checkpoints\\fault_16_final_model.pth\n",
      "Training for fault type 16 complete!\n",
      "Creating sliding windows with lookback=15...\n"
     ]
    },
    {
     "name": "stderr",
     "output_type": "stream",
     "text": [
      "Creating windows: 100%|██████████████████████████████████████████████████| 479985/479985 [00:00<00:00, 1935444.58it/s]\n"
     ]
    },
    {
     "name": "stdout",
     "output_type": "stream",
     "text": [
      "Evaluating model for fault type 16...\n"
     ]
    },
    {
     "name": "stderr",
     "output_type": "stream",
     "text": [
      "                                                                                                                      "
     ]
    },
    {
     "name": "stdout",
     "output_type": "stream",
     "text": [
      "Fault Type 16 - Precision: 1.0000, Recall: 0.8735, F1: 0.9325, Accuracy: 0.8736\n",
      "\n",
      "Processing fault type 17...\n",
      "\n",
      "================================================================================\n",
      "Processing Fault Type 17\n",
      "================================================================================\n",
      "Creating sliding windows with lookback=15...\n"
     ]
    },
    {
     "name": "stderr",
     "output_type": "stream",
     "text": [
      "Creating windows: 100%|██████████████████████████████████████████████████| 499985/499985 [00:00<00:00, 1300960.07it/s]\n"
     ]
    },
    {
     "name": "stdout",
     "output_type": "stream",
     "text": [
      "Initializing model for fault type 17...\n",
      "No checkpoint found for fault type 17 at checkpoints\\fault_17_checkpoint.pth, starting from scratch\n",
      "Starting training for fault type 17...\n"
     ]
    },
    {
     "name": "stderr",
     "output_type": "stream",
     "text": [
      "                                                                                                                      "
     ]
    },
    {
     "name": "stdout",
     "output_type": "stream",
     "text": [
      "Fault 17 - Epoch 1/30, Train Loss: 0.1480, Val Loss: 0.1264, Time: 430.32s\n",
      "Checkpoint saved at checkpoints\\fault_17_best_model.pth\n",
      "New best model for fault type 17 saved with loss: 0.1264\n"
     ]
    },
    {
     "name": "stderr",
     "output_type": "stream",
     "text": [
      "                                                                                                                      "
     ]
    },
    {
     "name": "stdout",
     "output_type": "stream",
     "text": [
      "Fault 17 - Epoch 2/30, Train Loss: 0.1231, Val Loss: 0.1222, Time: 406.08s\n",
      "Checkpoint saved at checkpoints\\fault_17_best_model.pth\n",
      "New best model for fault type 17 saved with loss: 0.1222\n"
     ]
    },
    {
     "name": "stderr",
     "output_type": "stream",
     "text": [
      "                                                                                                                      "
     ]
    },
    {
     "name": "stdout",
     "output_type": "stream",
     "text": [
      "Fault 17 - Epoch 3/30, Train Loss: 0.1179, Val Loss: 0.1146, Time: 408.65s\n",
      "Checkpoint saved at checkpoints\\fault_17_best_model.pth\n",
      "New best model for fault type 17 saved with loss: 0.1146\n"
     ]
    },
    {
     "name": "stderr",
     "output_type": "stream",
     "text": [
      "                                                                                                                      "
     ]
    },
    {
     "name": "stdout",
     "output_type": "stream",
     "text": [
      "Fault 17 - Epoch 4/30, Train Loss: 0.1156, Val Loss: 0.1131, Time: 407.05s\n",
      "Checkpoint saved at checkpoints\\fault_17_best_model.pth\n",
      "New best model for fault type 17 saved with loss: 0.1131\n"
     ]
    },
    {
     "name": "stderr",
     "output_type": "stream",
     "text": [
      "                                                                                                                      "
     ]
    },
    {
     "name": "stdout",
     "output_type": "stream",
     "text": [
      "Fault 17 - Epoch 5/30, Train Loss: 0.1137, Val Loss: 0.1153, Time: 411.49s\n",
      "Checkpoint saved at checkpoints\\fault_17_checkpoint_epoch_5.pth\n"
     ]
    },
    {
     "name": "stderr",
     "output_type": "stream",
     "text": [
      "                                                                                                                      "
     ]
    },
    {
     "name": "stdout",
     "output_type": "stream",
     "text": [
      "Fault 17 - Epoch 6/30, Train Loss: 0.1124, Val Loss: 0.1141, Time: 403.82s\n"
     ]
    },
    {
     "name": "stderr",
     "output_type": "stream",
     "text": [
      "                                                                                                                      "
     ]
    },
    {
     "name": "stdout",
     "output_type": "stream",
     "text": [
      "Fault 17 - Epoch 7/30, Train Loss: 0.1107, Val Loss: 0.1153, Time: 405.22s\n"
     ]
    },
    {
     "name": "stderr",
     "output_type": "stream",
     "text": [
      "                                                                                                                      "
     ]
    },
    {
     "name": "stdout",
     "output_type": "stream",
     "text": [
      "Fault 17 - Epoch 8/30, Train Loss: 0.1105, Val Loss: 0.1124, Time: 407.65s\n",
      "Checkpoint saved at checkpoints\\fault_17_best_model.pth\n",
      "New best model for fault type 17 saved with loss: 0.1124\n"
     ]
    },
    {
     "name": "stderr",
     "output_type": "stream",
     "text": [
      "                                                                                                                      "
     ]
    },
    {
     "name": "stdout",
     "output_type": "stream",
     "text": [
      "Fault 17 - Epoch 9/30, Train Loss: 0.1096, Val Loss: 0.1128, Time: 409.76s\n"
     ]
    },
    {
     "name": "stderr",
     "output_type": "stream",
     "text": [
      "                                                                                                                      "
     ]
    },
    {
     "name": "stdout",
     "output_type": "stream",
     "text": [
      "Fault 17 - Epoch 10/30, Train Loss: 0.1091, Val Loss: 0.1130, Time: 407.17s\n",
      "Checkpoint saved at checkpoints\\fault_17_checkpoint_epoch_10.pth\n"
     ]
    },
    {
     "name": "stderr",
     "output_type": "stream",
     "text": [
      "                                                                                                                      "
     ]
    },
    {
     "name": "stdout",
     "output_type": "stream",
     "text": [
      "Fault 17 - Epoch 11/30, Train Loss: 0.1084, Val Loss: 0.1145, Time: 405.90s\n"
     ]
    },
    {
     "name": "stderr",
     "output_type": "stream",
     "text": [
      "                                                                                                                      "
     ]
    },
    {
     "name": "stdout",
     "output_type": "stream",
     "text": [
      "Fault 17 - Epoch 12/30, Train Loss: 0.1077, Val Loss: 0.1106, Time: 403.22s\n",
      "Checkpoint saved at checkpoints\\fault_17_best_model.pth\n",
      "New best model for fault type 17 saved with loss: 0.1106\n"
     ]
    },
    {
     "name": "stderr",
     "output_type": "stream",
     "text": [
      "                                                                                                                      "
     ]
    },
    {
     "name": "stdout",
     "output_type": "stream",
     "text": [
      "Fault 17 - Epoch 13/30, Train Loss: 0.1071, Val Loss: 0.1101, Time: 402.09s\n",
      "Checkpoint saved at checkpoints\\fault_17_best_model.pth\n",
      "New best model for fault type 17 saved with loss: 0.1101\n"
     ]
    },
    {
     "name": "stderr",
     "output_type": "stream",
     "text": [
      "                                                                                                                      "
     ]
    },
    {
     "name": "stdout",
     "output_type": "stream",
     "text": [
      "Fault 17 - Epoch 14/30, Train Loss: 0.1057, Val Loss: 0.1072, Time: 407.22s\n",
      "Checkpoint saved at checkpoints\\fault_17_best_model.pth\n",
      "New best model for fault type 17 saved with loss: 0.1072\n"
     ]
    },
    {
     "name": "stderr",
     "output_type": "stream",
     "text": [
      "                                                                                                                      "
     ]
    },
    {
     "name": "stdout",
     "output_type": "stream",
     "text": [
      "Fault 17 - Epoch 15/30, Train Loss: 0.1058, Val Loss: 0.1057, Time: 405.14s\n",
      "Checkpoint saved at checkpoints\\fault_17_checkpoint_epoch_15.pth\n",
      "Checkpoint saved at checkpoints\\fault_17_best_model.pth\n",
      "New best model for fault type 17 saved with loss: 0.1057\n"
     ]
    },
    {
     "name": "stderr",
     "output_type": "stream",
     "text": [
      "                                                                                                                      "
     ]
    },
    {
     "name": "stdout",
     "output_type": "stream",
     "text": [
      "Fault 17 - Epoch 16/30, Train Loss: 0.1045, Val Loss: 0.1083, Time: 413.85s\n"
     ]
    },
    {
     "name": "stderr",
     "output_type": "stream",
     "text": [
      "                                                                                                                      "
     ]
    },
    {
     "name": "stdout",
     "output_type": "stream",
     "text": [
      "Fault 17 - Epoch 17/30, Train Loss: 0.1046, Val Loss: 0.1071, Time: 406.89s\n"
     ]
    },
    {
     "name": "stderr",
     "output_type": "stream",
     "text": [
      "                                                                                                                      "
     ]
    },
    {
     "name": "stdout",
     "output_type": "stream",
     "text": [
      "Fault 17 - Epoch 18/30, Train Loss: 0.1041, Val Loss: 0.1074, Time: 408.50s\n"
     ]
    },
    {
     "name": "stderr",
     "output_type": "stream",
     "text": [
      "                                                                                                                      "
     ]
    },
    {
     "name": "stdout",
     "output_type": "stream",
     "text": [
      "Fault 17 - Epoch 19/30, Train Loss: 0.1033, Val Loss: 0.1047, Time: 403.79s\n",
      "Checkpoint saved at checkpoints\\fault_17_best_model.pth\n",
      "New best model for fault type 17 saved with loss: 0.1047\n"
     ]
    },
    {
     "name": "stderr",
     "output_type": "stream",
     "text": [
      "                                                                                                                      "
     ]
    },
    {
     "name": "stdout",
     "output_type": "stream",
     "text": [
      "Fault 17 - Epoch 20/30, Train Loss: 0.1024, Val Loss: 0.1084, Time: 396.55s\n",
      "Checkpoint saved at checkpoints\\fault_17_checkpoint_epoch_20.pth\n"
     ]
    },
    {
     "name": "stderr",
     "output_type": "stream",
     "text": [
      "                                                                                                                      "
     ]
    },
    {
     "name": "stdout",
     "output_type": "stream",
     "text": [
      "Fault 17 - Epoch 21/30, Train Loss: 0.1018, Val Loss: 0.1053, Time: 393.29s\n"
     ]
    },
    {
     "name": "stderr",
     "output_type": "stream",
     "text": [
      "                                                                                                                      "
     ]
    },
    {
     "name": "stdout",
     "output_type": "stream",
     "text": [
      "Fault 17 - Epoch 22/30, Train Loss: 0.1001, Val Loss: 0.1078, Time: 399.12s\n"
     ]
    },
    {
     "name": "stderr",
     "output_type": "stream",
     "text": [
      "                                                                                                                      "
     ]
    },
    {
     "name": "stdout",
     "output_type": "stream",
     "text": [
      "Fault 17 - Epoch 23/30, Train Loss: 0.1000, Val Loss: 0.1059, Time: 397.60s\n"
     ]
    },
    {
     "name": "stderr",
     "output_type": "stream",
     "text": [
      "                                                                                                                      "
     ]
    },
    {
     "name": "stdout",
     "output_type": "stream",
     "text": [
      "Fault 17 - Epoch 24/30, Train Loss: 0.0995, Val Loss: 0.1054, Time: 392.97s\n"
     ]
    },
    {
     "name": "stderr",
     "output_type": "stream",
     "text": [
      "                                                                                                                      "
     ]
    },
    {
     "name": "stdout",
     "output_type": "stream",
     "text": [
      "Fault 17 - Epoch 25/30, Train Loss: 0.0986, Val Loss: 0.1023, Time: 396.03s\n",
      "Checkpoint saved at checkpoints\\fault_17_checkpoint_epoch_25.pth\n",
      "Checkpoint saved at checkpoints\\fault_17_best_model.pth\n",
      "New best model for fault type 17 saved with loss: 0.1023\n"
     ]
    },
    {
     "name": "stderr",
     "output_type": "stream",
     "text": [
      "                                                                                                                      "
     ]
    },
    {
     "name": "stdout",
     "output_type": "stream",
     "text": [
      "Fault 17 - Epoch 26/30, Train Loss: 0.0979, Val Loss: 0.1001, Time: 393.03s\n",
      "Checkpoint saved at checkpoints\\fault_17_best_model.pth\n",
      "New best model for fault type 17 saved with loss: 0.1001\n"
     ]
    },
    {
     "name": "stderr",
     "output_type": "stream",
     "text": [
      "                                                                                                                      "
     ]
    },
    {
     "name": "stdout",
     "output_type": "stream",
     "text": [
      "Fault 17 - Epoch 27/30, Train Loss: 0.0965, Val Loss: 0.0999, Time: 458.88s\n",
      "Checkpoint saved at checkpoints\\fault_17_best_model.pth\n",
      "New best model for fault type 17 saved with loss: 0.0999\n"
     ]
    },
    {
     "name": "stderr",
     "output_type": "stream",
     "text": [
      "                                                                                                                      "
     ]
    },
    {
     "name": "stdout",
     "output_type": "stream",
     "text": [
      "Fault 17 - Epoch 28/30, Train Loss: 0.0957, Val Loss: 0.1022, Time: 498.87s\n"
     ]
    },
    {
     "name": "stderr",
     "output_type": "stream",
     "text": [
      "                                                                                                                      "
     ]
    },
    {
     "name": "stdout",
     "output_type": "stream",
     "text": [
      "Fault 17 - Epoch 29/30, Train Loss: 0.0952, Val Loss: 0.0997, Time: 503.07s\n",
      "Checkpoint saved at checkpoints\\fault_17_best_model.pth\n",
      "New best model for fault type 17 saved with loss: 0.0997\n"
     ]
    },
    {
     "name": "stderr",
     "output_type": "stream",
     "text": [
      "                                                                                                                      "
     ]
    },
    {
     "name": "stdout",
     "output_type": "stream",
     "text": [
      "Fault 17 - Epoch 30/30, Train Loss: 0.0948, Val Loss: 0.1003, Time: 498.14s\n",
      "Checkpoint saved at checkpoints\\fault_17_checkpoint_epoch_30.pth\n",
      "Checkpoint saved at checkpoints\\fault_17_final_model.pth\n",
      "Training for fault type 17 complete!\n",
      "Creating sliding windows with lookback=15...\n"
     ]
    },
    {
     "name": "stderr",
     "output_type": "stream",
     "text": [
      "Creating windows: 100%|██████████████████████████████████████████████████| 479985/479985 [00:00<00:00, 1852737.42it/s]\n"
     ]
    },
    {
     "name": "stdout",
     "output_type": "stream",
     "text": [
      "Evaluating model for fault type 17...\n"
     ]
    },
    {
     "name": "stderr",
     "output_type": "stream",
     "text": [
      "                                                                                                                      "
     ]
    },
    {
     "name": "stdout",
     "output_type": "stream",
     "text": [
      "Fault Type 17 - Precision: 1.0000, Recall: 0.8588, F1: 0.9240, Accuracy: 0.8588\n",
      "\n",
      "Processing fault type 18...\n",
      "\n",
      "================================================================================\n",
      "Processing Fault Type 18\n",
      "================================================================================\n",
      "Creating sliding windows with lookback=15...\n"
     ]
    },
    {
     "name": "stderr",
     "output_type": "stream",
     "text": [
      "Creating windows: 100%|██████████████████████████████████████████████████| 499985/499985 [00:00<00:00, 1086499.22it/s]\n"
     ]
    },
    {
     "name": "stdout",
     "output_type": "stream",
     "text": [
      "Initializing model for fault type 18...\n",
      "No checkpoint found for fault type 18 at checkpoints\\fault_18_checkpoint.pth, starting from scratch\n",
      "Starting training for fault type 18...\n"
     ]
    },
    {
     "name": "stderr",
     "output_type": "stream",
     "text": [
      "                                                                                                                      "
     ]
    },
    {
     "name": "stdout",
     "output_type": "stream",
     "text": [
      "Fault 18 - Epoch 1/30, Train Loss: 0.2070, Val Loss: 0.2024, Time: 541.95s\n",
      "Checkpoint saved at checkpoints\\fault_18_best_model.pth\n",
      "New best model for fault type 18 saved with loss: 0.2024\n"
     ]
    },
    {
     "name": "stderr",
     "output_type": "stream",
     "text": [
      "                                                                                                                      "
     ]
    },
    {
     "name": "stdout",
     "output_type": "stream",
     "text": [
      "Fault 18 - Epoch 2/30, Train Loss: 0.1998, Val Loss: 0.1961, Time: 505.34s\n",
      "Checkpoint saved at checkpoints\\fault_18_best_model.pth\n",
      "New best model for fault type 18 saved with loss: 0.1961\n"
     ]
    },
    {
     "name": "stderr",
     "output_type": "stream",
     "text": [
      "                                                                                                                      "
     ]
    },
    {
     "name": "stdout",
     "output_type": "stream",
     "text": [
      "Fault 18 - Epoch 3/30, Train Loss: 0.1976, Val Loss: 0.1979, Time: 503.06s\n"
     ]
    },
    {
     "name": "stderr",
     "output_type": "stream",
     "text": [
      "                                                                                                                      "
     ]
    },
    {
     "name": "stdout",
     "output_type": "stream",
     "text": [
      "Fault 18 - Epoch 4/30, Train Loss: 0.1971, Val Loss: 0.2015, Time: 507.39s\n"
     ]
    },
    {
     "name": "stderr",
     "output_type": "stream",
     "text": [
      "                                                                                                                      "
     ]
    },
    {
     "name": "stdout",
     "output_type": "stream",
     "text": [
      "Fault 18 - Epoch 5/30, Train Loss: 0.1822, Val Loss: 0.1801, Time: 506.48s\n",
      "Checkpoint saved at checkpoints\\fault_18_checkpoint_epoch_5.pth\n",
      "Checkpoint saved at checkpoints\\fault_18_best_model.pth\n",
      "New best model for fault type 18 saved with loss: 0.1801\n"
     ]
    },
    {
     "name": "stderr",
     "output_type": "stream",
     "text": [
      "                                                                                                                      "
     ]
    },
    {
     "name": "stdout",
     "output_type": "stream",
     "text": [
      "Fault 18 - Epoch 6/30, Train Loss: 0.1738, Val Loss: 0.1810, Time: 496.82s\n"
     ]
    },
    {
     "name": "stderr",
     "output_type": "stream",
     "text": [
      "                                                                                                                      "
     ]
    },
    {
     "name": "stdout",
     "output_type": "stream",
     "text": [
      "Fault 18 - Epoch 7/30, Train Loss: 0.1700, Val Loss: 0.1685, Time: 500.45s\n",
      "Checkpoint saved at checkpoints\\fault_18_best_model.pth\n",
      "New best model for fault type 18 saved with loss: 0.1685\n"
     ]
    },
    {
     "name": "stderr",
     "output_type": "stream",
     "text": [
      "                                                                                                                      "
     ]
    },
    {
     "name": "stdout",
     "output_type": "stream",
     "text": [
      "Fault 18 - Epoch 8/30, Train Loss: 0.1688, Val Loss: 0.1710, Time: 497.41s\n"
     ]
    },
    {
     "name": "stderr",
     "output_type": "stream",
     "text": [
      "                                                                                                                      "
     ]
    },
    {
     "name": "stdout",
     "output_type": "stream",
     "text": [
      "Fault 18 - Epoch 9/30, Train Loss: 0.1697, Val Loss: 0.1711, Time: 503.09s\n"
     ]
    },
    {
     "name": "stderr",
     "output_type": "stream",
     "text": [
      "                                                                                                                      "
     ]
    },
    {
     "name": "stdout",
     "output_type": "stream",
     "text": [
      "Fault 18 - Epoch 10/30, Train Loss: 0.1685, Val Loss: 0.1709, Time: 502.09s\n",
      "Checkpoint saved at checkpoints\\fault_18_checkpoint_epoch_10.pth\n"
     ]
    },
    {
     "name": "stderr",
     "output_type": "stream",
     "text": [
      "                                                                                                                      "
     ]
    },
    {
     "name": "stdout",
     "output_type": "stream",
     "text": [
      "Fault 18 - Epoch 11/30, Train Loss: 0.1678, Val Loss: 0.1730, Time: 505.17s\n"
     ]
    },
    {
     "name": "stderr",
     "output_type": "stream",
     "text": [
      "                                                                                                                      "
     ]
    },
    {
     "name": "stdout",
     "output_type": "stream",
     "text": [
      "Fault 18 - Epoch 12/30, Train Loss: 0.1677, Val Loss: 0.1704, Time: 440.02s\n"
     ]
    },
    {
     "name": "stderr",
     "output_type": "stream",
     "text": [
      "                                                                                                                      "
     ]
    },
    {
     "name": "stdout",
     "output_type": "stream",
     "text": [
      "Fault 18 - Epoch 13/30, Train Loss: 0.1678, Val Loss: 0.1749, Time: 380.71s\n"
     ]
    },
    {
     "name": "stderr",
     "output_type": "stream",
     "text": [
      "                                                                                                                      "
     ]
    },
    {
     "name": "stdout",
     "output_type": "stream",
     "text": [
      "Fault 18 - Epoch 14/30, Train Loss: 0.1694, Val Loss: 0.1689, Time: 374.34s\n"
     ]
    },
    {
     "name": "stderr",
     "output_type": "stream",
     "text": [
      "                                                                                                                      "
     ]
    },
    {
     "name": "stdout",
     "output_type": "stream",
     "text": [
      "Fault 18 - Epoch 15/30, Train Loss: 0.1674, Val Loss: 0.1694, Time: 392.66s\n",
      "Checkpoint saved at checkpoints\\fault_18_checkpoint_epoch_15.pth\n"
     ]
    },
    {
     "name": "stderr",
     "output_type": "stream",
     "text": [
      "                                                                                                                      "
     ]
    },
    {
     "name": "stdout",
     "output_type": "stream",
     "text": [
      "Fault 18 - Epoch 16/30, Train Loss: 0.1663, Val Loss: 0.1683, Time: 353.83s\n",
      "Checkpoint saved at checkpoints\\fault_18_best_model.pth\n",
      "New best model for fault type 18 saved with loss: 0.1683\n"
     ]
    },
    {
     "name": "stderr",
     "output_type": "stream",
     "text": [
      "                                                                                                                      "
     ]
    },
    {
     "name": "stdout",
     "output_type": "stream",
     "text": [
      "Fault 18 - Epoch 17/30, Train Loss: 0.1685, Val Loss: 0.1718, Time: 359.47s\n"
     ]
    },
    {
     "name": "stderr",
     "output_type": "stream",
     "text": [
      "                                                                                                                      "
     ]
    },
    {
     "name": "stdout",
     "output_type": "stream",
     "text": [
      "Fault 18 - Epoch 18/30, Train Loss: 0.1666, Val Loss: 0.1675, Time: 375.01s\n",
      "Checkpoint saved at checkpoints\\fault_18_best_model.pth\n",
      "New best model for fault type 18 saved with loss: 0.1675\n"
     ]
    },
    {
     "name": "stderr",
     "output_type": "stream",
     "text": [
      "                                                                                                                      "
     ]
    },
    {
     "name": "stdout",
     "output_type": "stream",
     "text": [
      "Fault 18 - Epoch 19/30, Train Loss: 0.1634, Val Loss: 0.1638, Time: 375.55s\n",
      "Checkpoint saved at checkpoints\\fault_18_best_model.pth\n",
      "New best model for fault type 18 saved with loss: 0.1638\n"
     ]
    },
    {
     "name": "stderr",
     "output_type": "stream",
     "text": [
      "                                                                                                                      "
     ]
    },
    {
     "name": "stdout",
     "output_type": "stream",
     "text": [
      "Fault 18 - Epoch 20/30, Train Loss: 0.1628, Val Loss: 0.1652, Time: 370.76s\n",
      "Checkpoint saved at checkpoints\\fault_18_checkpoint_epoch_20.pth\n"
     ]
    },
    {
     "name": "stderr",
     "output_type": "stream",
     "text": [
      "                                                                                                                      "
     ]
    },
    {
     "name": "stdout",
     "output_type": "stream",
     "text": [
      "Fault 18 - Epoch 21/30, Train Loss: 0.1667, Val Loss: 0.1689, Time: 375.26s\n"
     ]
    },
    {
     "name": "stderr",
     "output_type": "stream",
     "text": [
      "                                                                                                                      "
     ]
    },
    {
     "name": "stdout",
     "output_type": "stream",
     "text": [
      "Fault 18 - Epoch 22/30, Train Loss: 0.1684, Val Loss: 0.1689, Time: 390.10s\n"
     ]
    },
    {
     "name": "stderr",
     "output_type": "stream",
     "text": [
      "                                                                                                                      "
     ]
    },
    {
     "name": "stdout",
     "output_type": "stream",
     "text": [
      "Fault 18 - Epoch 23/30, Train Loss: 0.1671, Val Loss: 0.1683, Time: 360.44s\n"
     ]
    },
    {
     "name": "stderr",
     "output_type": "stream",
     "text": [
      "                                                                                                                      "
     ]
    },
    {
     "name": "stdout",
     "output_type": "stream",
     "text": [
      "Fault 18 - Epoch 24/30, Train Loss: 0.1658, Val Loss: 0.1671, Time: 357.42s\n"
     ]
    },
    {
     "name": "stderr",
     "output_type": "stream",
     "text": [
      "                                                                                                                      "
     ]
    },
    {
     "name": "stdout",
     "output_type": "stream",
     "text": [
      "Fault 18 - Epoch 25/30, Train Loss: 0.1660, Val Loss: 0.1666, Time: 360.00s\n",
      "Checkpoint saved at checkpoints\\fault_18_checkpoint_epoch_25.pth\n"
     ]
    },
    {
     "name": "stderr",
     "output_type": "stream",
     "text": [
      "                                                                                                                      "
     ]
    },
    {
     "name": "stdout",
     "output_type": "stream",
     "text": [
      "Fault 18 - Epoch 26/30, Train Loss: 0.1649, Val Loss: 0.1678, Time: 356.98s\n"
     ]
    },
    {
     "name": "stderr",
     "output_type": "stream",
     "text": [
      "                                                                                                                      "
     ]
    },
    {
     "name": "stdout",
     "output_type": "stream",
     "text": [
      "Fault 18 - Epoch 27/30, Train Loss: 0.1642, Val Loss: 0.1663, Time: 386.99s\n"
     ]
    },
    {
     "name": "stderr",
     "output_type": "stream",
     "text": [
      "                                                                                                                      "
     ]
    },
    {
     "name": "stdout",
     "output_type": "stream",
     "text": [
      "Fault 18 - Epoch 28/30, Train Loss: 0.1621, Val Loss: 0.1642, Time: 355.89s\n"
     ]
    },
    {
     "name": "stderr",
     "output_type": "stream",
     "text": [
      "                                                                                                                      "
     ]
    },
    {
     "name": "stdout",
     "output_type": "stream",
     "text": [
      "Fault 18 - Epoch 29/30, Train Loss: 0.1632, Val Loss: 0.1644, Time: 360.15s\n"
     ]
    },
    {
     "name": "stderr",
     "output_type": "stream",
     "text": [
      "                                                                                                                      "
     ]
    },
    {
     "name": "stdout",
     "output_type": "stream",
     "text": [
      "Fault 18 - Epoch 30/30, Train Loss: 0.1628, Val Loss: 0.1677, Time: 364.26s\n",
      "Checkpoint saved at checkpoints\\fault_18_checkpoint_epoch_30.pth\n",
      "Checkpoint saved at checkpoints\\fault_18_final_model.pth\n",
      "Training for fault type 18 complete!\n",
      "Creating sliding windows with lookback=15...\n"
     ]
    },
    {
     "name": "stderr",
     "output_type": "stream",
     "text": [
      "Creating windows: 100%|██████████████████████████████████████████████████| 479985/479985 [00:00<00:00, 1871458.72it/s]\n"
     ]
    },
    {
     "name": "stdout",
     "output_type": "stream",
     "text": [
      "Evaluating model for fault type 18...\n"
     ]
    },
    {
     "name": "stderr",
     "output_type": "stream",
     "text": [
      "                                                                                                                      "
     ]
    },
    {
     "name": "stdout",
     "output_type": "stream",
     "text": [
      "Fault Type 18 - Precision: 1.0000, Recall: 0.8520, F1: 0.9201, Accuracy: 0.8520\n",
      "\n",
      "Processing fault type 19...\n",
      "\n",
      "================================================================================\n",
      "Processing Fault Type 19\n",
      "================================================================================\n",
      "Creating sliding windows with lookback=15...\n"
     ]
    },
    {
     "name": "stderr",
     "output_type": "stream",
     "text": [
      "Creating windows: 100%|██████████████████████████████████████████████████| 499985/499985 [00:00<00:00, 1934537.63it/s]\n"
     ]
    },
    {
     "name": "stdout",
     "output_type": "stream",
     "text": [
      "Initializing model for fault type 19...\n",
      "No checkpoint found for fault type 19 at checkpoints\\fault_19_checkpoint.pth, starting from scratch\n",
      "Starting training for fault type 19...\n"
     ]
    },
    {
     "name": "stderr",
     "output_type": "stream",
     "text": [
      "                                                                                                                      "
     ]
    },
    {
     "name": "stdout",
     "output_type": "stream",
     "text": [
      "Fault 19 - Epoch 1/30, Train Loss: 0.0419, Val Loss: 0.0246, Time: 375.64s\n",
      "Checkpoint saved at checkpoints\\fault_19_best_model.pth\n",
      "New best model for fault type 19 saved with loss: 0.0246\n"
     ]
    },
    {
     "name": "stderr",
     "output_type": "stream",
     "text": [
      "                                                                                                                      "
     ]
    },
    {
     "name": "stdout",
     "output_type": "stream",
     "text": [
      "Fault 19 - Epoch 2/30, Train Loss: 0.0222, Val Loss: 0.0214, Time: 357.88s\n",
      "Checkpoint saved at checkpoints\\fault_19_best_model.pth\n",
      "New best model for fault type 19 saved with loss: 0.0214\n"
     ]
    },
    {
     "name": "stderr",
     "output_type": "stream",
     "text": [
      "                                                                                                                      "
     ]
    },
    {
     "name": "stdout",
     "output_type": "stream",
     "text": [
      "Fault 19 - Epoch 3/30, Train Loss: 0.0209, Val Loss: 0.0190, Time: 358.28s\n",
      "Checkpoint saved at checkpoints\\fault_19_best_model.pth\n",
      "New best model for fault type 19 saved with loss: 0.0190\n"
     ]
    },
    {
     "name": "stderr",
     "output_type": "stream",
     "text": [
      "                                                                                                                      "
     ]
    },
    {
     "name": "stdout",
     "output_type": "stream",
     "text": [
      "Fault 19 - Epoch 4/30, Train Loss: 0.0195, Val Loss: 0.0308, Time: 354.47s\n"
     ]
    },
    {
     "name": "stderr",
     "output_type": "stream",
     "text": [
      "                                                                                                                      "
     ]
    },
    {
     "name": "stdout",
     "output_type": "stream",
     "text": [
      "Fault 19 - Epoch 5/30, Train Loss: 0.0192, Val Loss: 0.0226, Time: 357.11s\n",
      "Checkpoint saved at checkpoints\\fault_19_checkpoint_epoch_5.pth\n"
     ]
    },
    {
     "name": "stderr",
     "output_type": "stream",
     "text": [
      "                                                                                                                      "
     ]
    },
    {
     "name": "stdout",
     "output_type": "stream",
     "text": [
      "Fault 19 - Epoch 6/30, Train Loss: 0.0191, Val Loss: 0.0206, Time: 353.25s\n"
     ]
    },
    {
     "name": "stderr",
     "output_type": "stream",
     "text": [
      "                                                                                                                      "
     ]
    },
    {
     "name": "stdout",
     "output_type": "stream",
     "text": [
      "Fault 19 - Epoch 7/30, Train Loss: 0.0185, Val Loss: 0.0176, Time: 360.38s\n",
      "Checkpoint saved at checkpoints\\fault_19_best_model.pth\n",
      "New best model for fault type 19 saved with loss: 0.0176\n"
     ]
    },
    {
     "name": "stderr",
     "output_type": "stream",
     "text": [
      "                                                                                                                      "
     ]
    },
    {
     "name": "stdout",
     "output_type": "stream",
     "text": [
      "Fault 19 - Epoch 8/30, Train Loss: 0.0183, Val Loss: 0.0172, Time: 359.30s\n",
      "Checkpoint saved at checkpoints\\fault_19_best_model.pth\n",
      "New best model for fault type 19 saved with loss: 0.0172\n"
     ]
    },
    {
     "name": "stderr",
     "output_type": "stream",
     "text": [
      "                                                                                                                      "
     ]
    },
    {
     "name": "stdout",
     "output_type": "stream",
     "text": [
      "Fault 19 - Epoch 9/30, Train Loss: 0.0181, Val Loss: 0.0194, Time: 365.26s\n"
     ]
    },
    {
     "name": "stderr",
     "output_type": "stream",
     "text": [
      "                                                                                                                      "
     ]
    },
    {
     "name": "stdout",
     "output_type": "stream",
     "text": [
      "Fault 19 - Epoch 10/30, Train Loss: 0.0183, Val Loss: 0.0196, Time: 355.58s\n",
      "Checkpoint saved at checkpoints\\fault_19_checkpoint_epoch_10.pth\n"
     ]
    },
    {
     "name": "stderr",
     "output_type": "stream",
     "text": [
      "                                                                                                                      "
     ]
    },
    {
     "name": "stdout",
     "output_type": "stream",
     "text": [
      "Fault 19 - Epoch 11/30, Train Loss: 0.0185, Val Loss: 0.0191, Time: 357.85s\n"
     ]
    },
    {
     "name": "stderr",
     "output_type": "stream",
     "text": [
      "                                                                                                                      "
     ]
    },
    {
     "name": "stdout",
     "output_type": "stream",
     "text": [
      "Fault 19 - Epoch 12/30, Train Loss: 0.0186, Val Loss: 0.0176, Time: 360.48s\n"
     ]
    },
    {
     "name": "stderr",
     "output_type": "stream",
     "text": [
      "                                                                                                                      "
     ]
    },
    {
     "name": "stdout",
     "output_type": "stream",
     "text": [
      "Fault 19 - Epoch 13/30, Train Loss: 0.0185, Val Loss: 0.0197, Time: 360.22s\n"
     ]
    },
    {
     "name": "stderr",
     "output_type": "stream",
     "text": [
      "                                                                                                                      "
     ]
    },
    {
     "name": "stdout",
     "output_type": "stream",
     "text": [
      "Fault 19 - Epoch 14/30, Train Loss: 0.0182, Val Loss: 0.0183, Time: 359.66s\n"
     ]
    },
    {
     "name": "stderr",
     "output_type": "stream",
     "text": [
      "                                                                                                                      "
     ]
    },
    {
     "name": "stdout",
     "output_type": "stream",
     "text": [
      "Fault 19 - Epoch 15/30, Train Loss: 0.0180, Val Loss: 0.0190, Time: 358.48s\n",
      "Checkpoint saved at checkpoints\\fault_19_checkpoint_epoch_15.pth\n"
     ]
    },
    {
     "name": "stderr",
     "output_type": "stream",
     "text": [
      "                                                                                                                      "
     ]
    },
    {
     "name": "stdout",
     "output_type": "stream",
     "text": [
      "Fault 19 - Epoch 16/30, Train Loss: 0.0178, Val Loss: 0.0197, Time: 358.31s\n"
     ]
    },
    {
     "name": "stderr",
     "output_type": "stream",
     "text": [
      "                                                                                                                      "
     ]
    },
    {
     "name": "stdout",
     "output_type": "stream",
     "text": [
      "Fault 19 - Epoch 17/30, Train Loss: 0.0173, Val Loss: 0.0174, Time: 359.82s\n"
     ]
    },
    {
     "name": "stderr",
     "output_type": "stream",
     "text": [
      "                                                                                                                      "
     ]
    },
    {
     "name": "stdout",
     "output_type": "stream",
     "text": [
      "Fault 19 - Epoch 18/30, Train Loss: 0.0174, Val Loss: 0.0181, Time: 363.75s\n"
     ]
    },
    {
     "name": "stderr",
     "output_type": "stream",
     "text": [
      "                                                                                                                      "
     ]
    },
    {
     "name": "stdout",
     "output_type": "stream",
     "text": [
      "Fault 19 - Epoch 19/30, Train Loss: 0.0169, Val Loss: 0.0167, Time: 360.09s\n",
      "Checkpoint saved at checkpoints\\fault_19_best_model.pth\n",
      "New best model for fault type 19 saved with loss: 0.0167\n"
     ]
    },
    {
     "name": "stderr",
     "output_type": "stream",
     "text": [
      "                                                                                                                      "
     ]
    },
    {
     "name": "stdout",
     "output_type": "stream",
     "text": [
      "Fault 19 - Epoch 20/30, Train Loss: 0.0171, Val Loss: 0.0185, Time: 360.77s\n",
      "Checkpoint saved at checkpoints\\fault_19_checkpoint_epoch_20.pth\n"
     ]
    },
    {
     "name": "stderr",
     "output_type": "stream",
     "text": [
      "                                                                                                                      "
     ]
    },
    {
     "name": "stdout",
     "output_type": "stream",
     "text": [
      "Fault 19 - Epoch 21/30, Train Loss: 0.0173, Val Loss: 0.0183, Time: 360.73s\n"
     ]
    },
    {
     "name": "stderr",
     "output_type": "stream",
     "text": [
      "                                                                                                                      "
     ]
    },
    {
     "name": "stdout",
     "output_type": "stream",
     "text": [
      "Fault 19 - Epoch 22/30, Train Loss: 0.0170, Val Loss: 0.0182, Time: 362.06s\n"
     ]
    },
    {
     "name": "stderr",
     "output_type": "stream",
     "text": [
      "                                                                                                                      "
     ]
    },
    {
     "name": "stdout",
     "output_type": "stream",
     "text": [
      "Fault 19 - Epoch 23/30, Train Loss: 0.0172, Val Loss: 0.0184, Time: 359.63s\n"
     ]
    },
    {
     "name": "stderr",
     "output_type": "stream",
     "text": [
      "                                                                                                                      "
     ]
    },
    {
     "name": "stdout",
     "output_type": "stream",
     "text": [
      "Fault 19 - Epoch 24/30, Train Loss: 0.0169, Val Loss: 0.0180, Time: 356.52s\n"
     ]
    },
    {
     "name": "stderr",
     "output_type": "stream",
     "text": [
      "                                                                                                                      "
     ]
    },
    {
     "name": "stdout",
     "output_type": "stream",
     "text": [
      "Fault 19 - Epoch 25/30, Train Loss: 0.0172, Val Loss: 0.0183, Time: 361.36s\n",
      "Checkpoint saved at checkpoints\\fault_19_checkpoint_epoch_25.pth\n"
     ]
    },
    {
     "name": "stderr",
     "output_type": "stream",
     "text": [
      "                                                                                                                      "
     ]
    },
    {
     "name": "stdout",
     "output_type": "stream",
     "text": [
      "Fault 19 - Epoch 26/30, Train Loss: 0.0171, Val Loss: 0.0173, Time: 359.71s\n"
     ]
    },
    {
     "name": "stderr",
     "output_type": "stream",
     "text": [
      "                                                                                                                      "
     ]
    },
    {
     "name": "stdout",
     "output_type": "stream",
     "text": [
      "Fault 19 - Epoch 27/30, Train Loss: 0.0168, Val Loss: 0.0188, Time: 360.47s\n"
     ]
    },
    {
     "name": "stderr",
     "output_type": "stream",
     "text": [
      "                                                                                                                      "
     ]
    },
    {
     "name": "stdout",
     "output_type": "stream",
     "text": [
      "Fault 19 - Epoch 28/30, Train Loss: 0.0168, Val Loss: 0.0171, Time: 357.60s\n"
     ]
    },
    {
     "name": "stderr",
     "output_type": "stream",
     "text": [
      "                                                                                                                      "
     ]
    },
    {
     "name": "stdout",
     "output_type": "stream",
     "text": [
      "Fault 19 - Epoch 29/30, Train Loss: 0.0168, Val Loss: 0.0196, Time: 358.27s\n"
     ]
    },
    {
     "name": "stderr",
     "output_type": "stream",
     "text": [
      "                                                                                                                      "
     ]
    },
    {
     "name": "stdout",
     "output_type": "stream",
     "text": [
      "Fault 19 - Epoch 30/30, Train Loss: 0.0164, Val Loss: 0.0166, Time: 360.51s\n",
      "Checkpoint saved at checkpoints\\fault_19_checkpoint_epoch_30.pth\n",
      "Checkpoint saved at checkpoints\\fault_19_best_model.pth\n",
      "New best model for fault type 19 saved with loss: 0.0166\n",
      "Checkpoint saved at checkpoints\\fault_19_final_model.pth\n",
      "Training for fault type 19 complete!\n",
      "Creating sliding windows with lookback=15...\n"
     ]
    },
    {
     "name": "stderr",
     "output_type": "stream",
     "text": [
      "Creating windows: 100%|██████████████████████████████████████████████████| 479985/479985 [00:00<00:00, 1572640.38it/s]\n"
     ]
    },
    {
     "name": "stdout",
     "output_type": "stream",
     "text": [
      "Evaluating model for fault type 19...\n"
     ]
    },
    {
     "name": "stderr",
     "output_type": "stream",
     "text": [
      "                                                                                                                      "
     ]
    },
    {
     "name": "stdout",
     "output_type": "stream",
     "text": [
      "Fault Type 19 - Precision: 1.0000, Recall: 0.8782, F1: 0.9351, Accuracy: 0.8782\n",
      "\n",
      "Processing fault type 20...\n",
      "\n",
      "================================================================================\n",
      "Processing Fault Type 20\n",
      "================================================================================\n",
      "Creating sliding windows with lookback=15...\n"
     ]
    },
    {
     "name": "stderr",
     "output_type": "stream",
     "text": [
      "Creating windows: 100%|██████████████████████████████████████████████████| 499985/499985 [00:00<00:00, 1537662.77it/s]\n"
     ]
    },
    {
     "name": "stdout",
     "output_type": "stream",
     "text": [
      "Initializing model for fault type 20...\n",
      "No checkpoint found for fault type 20 at checkpoints\\fault_20_checkpoint.pth, starting from scratch\n",
      "Starting training for fault type 20...\n"
     ]
    },
    {
     "name": "stderr",
     "output_type": "stream",
     "text": [
      "                                                                                                                      "
     ]
    },
    {
     "name": "stdout",
     "output_type": "stream",
     "text": [
      "Fault 20 - Epoch 1/30, Train Loss: 0.1614, Val Loss: 0.1440, Time: 384.85s\n",
      "Checkpoint saved at checkpoints\\fault_20_best_model.pth\n",
      "New best model for fault type 20 saved with loss: 0.1440\n"
     ]
    },
    {
     "name": "stderr",
     "output_type": "stream",
     "text": [
      "                                                                                                                      "
     ]
    },
    {
     "name": "stdout",
     "output_type": "stream",
     "text": [
      "Fault 20 - Epoch 2/30, Train Loss: 0.1283, Val Loss: 0.1323, Time: 364.53s\n",
      "Checkpoint saved at checkpoints\\fault_20_best_model.pth\n",
      "New best model for fault type 20 saved with loss: 0.1323\n"
     ]
    },
    {
     "name": "stderr",
     "output_type": "stream",
     "text": [
      "                                                                                                                      "
     ]
    },
    {
     "name": "stdout",
     "output_type": "stream",
     "text": [
      "Fault 20 - Epoch 3/30, Train Loss: 0.1215, Val Loss: 0.1176, Time: 359.84s\n",
      "Checkpoint saved at checkpoints\\fault_20_best_model.pth\n",
      "New best model for fault type 20 saved with loss: 0.1176\n"
     ]
    },
    {
     "name": "stderr",
     "output_type": "stream",
     "text": [
      "                                                                                                                      "
     ]
    },
    {
     "name": "stdout",
     "output_type": "stream",
     "text": [
      "Fault 20 - Epoch 4/30, Train Loss: 0.1170, Val Loss: 0.1207, Time: 356.94s\n"
     ]
    },
    {
     "name": "stderr",
     "output_type": "stream",
     "text": [
      "                                                                                                                      "
     ]
    },
    {
     "name": "stdout",
     "output_type": "stream",
     "text": [
      "Fault 20 - Epoch 5/30, Train Loss: 0.1145, Val Loss: 0.1119, Time: 363.22s\n",
      "Checkpoint saved at checkpoints\\fault_20_checkpoint_epoch_5.pth\n",
      "Checkpoint saved at checkpoints\\fault_20_best_model.pth\n",
      "New best model for fault type 20 saved with loss: 0.1119\n"
     ]
    },
    {
     "name": "stderr",
     "output_type": "stream",
     "text": [
      "                                                                                                                      "
     ]
    },
    {
     "name": "stdout",
     "output_type": "stream",
     "text": [
      "Fault 20 - Epoch 6/30, Train Loss: 0.1122, Val Loss: 0.1134, Time: 362.71s\n"
     ]
    },
    {
     "name": "stderr",
     "output_type": "stream",
     "text": [
      "                                                                                                                      "
     ]
    },
    {
     "name": "stdout",
     "output_type": "stream",
     "text": [
      "Fault 20 - Epoch 7/30, Train Loss: 0.1103, Val Loss: 0.1133, Time: 364.35s\n"
     ]
    },
    {
     "name": "stderr",
     "output_type": "stream",
     "text": [
      "                                                                                                                      "
     ]
    },
    {
     "name": "stdout",
     "output_type": "stream",
     "text": [
      "Fault 20 - Epoch 8/30, Train Loss: 0.1089, Val Loss: 0.1090, Time: 361.66s\n",
      "Checkpoint saved at checkpoints\\fault_20_best_model.pth\n",
      "New best model for fault type 20 saved with loss: 0.1090\n"
     ]
    },
    {
     "name": "stderr",
     "output_type": "stream",
     "text": [
      "                                                                                                                      "
     ]
    },
    {
     "name": "stdout",
     "output_type": "stream",
     "text": [
      "Fault 20 - Epoch 9/30, Train Loss: 0.1069, Val Loss: 0.1070, Time: 366.76s\n",
      "Checkpoint saved at checkpoints\\fault_20_best_model.pth\n",
      "New best model for fault type 20 saved with loss: 0.1070\n"
     ]
    },
    {
     "name": "stderr",
     "output_type": "stream",
     "text": [
      "                                                                                                                      "
     ]
    },
    {
     "name": "stdout",
     "output_type": "stream",
     "text": [
      "Fault 20 - Epoch 10/30, Train Loss: 0.1052, Val Loss: 0.1108, Time: 362.76s\n",
      "Checkpoint saved at checkpoints\\fault_20_checkpoint_epoch_10.pth\n"
     ]
    },
    {
     "name": "stderr",
     "output_type": "stream",
     "text": [
      "                                                                                                                      "
     ]
    },
    {
     "name": "stdout",
     "output_type": "stream",
     "text": [
      "Fault 20 - Epoch 11/30, Train Loss: 0.1035, Val Loss: 0.1233, Time: 364.00s\n"
     ]
    },
    {
     "name": "stderr",
     "output_type": "stream",
     "text": [
      "                                                                                                                      "
     ]
    },
    {
     "name": "stdout",
     "output_type": "stream",
     "text": [
      "Fault 20 - Epoch 12/30, Train Loss: 0.1023, Val Loss: 0.1095, Time: 365.31s\n"
     ]
    },
    {
     "name": "stderr",
     "output_type": "stream",
     "text": [
      "                                                                                                                      "
     ]
    },
    {
     "name": "stdout",
     "output_type": "stream",
     "text": [
      "Fault 20 - Epoch 13/30, Train Loss: 0.1015, Val Loss: 0.1019, Time: 376.23s\n",
      "Checkpoint saved at checkpoints\\fault_20_best_model.pth\n",
      "New best model for fault type 20 saved with loss: 0.1019\n"
     ]
    },
    {
     "name": "stderr",
     "output_type": "stream",
     "text": [
      "                                                                                                                      "
     ]
    },
    {
     "name": "stdout",
     "output_type": "stream",
     "text": [
      "Fault 20 - Epoch 14/30, Train Loss: 0.0991, Val Loss: 0.1055, Time: 358.21s\n"
     ]
    },
    {
     "name": "stderr",
     "output_type": "stream",
     "text": [
      "                                                                                                                      "
     ]
    },
    {
     "name": "stdout",
     "output_type": "stream",
     "text": [
      "Fault 20 - Epoch 15/30, Train Loss: 0.0978, Val Loss: 0.1033, Time: 356.38s\n",
      "Checkpoint saved at checkpoints\\fault_20_checkpoint_epoch_15.pth\n"
     ]
    },
    {
     "name": "stderr",
     "output_type": "stream",
     "text": [
      "                                                                                                                      "
     ]
    },
    {
     "name": "stdout",
     "output_type": "stream",
     "text": [
      "Fault 20 - Epoch 16/30, Train Loss: 0.0971, Val Loss: 0.0992, Time: 364.22s\n",
      "Checkpoint saved at checkpoints\\fault_20_best_model.pth\n",
      "New best model for fault type 20 saved with loss: 0.0992\n"
     ]
    },
    {
     "name": "stderr",
     "output_type": "stream",
     "text": [
      "                                                                                                                      "
     ]
    },
    {
     "name": "stdout",
     "output_type": "stream",
     "text": [
      "Fault 20 - Epoch 17/30, Train Loss: 0.0954, Val Loss: 0.1070, Time: 366.80s\n"
     ]
    },
    {
     "name": "stderr",
     "output_type": "stream",
     "text": [
      "                                                                                                                      "
     ]
    },
    {
     "name": "stdout",
     "output_type": "stream",
     "text": [
      "Fault 20 - Epoch 18/30, Train Loss: 0.0941, Val Loss: 0.0956, Time: 387.34s\n",
      "Checkpoint saved at checkpoints\\fault_20_best_model.pth\n",
      "New best model for fault type 20 saved with loss: 0.0956\n"
     ]
    },
    {
     "name": "stderr",
     "output_type": "stream",
     "text": [
      "                                                                                                                      "
     ]
    },
    {
     "name": "stdout",
     "output_type": "stream",
     "text": [
      "Fault 20 - Epoch 19/30, Train Loss: 0.0938, Val Loss: 0.0992, Time: 365.72s\n"
     ]
    },
    {
     "name": "stderr",
     "output_type": "stream",
     "text": [
      "                                                                                                                      "
     ]
    },
    {
     "name": "stdout",
     "output_type": "stream",
     "text": [
      "Fault 20 - Epoch 20/30, Train Loss: 0.0925, Val Loss: 0.0947, Time: 359.88s\n",
      "Checkpoint saved at checkpoints\\fault_20_checkpoint_epoch_20.pth\n",
      "Checkpoint saved at checkpoints\\fault_20_best_model.pth\n",
      "New best model for fault type 20 saved with loss: 0.0947\n"
     ]
    },
    {
     "name": "stderr",
     "output_type": "stream",
     "text": [
      "                                                                                                                      "
     ]
    },
    {
     "name": "stdout",
     "output_type": "stream",
     "text": [
      "Fault 20 - Epoch 21/30, Train Loss: 0.0921, Val Loss: 0.0928, Time: 363.38s\n",
      "Checkpoint saved at checkpoints\\fault_20_best_model.pth\n",
      "New best model for fault type 20 saved with loss: 0.0928\n"
     ]
    },
    {
     "name": "stderr",
     "output_type": "stream",
     "text": [
      "                                                                                                                      "
     ]
    },
    {
     "name": "stdout",
     "output_type": "stream",
     "text": [
      "Fault 20 - Epoch 22/30, Train Loss: 0.0906, Val Loss: 0.0958, Time: 366.26s\n"
     ]
    },
    {
     "name": "stderr",
     "output_type": "stream",
     "text": [
      "                                                                                                                      "
     ]
    },
    {
     "name": "stdout",
     "output_type": "stream",
     "text": [
      "Fault 20 - Epoch 23/30, Train Loss: 0.0901, Val Loss: 0.0934, Time: 363.96s\n"
     ]
    },
    {
     "name": "stderr",
     "output_type": "stream",
     "text": [
      "                                                                                                                      "
     ]
    },
    {
     "name": "stdout",
     "output_type": "stream",
     "text": [
      "Fault 20 - Epoch 24/30, Train Loss: 0.0891, Val Loss: 0.0919, Time: 363.78s\n",
      "Checkpoint saved at checkpoints\\fault_20_best_model.pth\n",
      "New best model for fault type 20 saved with loss: 0.0919\n"
     ]
    },
    {
     "name": "stderr",
     "output_type": "stream",
     "text": [
      "                                                                                                                      "
     ]
    },
    {
     "name": "stdout",
     "output_type": "stream",
     "text": [
      "Fault 20 - Epoch 25/30, Train Loss: 0.0880, Val Loss: 0.0983, Time: 365.17s\n",
      "Checkpoint saved at checkpoints\\fault_20_checkpoint_epoch_25.pth\n"
     ]
    },
    {
     "name": "stderr",
     "output_type": "stream",
     "text": [
      "                                                                                                                      "
     ]
    },
    {
     "name": "stdout",
     "output_type": "stream",
     "text": [
      "Fault 20 - Epoch 26/30, Train Loss: 0.0874, Val Loss: 0.0929, Time: 358.68s\n"
     ]
    },
    {
     "name": "stderr",
     "output_type": "stream",
     "text": [
      "                                                                                                                      "
     ]
    },
    {
     "name": "stdout",
     "output_type": "stream",
     "text": [
      "Fault 20 - Epoch 27/30, Train Loss: 0.0871, Val Loss: 0.0953, Time: 352.75s\n"
     ]
    },
    {
     "name": "stderr",
     "output_type": "stream",
     "text": [
      "                                                                                                                      "
     ]
    },
    {
     "name": "stdout",
     "output_type": "stream",
     "text": [
      "Fault 20 - Epoch 28/30, Train Loss: 0.0861, Val Loss: 0.0846, Time: 354.38s\n",
      "Checkpoint saved at checkpoints\\fault_20_best_model.pth\n",
      "New best model for fault type 20 saved with loss: 0.0846\n"
     ]
    },
    {
     "name": "stderr",
     "output_type": "stream",
     "text": [
      "                                                                                                                      "
     ]
    },
    {
     "name": "stdout",
     "output_type": "stream",
     "text": [
      "Fault 20 - Epoch 29/30, Train Loss: 0.0847, Val Loss: 0.1037, Time: 351.17s\n"
     ]
    },
    {
     "name": "stderr",
     "output_type": "stream",
     "text": [
      "                                                                                                                      "
     ]
    },
    {
     "name": "stdout",
     "output_type": "stream",
     "text": [
      "Fault 20 - Epoch 30/30, Train Loss: 0.0846, Val Loss: 0.1167, Time: 357.83s\n",
      "Checkpoint saved at checkpoints\\fault_20_checkpoint_epoch_30.pth\n",
      "Checkpoint saved at checkpoints\\fault_20_final_model.pth\n",
      "Training for fault type 20 complete!\n",
      "Creating sliding windows with lookback=15...\n"
     ]
    },
    {
     "name": "stderr",
     "output_type": "stream",
     "text": [
      "Creating windows: 100%|██████████████████████████████████████████████████| 479985/479985 [00:00<00:00, 1887182.61it/s]\n"
     ]
    },
    {
     "name": "stdout",
     "output_type": "stream",
     "text": [
      "Evaluating model for fault type 20...\n"
     ]
    },
    {
     "name": "stderr",
     "output_type": "stream",
     "text": [
      "                                                                                                                      "
     ]
    },
    {
     "name": "stdout",
     "output_type": "stream",
     "text": [
      "Fault Type 20 - Precision: 1.0000, Recall: 0.8621, F1: 0.9259, Accuracy: 0.8621\n",
      "\n",
      "================================================================================\n",
      "Summary of Results for All Fault Types\n",
      "================================================================================\n",
      "Fault 12 - F1: 0.9337, Accuracy: 0.8756\n",
      "Fault 13 - F1: 0.9204, Accuracy: 0.8527\n",
      "Fault 14 - F1: 0.9341, Accuracy: 0.8763\n",
      "Fault 15 - F1: 0.0000, Accuracy: 0.0003\n",
      "Fault 16 - F1: 0.9325, Accuracy: 0.8736\n",
      "Fault 17 - F1: 0.9240, Accuracy: 0.8588\n",
      "Fault 18 - F1: 0.9201, Accuracy: 0.8520\n",
      "Fault 19 - F1: 0.9351, Accuracy: 0.8782\n",
      "Fault 20 - F1: 0.9259, Accuracy: 0.8621\n",
      "\n",
      "Overall Performance:\n",
      "Average F1 Score: 0.8251\n",
      "Average Accuracy: 0.7700\n"
     ]
    },
    {
     "data": {
      "image/png": "[encoded data removed]",
      "text/plain": [
       "<Figure size 1500x700 with 1 Axes>"
      ]
     },
     "metadata": {},
     "output_type": "display_data"
    }
   ],
   "source": [
    "# Get all fault types\n",
    "fault_types = sorted(df_train_faulty['faultNumber'].unique())\n",
    "print(f\"Found fault types: {fault_types}\")\n",
    "\n",
    "# Find the index of fault type 10\n",
    "start_index = fault_types.index(12)\n",
    "remaining_fault_types = fault_types[start_index:]\n",
    "print(f\"Will process the following fault types: {remaining_fault_types}\")\n",
    "\n",
    "# Store results for all fault types\n",
    "all_results = {}\n",
    "\n",
    "# Train and evaluate model for each remaining fault type\n",
    "for fault_type in remaining_fault_types:\n",
    "    print(f\"\\nProcessing fault type {fault_type}...\")\n",
    "    result = train_and_evaluate_fault_model(\n",
    "        fault_type, \n",
    "        df_train_faultfree, \n",
    "        df_train_faulty, \n",
    "        df_test_faulty,\n",
    "        lookback=15,\n",
    "        num_epochs=30,\n",
    "        batch_size=16\n",
    "    )\n",
    "    \n",
    "    if result:\n",
    "        all_results[fault_type] = result\n",
    "\n",
    "# Summarize results\n",
    "print(\"\\n\" + \"=\"*80)\n",
    "print(\"Summary of Results for All Fault Types\")\n",
    "print(\"=\"*80)\n",
    "\n",
    "f1_scores = []\n",
    "accuracies = []\n",
    "\n",
    "for fault_type, result in all_results.items():\n",
    "    if 'f1' in result:\n",
    "        print(f\"Fault {fault_type} - F1: {result['f1']:.4f}, Accuracy: {result['accuracy']:.4f}\")\n",
    "        f1_scores.append(result['f1'])\n",
    "        accuracies.append(result['accuracy'])\n",
    "\n",
    "if f1_scores:\n",
    "    print(\"\\nOverall Performance:\")\n",
    "    print(f\"Average F1 Score: {np.mean(f1_scores):.4f}\")\n",
    "    print(f\"Average Accuracy: {np.mean(accuracies):.4f}\")\n",
    "    \n",
    "    # Visualize F1 scores for different fault types\n",
    "    plt.figure(figsize=(15, 7))\n",
    "    fault_types = list(all_results.keys())\n",
    "    f1_values = [result.get('f1', 0) if 'f1' in result else 0 for result in all_results.values()]\n",
    "    \n",
    "    plt.bar(fault_types, f1_values)\n",
    "    plt.title('F1 Score by Fault Type')\n",
    "    plt.xlabel('Fault Type')\n",
    "    plt.ylabel('F1 Score')\n",
    "    plt.xticks(fault_types)\n",
    "    plt.ylim(0, 1.0)\n",
    "    plt.grid(True, axis='y', linestyle='--', alpha=0.7)\n",
    "    plt.savefig('fault_comparison_f1.png')\n",
    "    \n",
    "    # Visualize precision and recall for different fault types\n",
    "    plt.figure(figsize=(15, 7))\n",
    "    precision_values = [result.get('precision', 0) if 'precision' in result else 0 for result in all_results.values()]\n",
    "    recall_values = [result.get('recall', 0) if 'recall' in result else 0 for result in all_results.values()]\n",
    "    \n",
    "    x = np.arange(len(fault_types))\n",
    "    width = 0.35\n",
    "    \n",
    "    plt.bar(x - width/2, precision_values, width, label='Precision')\n",
    "    plt.bar(x + width/2, recall_values, width, label='Recall')\n",
    "    \n",
    "    plt.title('Precision and Recall by Fault Type')\n",
    "    plt.xlabel('Fault Type')\n",
    "    plt.ylabel('Score')\n",
    "    plt.xticks(x, fault_types)\n",
    "    plt.ylim(0, 1.0)\n",
    "    plt.legend()\n",
    "    plt.grid(True, axis='y', linestyle='--', alpha=0.7)\n",
    "    plt.savefig('fault_comparison_precision_recall.png')\n",
    "    \n",
    "    plt.close()"
   ]
  },
  {
   "cell_type": "markdown",
   "id": "18487479-6fff-4649-859b-1bb4b809a47a",
   "metadata": {},
   "source": [
    "**Recording and plotting the data for faults that were not properly saved due to unexpected interruptions.**"
   ]
  },
  {
   "cell_type": "code",
   "execution_count": 17,
   "id": "ce94e9fc-0311-4f2b-ac8d-aa6d31ef4456",
   "metadata": {
    "scrolled": true
   },
   "outputs": [
    {
     "name": "stdout",
     "output_type": "stream",
     "text": [
      "Fault 1 - F1: 0.9344, Accuracy: 0.8769\n",
      "Fault 2 - F1: 0.9291, Accuracy: 0.8677\n",
      "Fault 3 - F1: 0.9348, Accuracy: 0.8776\n",
      "Fault 4 - F1: 0.9324, Accuracy: 0.8733\n",
      "Fault 5 - F1: 0.9350, Accuracy: 0.8780\n",
      "Fault 6 - F1: 0.9368, Accuracy: 0.8811\n",
      "Fault 7 - F1: 0.9351, Accuracy: 0.8782\n",
      "Fault 8 - F1: 0.9282, Accuracy: 0.8661\n",
      "Fault 9 - F1: 0.9998, Accuracy: 0.9997\n",
      "Fault 10 - F1: 0.9215, Accuracy: 0.8544\n",
      "Fault 11 - F1: 0.9379, Accuracy: 0.8832\n"
     ]
    },
    {
     "data": {
      "image/png": "[encoded data removed]",
      "text/plain": [
       "<Figure size 1500x700 with 1 Axes>"
      ]
     },
     "metadata": {},
     "output_type": "display_data"
    }
   ],
   "source": [
    "all_results[1] = {'f1': 0.9344, 'accuracy': 0.8769}\n",
    "all_results[2] = {'f1': 0.9291, 'accuracy': 0.8677}\n",
    "all_results[3] = {'f1': 0.9348, 'accuracy': 0.8776}\n",
    "all_results[4] = {'f1': 0.9324, 'accuracy': 0.8733}\n",
    "all_results[5] = {'f1': 0.9350, 'accuracy': 0.8780}\n",
    "all_results[6] = {'f1': 0.9368, 'accuracy': 0.8811}\n",
    "all_results[7] = {'f1': 0.9351, 'accuracy': 0.8782}\n",
    "all_results[8] = {'f1': 0.9282, 'accuracy': 0.8661}\n",
    "all_results[9] = {'f1': 0.9998, 'accuracy': 0.9997}\n",
    "all_results[10] = {'f1': 0.9215, 'accuracy': 0.8544}\n",
    "all_results[11] = {'f1': 0.9379, 'accuracy': 0.8832}\n",
    "\n",
    "for fault_type in [1, 2, 3, 4, 5, 6, 7, 8, 9, 10, 11]:  \n",
    "    if fault_type in all_results and 'f1' in all_results[fault_type]:\n",
    "        result = all_results[fault_type]\n",
    "        print(f\"Fault {fault_type} - F1: {result['f1']:.4f}, Accuracy: {result['accuracy']:.4f}\")\n",
    "        f1_scores.append(result['f1'])\n",
    "        accuracies.append(result['accuracy'])\n",
    "\n",
    "# Visualize F1 scores for different fault types\n",
    "plt.figure(figsize=(15, 7))\n",
    "fault_types = list(all_results.keys())\n",
    "f1_values = [result.get('f1', 0) if 'f1' in result else 0 for result in all_results.values()]\n",
    "    \n",
    "plt.bar(fault_types, f1_values)\n",
    "plt.title('F1 Score by Fault Type')\n",
    "plt.xlabel('Fault Type')\n",
    "plt.ylabel('F1 Score')\n",
    "plt.xticks(fault_types)\n",
    "plt.ylim(0, 1.0)\n",
    "plt.grid(True, axis='y', linestyle='--', alpha=0.7)\n",
    "plt.savefig('fault_comparison_f1.png')\n",
    "    \n",
    "# Visualize precision and recall for different fault types\n",
    "plt.figure(figsize=(15, 7))\n",
    "precision_values = [result.get('precision', 0) if 'precision' in result else 0 for result in all_results.values()]\n",
    "recall_values = [result.get('recall', 0) if 'recall' in result else 0 for result in all_results.values()]\n",
    "    \n",
    "x = np.arange(len(fault_types))\n",
    "width = 0.35\n",
    "    \n",
    "plt.bar(x - width/2, precision_values, width, label='Precision')\n",
    "plt.bar(x + width/2, recall_values, width, label='Recall')\n",
    "    \n",
    "plt.title('Precision and Recall by Fault Type')\n",
    "plt.xlabel('Fault Type')\n",
    "plt.ylabel('Score')\n",
    "plt.xticks(x, fault_types)\n",
    "plt.ylim(0, 1.0)\n",
    "plt.legend()\n",
    "plt.grid(True, axis='y', linestyle='--', alpha=0.7)\n",
    "plt.savefig('fault_comparison_precision_recall.png')\n",
    "    \n",
    "plt.close()"
   ]
  },
  {
   "cell_type": "markdown",
   "id": "28b7401c-85cd-4824-8373-53b2d2b42230",
   "metadata": {},
   "source": [
    "**From the images above, we can see that Fault 15 achieved very low F1 score and accuracy due to dataset peculiarities and extremely subtle anomalies. After removing Fault 15 and calculating the average, we can determine the average performance of the TransKal model for anomaly detection on the TEP dataset.**"
   ]
  },
  {
   "cell_type": "code",
   "execution_count": 18,
   "id": "0f686f92-e690-44b8-8bec-2d1ba8b4e802",
   "metadata": {},
   "outputs": [
    {
     "name": "stdout",
     "output_type": "stream",
     "text": [
      "\n",
      "Overall Performance:\n",
      "Average F1 Score: 0.9343\n",
      "Average Accuracy: 0.8771\n"
     ]
    }
   ],
   "source": [
    "if f1_scores:\n",
    "    filtered_f1_scores = [f1 for ft, f1 in zip(all_results.keys(), f1_scores) if ft != 15]\n",
    "    filtered_accuracies = [acc for ft, acc in zip(all_results.keys(), accuracies) if ft != 15]\n",
    "    \n",
    "    print(\"\\nOverall Performance:\")\n",
    "    print(f\"Average F1 Score: {np.mean(filtered_f1_scores):.4f}\")\n",
    "    print(f\"Average Accuracy: {np.mean(filtered_accuracies):.4f}\")"
   ]
  },
  {
   "cell_type": "code",
   "execution_count": null,
   "id": "392a0438-c966-4273-ac19-84c0489c8d89",
   "metadata": {},
   "outputs": [],
   "source": []
  }
 ],
 "metadata": {
  "kernelspec": {
   "display_name": "Python 3 (ipykernel)",
   "language": "python",
   "name": "python3"
  },
  "language_info": {
   "codemirror_mode": {
    "name": "ipython",
    "version": 3
   },
   "file_extension": ".py",
   "mimetype": "text/x-python",
   "name": "python",
   "nbconvert_exporter": "python",
   "pygments_lexer": "ipython3",
   "version": "3.9.0"
  }
 },
 "nbformat": 4,
 "nbformat_minor": 5
}
